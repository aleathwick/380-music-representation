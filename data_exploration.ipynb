{
 "cells": [
  {
   "cell_type": "code",
   "execution_count": 2,
   "metadata": {},
   "outputs": [
    {
     "data": {
      "text/plain": [
       "<module 'modules.mlClasses' from '/home/ubuntu/storage/380-music-representation/modules/mlClasses.py'>"
      ]
     },
     "execution_count": 2,
     "metadata": {},
     "output_type": "execute_result"
    }
   ],
   "source": [
    "from importlib import reload\n",
    "import json\n",
    "import pretty_midi\n",
    "import numpy as np\n",
    "import pandas as pd\n",
    "import matplotlib.pyplot as plt\n",
    "\n",
    "import modules.midiMethods as midiMethods\n",
    "reload(midiMethods)\n",
    "from modules.midiMethods import *\n",
    "\n",
    "import modules.dataMethods as dataMethods\n",
    "reload(dataMethods)\n",
    "from modules.dataMethods import *\n",
    "\n",
    "import modules.models as models\n",
    "reload(models)\n",
    "\n",
    "import modules.mlClasses as mlClasses\n",
    "reload(mlClasses)"
   ]
  },
  {
   "cell_type": "code",
   "execution_count": 7,
   "metadata": {},
   "outputs": [],
   "source": [
    "# if needed, read in filenames... specify if validation or test\n",
    "data_path = 'training_data/MaestroV2.00/maestro-v2.0.0/'\n",
    "maestro = pd.read_csv('training_data/maestro-v2.0.0withPeriod.csv', index_col=0)\n",
    "filenames = list(maestro[maestro['split'] == 'validation']['midi_filename'])"
   ]
  },
  {
   "cell_type": "code",
   "execution_count": 4,
   "metadata": {},
   "outputs": [],
   "source": [
    "# load data\n",
    "with open('training_data/oore_v1/oore_train.json', 'r') as f:\n",
    "    X_train = json.load(f)\n",
    "    \n",
    "with open('training_data/oore_v1/oore_val.json', 'r') as f:\n",
    "    X_val = json.load(f)"
   ]
  },
  {
   "cell_type": "code",
   "execution_count": 4,
   "metadata": {},
   "outputs": [
    {
     "data": {
      "image/png": "[encoded data removed]",
      "text/plain": [
       "<Figure size 432x288 with 1 Axes>"
      ]
     },
     "metadata": {
      "needs_background": "light"
     },
     "output_type": "display_data"
    }
   ],
   "source": [
    "import ast\n",
    "with open(f'models/nbmodel3/history120eStr.json', 'r') as f:\n",
    "    hist = ast.literal_eval(json.load(f))\n",
    "metric = 'loss'\n",
    "# print(hist)\n",
    "plt.plot(hist[metric])\n",
    "plt.plot(hist['val_' + metric])\n",
    "plt.title('model ' + metric)\n",
    "plt.ylabel(metric)\n",
    "plt.xlabel('epoch')\n",
    "plt.legend(['train', 'val'], loc='upper left')\n",
    "plt.show()"
   ]
  },
  {
   "cell_type": "code",
   "execution_count": null,
   "metadata": {},
   "outputs": [],
   "source": [
    "pm = \n",
    "metric = 'loss'\n",
    "# print(hist)\n",
    "plt.plot(hist['val_dense_1_' + metric])\n",
    "plt.plot(hist['val_dense_2_' + metric])\n",
    "plt.plot(hist['val_dense_3_' + metric])\n",
    "plt.plot(hist['val_dense_4_' + metric])\n",
    "plt.plot(hist['val_dense_5_' + metric])\n",
    "plt.plot(hist['val_dense_' + metric])\n",
    "plt.plot(hist['val_' + metric])\n",
    "plt.title('model ' + metric)\n",
    "plt.ylabel(metric)\n",
    "plt.xlabel('epoch')\n",
    "plt.legend(['train', 'val'], loc='upper left')\n",
    "plt.show()"
   ]
  },
  {
   "cell_type": "code",
   "execution_count": 9,
   "metadata": {},
   "outputs": [
    {
     "name": "stdout",
     "output_type": "stream",
     "text": [
      "file 0 of 137\n",
      "file 1 of 137\n",
      "file 2 of 137\n",
      "file 3 of 137\n",
      "file 4 of 137\n",
      "file 5 of 137\n",
      "file 6 of 137\n",
      "file 7 of 137\n",
      "file 8 of 137\n",
      "file 9 of 137\n",
      "file 10 of 137\n",
      "file 11 of 137\n",
      "file 12 of 137\n",
      "file 13 of 137\n",
      "file 14 of 137\n",
      "file 15 of 137\n",
      "file 16 of 137\n",
      "file 17 of 137\n",
      "file 18 of 137\n",
      "file 19 of 137\n",
      "file 20 of 137\n",
      "file 21 of 137\n",
      "file 22 of 137\n",
      "file 23 of 137\n",
      "file 24 of 137\n",
      "file 25 of 137\n",
      "file 26 of 137\n",
      "file 27 of 137\n",
      "file 28 of 137\n",
      "file 29 of 137\n",
      "file 30 of 137\n",
      "file 31 of 137\n",
      "file 32 of 137\n",
      "file 33 of 137\n",
      "file 34 of 137\n",
      "file 35 of 137\n",
      "file 36 of 137\n",
      "file 37 of 137\n",
      "file 38 of 137\n",
      "file 39 of 137\n",
      "file 40 of 137\n",
      "file 41 of 137\n",
      "file 42 of 137\n",
      "file 43 of 137\n",
      "file 44 of 137\n",
      "file 45 of 137\n",
      "file 46 of 137\n",
      "file 47 of 137\n",
      "file 48 of 137\n",
      "file 49 of 137\n",
      "file 50 of 137\n",
      "file 51 of 137\n",
      "file 52 of 137\n",
      "file 53 of 137\n",
      "file 54 of 137\n",
      "file 55 of 137\n",
      "file 56 of 137\n",
      "file 57 of 137\n",
      "file 58 of 137\n",
      "file 59 of 137\n",
      "file 60 of 137\n",
      "file 61 of 137\n",
      "file 62 of 137\n",
      "file 63 of 137\n",
      "file 64 of 137\n",
      "file 65 of 137\n",
      "file 66 of 137\n",
      "file 67 of 137\n",
      "file 68 of 137\n",
      "file 69 of 137\n",
      "file 70 of 137\n",
      "file 71 of 137\n",
      "file 72 of 137\n",
      "file 73 of 137\n",
      "file 74 of 137\n",
      "file 75 of 137\n",
      "file 76 of 137\n",
      "file 77 of 137\n",
      "file 78 of 137\n",
      "file 79 of 137\n",
      "file 80 of 137\n",
      "file 81 of 137\n",
      "file 82 of 137\n",
      "file 83 of 137\n",
      "file 84 of 137\n",
      "file 85 of 137\n",
      "file 86 of 137\n",
      "file 87 of 137\n",
      "file 88 of 137\n",
      "file 89 of 137\n",
      "file 90 of 137\n",
      "file 91 of 137\n",
      "file 92 of 137\n",
      "file 93 of 137\n",
      "file 94 of 137\n",
      "file 95 of 137\n",
      "file 96 of 137\n",
      "file 97 of 137\n",
      "file 98 of 137\n",
      "file 99 of 137\n",
      "file 100 of 137\n",
      "file 101 of 137\n",
      "file 102 of 137\n",
      "file 103 of 137\n",
      "file 104 of 137\n",
      "file 105 of 137\n",
      "file 106 of 137\n",
      "file 107 of 137\n",
      "file 108 of 137\n",
      "file 109 of 137\n",
      "file 110 of 137\n",
      "file 111 of 137\n",
      "file 112 of 137\n",
      "file 113 of 137\n",
      "file 114 of 137\n",
      "file 115 of 137\n",
      "file 116 of 137\n",
      "file 117 of 137\n",
      "file 118 of 137\n",
      "file 119 of 137\n",
      "file 120 of 137\n",
      "file 121 of 137\n",
      "file 122 of 137\n",
      "file 123 of 137\n",
      "file 124 of 137\n",
      "file 125 of 137\n",
      "file 126 of 137\n",
      "file 127 of 137\n",
      "file 128 of 137\n",
      "file 129 of 137\n",
      "file 130 of 137\n",
      "file 131 of 137\n",
      "file 132 of 137\n",
      "file 133 of 137\n",
      "file 134 of 137\n",
      "file 135 of 137\n",
      "file 136 of 137\n"
     ]
    }
   ],
   "source": [
    "# Graphing note lengths\n",
    "durations = []\n",
    "lengths = []\n",
    "for i in range(len(filenames)):\n",
    "    print(f'file {i} of {len(filenames)}')\n",
    "    pm = pretty_midi.PrettyMIDI(data_path + filenames[i])\n",
    "    sustain_only(pm)\n",
    "    desus(pm)\n",
    "    last_note_start = 0\n",
    "    for note in pm.instruments[0].notes:\n",
    "        lengths.append(note.end - note.start)\n",
    "    "
   ]
  },
  {
   "cell_type": "code",
   "execution_count": 17,
   "metadata": {},
   "outputs": [
    {
     "data": {
      "text/plain": [
       "639425"
      ]
     },
     "execution_count": 17,
     "metadata": {},
     "output_type": "execute_result"
    },
    {
     "data": {
      "image/png": "[encoded data removed]",
      "text/plain": [
       "<Figure size 432x288 with 1 Axes>"
      ]
     },
     "metadata": {
      "needs_background": "light"
     },
     "output_type": "display_data"
    }
   ],
   "source": [
    "plt.hist(lengths, bins=40)\n",
    "len(lengths)"
   ]
  }
 ],
 "metadata": {
  "kernelspec": {
   "display_name": "Python 3",
   "language": "python",
   "name": "python3"
  },
  "language_info": {
   "codemirror_mode": {
    "name": "ipython",
    "version": 3
   },
   "file_extension": ".py",
   "mimetype": "text/x-python",
   "name": "python",
   "nbconvert_exporter": "python",
   "pygments_lexer": "ipython3",
   "version": "3.7.6"
  }
 },
 "nbformat": 4,
 "nbformat_minor": 4
}
