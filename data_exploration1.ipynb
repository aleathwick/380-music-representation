{
 "cells": [
  {
   "cell_type": "code",
   "execution_count": 1,
   "metadata": {},
   "outputs": [],
   "source": [
    "from importlib import reload\n",
    "import json\n",
    "import pretty_midi\n",
    "import numpy as np\n",
    "import pandas as pd\n",
    "import tensorflow as tf\n",
    "from tensorflow.keras import layers"
   ]
  },
  {
   "cell_type": "code",
   "execution_count": 2,
   "metadata": {},
   "outputs": [
    {
     "name": "stdout",
     "output_type": "stream",
     "text": [
      "[name: \"/device:CPU:0\"\n",
      "device_type: \"CPU\"\n",
      "memory_limit: 268435456\n",
      "locality {\n",
      "}\n",
      "incarnation: 422091078071127324\n",
      ", name: \"/device:XLA_CPU:0\"\n",
      "device_type: \"XLA_CPU\"\n",
      "memory_limit: 17179869184\n",
      "locality {\n",
      "}\n",
      "incarnation: 13336856610618758248\n",
      "physical_device_desc: \"device: XLA_CPU device\"\n",
      ", name: \"/device:GPU:0\"\n",
      "device_type: \"GPU\"\n",
      "memory_limit: 5588779008\n",
      "locality {\n",
      "  bus_id: 1\n",
      "  links {\n",
      "  }\n",
      "}\n",
      "incarnation: 11742072890166847630\n",
      "physical_device_desc: \"device: 0, name: Tesla K20Xm, pci bus id: 0000:00:06.0, compute capability: 3.5\"\n",
      ", name: \"/device:XLA_GPU:0\"\n",
      "device_type: \"XLA_GPU\"\n",
      "memory_limit: 17179869184\n",
      "locality {\n",
      "}\n",
      "incarnation: 152799329061713978\n",
      "physical_device_desc: \"device: XLA_GPU device\"\n",
      "]\n"
     ]
    }
   ],
   "source": [
    "from tensorflow.python.client import device_lib\n",
    "print(device_lib.list_local_devices())"
   ]
  },
  {
   "cell_type": "code",
   "execution_count": 3,
   "metadata": {},
   "outputs": [],
   "source": [
    "try:\n",
    "    reload(midiMethods)\n",
    "    from modules.midiMethods import *\n",
    "except:\n",
    "    print('reload failed')\n",
    "    import modules.midiMethods as midiMethods\n",
    "    from modules.midiMethods import *\n",
    "try:\n",
    "    reload(dataMethods)\n",
    "    from modules.dataMethods import *\n",
    "except:\n",
    "    print('reload failed')\n",
    "    import modules.dataMethods as dataMethods\n",
    "    from modules.dataMethods import *\n",
    "import modules.mlClasses as mlClasses \n"
   ]
  },
  {
   "cell_type": "code",
   "execution_count": 37,
   "metadata": {},
   "outputs": [
    {
     "data": {
      "text/plain": [
       "<module 'modules.mlClasses' from 'C:\\\\Users\\\\Andrew\\\\Documents\\\\mlprojects\\\\380-music-representation\\\\modules\\\\mlClasses.py'>"
      ]
     },
     "execution_count": 37,
     "metadata": {},
     "output_type": "execute_result"
    }
   ],
   "source": [
    "import modules.models as models\n",
    "reload(models)\n",
    "import modules.mlClasses as mlClasses\n",
    "reload(mlClasses)"
   ]
  },
  {
   "cell_type": "code",
   "execution_count": 175,
   "metadata": {},
   "outputs": [
    {
     "name": "stdout",
     "output_type": "stream",
     "text": [
      "[[27, 0, 0, 3, 19, 27], [0, 0, 0, 3, 20, 28], [5, 3, 35, 3, 14, 25], [32, 0, 0, 3, 16, 26], [2, 3, 27, 0, 21, 17], [34, 0, 0, 1, 13, 19], [3, 0, 42, 0, 20, 11], [5, 0, 38, 0, 21, 11], [32, 0, 3, 1, 20, 13], [2, 0, 42, 0, 28, 9], [7, 0, 59, 2, 16, 8], [31, 0, 2, 2, 15, 5]]\n"
     ]
    }
   ],
   "source": [
    "# test out my function for going to note_bin representation\n",
    "pm = pretty_midi.PrettyMIDI('midi/basic_test.mid')\n",
    "noteB2 = pm2note_bin(pm)\n",
    "print(noteB2)"
   ]
  },
  {
   "cell_type": "code",
   "execution_count": 75,
   "metadata": {},
   "outputs": [],
   "source": [
    "# if needed, read in filenames...\n",
    "maestro = pd.read_csv('training_data/maestro-v2.0.0withPeriod.csv', index_col=0)\n",
    "filenames = list(maestro['midi_filename'])\n"
   ]
  },
  {
   "cell_type": "code",
   "execution_count": null,
   "metadata": {},
   "outputs": [],
   "source": [
    "# or process data set\n",
    "data_path = 'C:/Users\\Andrew/Documents/mlprojects/Datasets/MaestroV2.00/maestro-v2.0.0/'\n",
    "examples = files2note_bin_examples(data_path, skip=1)\n",
    "print(len(examples))"
   ]
  },
  {
   "cell_type": "code",
   "execution_count": 322,
   "metadata": {},
   "outputs": [],
   "source": [
    "# store examples in json format\n",
    "with open('training_data/training_data_note_bin_complete.json', 'w') as f:\n",
    "    json.dump(examples, f)"
   ]
  },
  {
   "cell_type": "code",
   "execution_count": 5,
   "metadata": {},
   "outputs": [],
   "source": [
    "# or read them in\n",
    "with open('training_data/training_data_note_bin_complete.json', 'r') as f:\n",
    "    examples = json.load(f)"
   ]
  },
  {
   "cell_type": "code",
   "execution_count": 38,
   "metadata": {},
   "outputs": [
    {
     "name": "stdout",
     "output_type": "stream",
     "text": [
      "Model: \"2layerLSTM\"\n",
      "__________________________________________________________________________________________________\n",
      "Layer (type)                    Output Shape         Param #     Connected to                     \n",
      "==================================================================================================\n",
      "input_4 (InputLayer)            [(None, 128, 6)]     0                                            \n",
      "__________________________________________________________________________________________________\n",
      "lambda_18 (Lambda)              (None, 128, 88)      0           input_4[0][0]                    \n",
      "__________________________________________________________________________________________________\n",
      "lambda_19 (Lambda)              (None, 128, 10)      0           input_4[0][0]                    \n",
      "__________________________________________________________________________________________________\n",
      "lambda_20 (Lambda)              (None, 128, 60)      0           input_4[0][0]                    \n",
      "__________________________________________________________________________________________________\n",
      "lambda_21 (Lambda)              (None, 128, 18)      0           input_4[0][0]                    \n",
      "__________________________________________________________________________________________________\n",
      "lambda_22 (Lambda)              (None, 128, 30)      0           input_4[0][0]                    \n",
      "__________________________________________________________________________________________________\n",
      "lambda_23 (Lambda)              (None, 128, 32)      0           input_4[0][0]                    \n",
      "__________________________________________________________________________________________________\n",
      "concatenate_3 (Concatenate)     (None, 128, 238)     0           lambda_18[0][0]                  \n",
      "                                                                 lambda_19[0][0]                  \n",
      "                                                                 lambda_20[0][0]                  \n",
      "                                                                 lambda_21[0][0]                  \n",
      "                                                                 lambda_22[0][0]                  \n",
      "                                                                 lambda_23[0][0]                  \n",
      "__________________________________________________________________________________________________\n",
      "lstm_3 (LSTM)                   (None, 128, 256)     506880      concatenate_3[0][0]              \n",
      "__________________________________________________________________________________________________\n",
      "lstm_4 (LSTM)                   (None, 128, 256)     525312      lstm_3[0][0]                     \n",
      "__________________________________________________________________________________________________\n",
      "dense_18 (Dense)                (None, 128, 88)      22616       lstm_4[0][0]                     \n",
      "__________________________________________________________________________________________________\n",
      "dense_19 (Dense)                (None, 128, 10)      2570        lstm_4[0][0]                     \n",
      "__________________________________________________________________________________________________\n",
      "dense_20 (Dense)                (None, 128, 60)      15420       lstm_4[0][0]                     \n",
      "__________________________________________________________________________________________________\n",
      "dense_21 (Dense)                (None, 128, 18)      4626        lstm_4[0][0]                     \n",
      "__________________________________________________________________________________________________\n",
      "dense_22 (Dense)                (None, 128, 30)      7710        lstm_4[0][0]                     \n",
      "__________________________________________________________________________________________________\n",
      "dense_23 (Dense)                (None, 128, 32)      8224        lstm_4[0][0]                     \n",
      "==================================================================================================\n",
      "Total params: 1,093,358\n",
      "Trainable params: 1,093,358\n",
      "Non-trainable params: 0\n",
      "__________________________________________________________________________________________________\n"
     ]
    }
   ],
   "source": [
    "# build simple model\n",
    "# excellent example of recurrent model here https://www.tensorflow.org/tutorials/text/text_generation\n",
    "hidden_state = 256\n",
    "lstm_layers = 2\n",
    "model2 = models.create_model1(hidden_state_size=hidden_state, lstm_layers=lstm_layers)\n",
    "training_generator = mlClasses.DataGenerator(examples)"
   ]
  },
  {
   "cell_type": "code",
   "execution_count": null,
   "metadata": {
    "scrolled": true
   },
   "outputs": [
    {
     "name": "stdout",
     "output_type": "stream",
     "text": [
      " 34/803 [>.............................] - ETA: 47:31 - loss: 15.5474 - dense_18_loss: 4.1541 - dense_19_loss: 0.3063 - dense_20_loss: 3.2233 - dense_21_loss: 1.4997 - dense_22_loss: 3.3131 - dense_23_loss: 3.0508 - dense_18_accuracy: 0.0242 - dense_19_accuracy: 0.9585 - dense_20_accuracy: 0.1783 - dense_21_accuracy: 0.5788 - dense_22_accuracy: 0.0956 - dense_23_accuracy: 0.0740"
     ]
    }
   ],
   "source": [
    "model2.compile(optimizer='Adam', loss='sparse_categorical_crossentropy', metrics=['accuracy'])\n",
    "# checkpoint = tf.keras.callbacks.ModelCheckpoint(\"weights/model1/{epoch:02d}-{train_loss:.2f}.hdf5\", monitor='train_loss', verbose=2, save_best_only=True, save_weights_only=True)\n",
    "history = model2.fit_generator(training_generator, epochs=1)\n",
    "model2.save_weights('weights/note_bin/model2_10epochs256state2layer.h5')"
   ]
  },
  {
   "cell_type": "code",
   "execution_count": 310,
   "metadata": {},
   "outputs": [
    {
     "data": {
      "text/plain": [
       "array([[28, 13, 13, ..., 13, 15, 14],\n",
       "       [14, 15, 22, ..., 11,  4, 25],\n",
       "       [17, 22, 18, ..., 18, 17, 10],\n",
       "       ...,\n",
       "       [11, 11, 29, ..., 13,  3,  2],\n",
       "       [ 0, 29, 28, ..., 17, 11,  9],\n",
       "       [ 9,  8,  3, ..., 29, 29, 29]])"
      ]
     },
     "execution_count": 310,
     "metadata": {},
     "output_type": "execute_result"
    }
   ],
   "source": [
    "[Y[:,:,i] for i in range(6)][4]"
   ]
  },
  {
   "cell_type": "code",
   "execution_count": 31,
   "metadata": {},
   "outputs": [],
   "source": [
    "# This works just like this:\n",
    "try:\n",
    "    reload(models)\n",
    "except:\n",
    "    print('reload failed')\n",
    "    import modules.models as models"
   ]
  },
  {
   "cell_type": "code",
   "execution_count": 8,
   "metadata": {},
   "outputs": [
    {
     "name": "stdout",
     "output_type": "stream",
     "text": [
      "Model: \"1layerLSTM\"\n",
      "__________________________________________________________________________________________________\n",
      "Layer (type)                    Output Shape         Param #     Connected to                     \n",
      "==================================================================================================\n",
      "input_2 (InputLayer)            [(1, 128, 6)]        0                                            \n",
      "__________________________________________________________________________________________________\n",
      "lambda_6 (Lambda)               (1, 128, 88)         0           input_2[0][0]                    \n",
      "__________________________________________________________________________________________________\n",
      "lambda_7 (Lambda)               (1, 128, 10)         0           input_2[0][0]                    \n",
      "__________________________________________________________________________________________________\n",
      "lambda_8 (Lambda)               (1, 128, 60)         0           input_2[0][0]                    \n",
      "__________________________________________________________________________________________________\n",
      "lambda_9 (Lambda)               (1, 128, 18)         0           input_2[0][0]                    \n",
      "__________________________________________________________________________________________________\n",
      "lambda_10 (Lambda)              (1, 128, 30)         0           input_2[0][0]                    \n",
      "__________________________________________________________________________________________________\n",
      "lambda_11 (Lambda)              (1, 128, 32)         0           input_2[0][0]                    \n",
      "__________________________________________________________________________________________________\n",
      "concatenate_1 (Concatenate)     (1, 128, 238)        0           lambda_6[0][0]                   \n",
      "                                                                 lambda_7[0][0]                   \n",
      "                                                                 lambda_8[0][0]                   \n",
      "                                                                 lambda_9[0][0]                   \n",
      "                                                                 lambda_10[0][0]                  \n",
      "                                                                 lambda_11[0][0]                  \n",
      "__________________________________________________________________________________________________\n",
      "lstm_1 (LSTM)                   (1, 128, 256)        506880      concatenate_1[0][0]              \n",
      "__________________________________________________________________________________________________\n",
      "dense_6 (Dense)                 (1, 128, 88)         22616       lstm_1[0][0]                     \n",
      "__________________________________________________________________________________________________\n",
      "dense_7 (Dense)                 (1, 128, 10)         2570        lstm_1[0][0]                     \n",
      "__________________________________________________________________________________________________\n",
      "dense_8 (Dense)                 (1, 128, 60)         15420       lstm_1[0][0]                     \n",
      "__________________________________________________________________________________________________\n",
      "dense_9 (Dense)                 (1, 128, 18)         4626        lstm_1[0][0]                     \n",
      "__________________________________________________________________________________________________\n",
      "dense_10 (Dense)                (1, 128, 30)         7710        lstm_1[0][0]                     \n",
      "__________________________________________________________________________________________________\n",
      "dense_11 (Dense)                (1, 128, 32)         8224        lstm_1[0][0]                     \n",
      "==================================================================================================\n",
      "Total params: 568,046\n",
      "Trainable params: 568,046\n",
      "Non-trainable params: 0\n",
      "__________________________________________________________________________________________________\n"
     ]
    }
   ],
   "source": [
    "# tf.train.latest_checkpoint('weights\\first_attempt')\n",
    "\n",
    "prediction_model = models.create_model1(batch_size=1, stateful=True, hidden_state_size=hidden_state)"
   ]
  },
  {
   "cell_type": "code",
   "execution_count": 33,
   "metadata": {},
   "outputs": [
    {
     "name": "stdout",
     "output_type": "stream",
     "text": [
      "tf.Tensor([[[44  0  5  3  3 20]]], shape=(1, 1, 6), dtype=int32)\n",
      "[[44, 0, 5, 3, 3, 20], [23, 3, 31, 14, 10, 10], [50, 0, 15, 10, 16, 17], [11, 5, 37, 4, 4, 7], [75, 4, 3, 13, 10, 17], [27, 9, 55, 7, 20, 5], [3, 6, 37, 10, 8, 19], [35, 9, 18, 9, 14, 7], [66, 4, 55, 6, 23, 11], [34, 5, 29, 0, 12, 9], [54, 1, 39, 0, 26, 21], [38, 0, 33, 3, 20, 28], [76, 0, 27, 5, 6, 1], [2, 0, 34, 17, 5, 20], [65, 0, 8, 12, 17, 25], [68, 2, 9, 0, 18, 12], [52, 8, 14, 13, 7, 16], [17, 0, 19, 6, 4, 1], [67, 0, 1, 4, 25, 13], [42, 0, 28, 2, 13, 11], [73, 8, 25, 0, 9, 12], [43, 0, 6, 14, 10, 26], [1, 8, 47, 11, 29, 29], [74, 5, 23, 16, 17, 14], [19, 4, 45, 13, 27, 11], [61, 1, 57, 0, 6, 25], [71, 8, 14, 10, 14, 11], [18, 2, 18, 10, 21, 22], [14, 0, 58, 7, 27, 31], [31, 5, 11, 3, 15, 31], [36, 7, 30, 15, 15, 6], [11, 0, 7, 15, 23, 25], [20, 6, 21, 2, 17, 21], [7, 6, 38, 13, 24, 7], [15, 3, 52, 4, 22, 2], [27, 3, 14, 6, 19, 18], [60, 6, 32, 9, 22, 9], [36, 0, 3, 2, 8, 27], [10, 8, 6, 16, 13, 20], [62, 0, 44, 0, 29, 18], [56, 0, 9, 7, 2, 29], [1, 0, 9, 11, 20, 20], [62, 0, 24, 8, 25, 8], [52, 0, 51, 11, 9, 18], [68, 0, 46, 4, 24, 26], [31, 5, 14, 4, 24, 11], [67, 0, 54, 14, 26, 1], [60, 2, 13, 10, 17, 4], [34, 7, 54, 10, 19, 18], [5, 7, 43, 4, 20, 23], [29, 9, 11, 3, 20, 25], [68, 4, 24, 3, 24, 14], [68, 8, 48, 7, 6, 2], [58, 2, 27, 16, 28, 30], [81, 7, 57, 12, 20, 5], [77, 2, 23, 10, 29, 2], [21, 5, 2, 17, 8, 9], [11, 7, 10, 0, 17, 2], [5, 0, 49, 1, 26, 9], [68, 0, 32, 10, 0, 27], [71, 0, 43, 8, 7, 28], [30, 0, 50, 17, 22, 7], [82, 6, 55, 17, 19, 19], [11, 2, 31, 8, 4, 1], [45, 8, 44, 4, 20, 5], [79, 0, 14, 4, 23, 13], [61, 4, 29, 4, 12, 6], [42, 0, 12, 2, 22, 4], [28, 5, 23, 1, 17, 25], [42, 0, 37, 1, 0, 18], [16, 0, 40, 17, 27, 21], [56, 1, 1, 7, 16, 24], [38, 9, 4, 7, 5, 16], [53, 3, 29, 17, 3, 20], [81, 4, 28, 2, 16, 5], [44, 7, 42, 12, 24, 19], [19, 9, 12, 16, 21, 15], [46, 1, 15, 9, 2, 18], [32, 9, 41, 16, 24, 23], [44, 9, 23, 15, 22, 30], [41, 1, 59, 5, 20, 5], [76, 8, 38, 3, 22, 17], [57, 3, 7, 13, 27, 4], [26, 9, 3, 0, 26, 31], [31, 9, 9, 7, 5, 18], [71, 9, 8, 5, 5, 0], [19, 3, 58, 4, 22, 16], [52, 3, 58, 16, 5, 24], [32, 1, 34, 17, 17, 10], [38, 0, 13, 15, 20, 0], [17, 2, 51, 3, 26, 16], [61, 5, 25, 7, 17, 29], [3, 4, 21, 13, 25, 16], [70, 8, 55, 14, 11, 4], [84, 0, 49, 7, 8, 14], [80, 1, 47, 5, 7, 19], [45, 3, 45, 12, 18, 13], [54, 2, 25, 1, 18, 6], [71, 4, 30, 17, 20, 14], [68, 0, 47, 2, 13, 22], [36, 5, 10, 2, 5, 0], [57, 4, 54, 10, 16, 20], [32, 0, 17, 12, 26, 20], [28, 0, 29, 12, 6, 21], [80, 1, 23, 0, 24, 17], [83, 8, 54, 8, 15, 9], [22, 9, 9, 1, 11, 6], [10, 0, 13, 1, 20, 8], [60, 0, 43, 0, 15, 0], [45, 3, 1, 1, 5, 16], [16, 1, 28, 2, 21, 31], [14, 0, 41, 6, 19, 27], [76, 1, 24, 2, 19, 30], [74, 8, 55, 17, 4, 18], [59, 4, 18, 1, 11, 31], [7, 1, 48, 6, 2, 21], [23, 2, 0, 9, 14, 21], [37, 0, 39, 8, 21, 2], [41, 0, 25, 6, 29, 27], [20, 5, 51, 9, 1, 24], [45, 0, 46, 6, 0, 9], [26, 4, 14, 0, 6, 19], [26, 0, 10, 10, 16, 15], [29, 3, 51, 5, 3, 16], [9, 0, 42, 2, 18, 1], [53, 0, 48, 13, 12, 7], [30, 0, 58, 6, 18, 11], [24, 0, 16, 1, 19, 2], [28, 0, 57, 15, 13, 9]]\n"
     ]
    }
   ],
   "source": [
    "prediction_model.load_weights('weights/note_bin/model2_10epochs256state.h5')\n",
    "temperatures = [2.2, 0.4, 0.5, 0.5, 0.5, 0.5]\n",
    "input_note = [44,0,5,3,3,20]\n",
    "new_seq = models.generate_music(prediction_model, temperatures, input_note)\n",
    "ns = [[int(a) for a in note] for note in new_seq]\n",
    "print(ns)\n",
    "pm = note_bin2pm(ns)\n",
    "pm.write(f'midi/model2/{temperatures}b.mid')"
   ]
  },
  {
   "cell_type": "code",
   "execution_count": 440,
   "metadata": {},
   "outputs": [],
   "source": [
    "\n"
   ]
  }
 ],
 "metadata": {
  "kernelspec": {
   "display_name": "Python 3",
   "language": "python",
   "name": "python3"
  },
  "language_info": {
   "codemirror_mode": {
    "name": "ipython",
    "version": 3
   },
   "file_extension": ".py",
   "mimetype": "text/x-python",
   "name": "python",
   "nbconvert_exporter": "python",
   "pygments_lexer": "ipython3",
   "version": "3.7.1"
  }
 },
 "nbformat": 4,
 "nbformat_minor": 2
}
