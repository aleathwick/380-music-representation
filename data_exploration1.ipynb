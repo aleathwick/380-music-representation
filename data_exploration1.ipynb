{
 "cells": [
  {
   "cell_type": "code",
   "execution_count": 1,
   "metadata": {},
   "outputs": [],
   "source": [
    "from importlib import reload\n",
    "import pretty_midi\n",
    "import numpy as np\n",
    "import pandas as pd\n",
    "import tensorflow as tf\n",
    "from tensorflow.keras import layers"
   ]
  },
  {
   "cell_type": "code",
   "execution_count": 107,
   "metadata": {},
   "outputs": [],
   "source": [
    "try:\n",
    "    reload(midiMethods)\n",
    "    from modules.midiMethods import *\n",
    "except:\n",
    "    import modules.midiMethods as midiMethods\n",
    "    from modules.midiMethods import *\n",
    "try:\n",
    "    reload(dataMethods)\n",
    "    from modules.dataMethods import *\n",
    "except:\n",
    "    import modules.dataMethods as dataMethods\n",
    "    from modules.dataMethods import *"
   ]
  },
  {
   "cell_type": "code",
   "execution_count": 67,
   "metadata": {},
   "outputs": [],
   "source": [
    "# test out my function for going to note_bin representation\n",
    "pm = pretty_midi.PrettyMIDI('midi/basic_test.mid')\n",
    "noteB2 = pm2note_bin(pm)\n",
    "print(noteB2)\n",
    "pm2 = note_bin2pm(noteB2)\n",
    "pm2.write('midi/basic_test_tested.mid')"
   ]
  },
  {
   "cell_type": "code",
   "execution_count": 75,
   "metadata": {},
   "outputs": [],
   "source": []
  },
  {
   "cell_type": "code",
   "execution_count": 74,
   "metadata": {},
   "outputs": [
    {
     "name": "stdout",
     "output_type": "stream",
     "text": [
      "[[27, 0.0, 0.0, 2.0, 17.0, 27], [0, 0.0, 0.0, 2.0, 19.0, 28], [5, 2.0, 15.0, 2.0, 9.0, 25], [32, 0.0, 0.0, 2.0, 13.0, 26], [2, 2.0, 7.0, 0.0, 42.0, 17], [34, 0.0, 0.0, 0.0, 87.0, 19], [3, 0.0, 42.0, 0.0, 40.0, 11], [5, 0.0, 38.0, 0.0, 42.0, 11], [32, 0.0, 3.0, 1.0, 0.0, 13], [2, 0.0, 42.0, 0.0, 57.0, 9], [7, 0.0, 59.0, 1.0, 52.0, 8], [31, 0.0, 2.0, 1.0, 49.0, 5]]\n"
     ]
    }
   ],
   "source": []
  },
  {
   "cell_type": "code",
   "execution_count": 112,
   "metadata": {},
   "outputs": [
    {
     "name": "stdout",
     "output_type": "stream",
     "text": [
      "2.17\n",
      "2.19\n",
      "2.09\n",
      "2.13\n",
      "0.42\n",
      "0.87\n",
      "0.4\n",
      "0.42\n",
      "1.0\n",
      "0.57\n",
      "1.52\n",
      "1.49\n"
     ]
    }
   ],
   "source": [
    "\n"
   ]
  },
  {
   "cell_type": "code",
   "execution_count": 111,
   "metadata": {
    "scrolled": false
   },
   "outputs": [
    {
     "data": {
      "text/plain": [
       "array([0.        , 0.01127142, 0.02253909, ..., 0.        , 0.        ,\n",
       "       0.        ])"
      ]
     },
     "execution_count": 111,
     "metadata": {},
     "output_type": "execute_result"
    }
   ],
   "source": []
  }
 ],
 "metadata": {
  "kernelspec": {
   "display_name": "Python 3",
   "language": "python",
   "name": "python3"
  },
  "language_info": {
   "codemirror_mode": {
    "name": "ipython",
    "version": 3
   },
   "file_extension": ".py",
   "mimetype": "text/x-python",
   "name": "python",
   "nbconvert_exporter": "python",
   "pygments_lexer": "ipython3",
   "version": "3.7.1"
  }
 },
 "nbformat": 4,
 "nbformat_minor": 2
}
