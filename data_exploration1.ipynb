{
 "cells": [
  {
   "cell_type": "code",
   "execution_count": 26,
   "metadata": {},
   "outputs": [
    {
     "name": "stderr",
     "output_type": "stream",
     "text": [
      "Matplotlib is building the font cache using fc-list. This may take a moment.\n"
     ]
    }
   ],
   "source": [
    "from importlib import reload\n",
    "import json\n",
    "import pretty_midi\n",
    "import numpy as np\n",
    "import pandas as pd\n",
    "import matplotlib.pyplot as plt\n",
    "import tensorflow as tf\n",
    "from tensorflow.keras import layers"
   ]
  },
  {
   "cell_type": "code",
   "execution_count": 2,
   "metadata": {},
   "outputs": [
    {
     "name": "stdout",
     "output_type": "stream",
     "text": [
      "[name: \"/device:CPU:0\"\n",
      "device_type: \"CPU\"\n",
      "memory_limit: 268435456\n",
      "locality {\n",
      "}\n",
      "incarnation: 422091078071127324\n",
      ", name: \"/device:XLA_CPU:0\"\n",
      "device_type: \"XLA_CPU\"\n",
      "memory_limit: 17179869184\n",
      "locality {\n",
      "}\n",
      "incarnation: 13336856610618758248\n",
      "physical_device_desc: \"device: XLA_CPU device\"\n",
      ", name: \"/device:GPU:0\"\n",
      "device_type: \"GPU\"\n",
      "memory_limit: 5588779008\n",
      "locality {\n",
      "  bus_id: 1\n",
      "  links {\n",
      "  }\n",
      "}\n",
      "incarnation: 11742072890166847630\n",
      "physical_device_desc: \"device: 0, name: Tesla K20Xm, pci bus id: 0000:00:06.0, compute capability: 3.5\"\n",
      ", name: \"/device:XLA_GPU:0\"\n",
      "device_type: \"XLA_GPU\"\n",
      "memory_limit: 17179869184\n",
      "locality {\n",
      "}\n",
      "incarnation: 152799329061713978\n",
      "physical_device_desc: \"device: XLA_GPU device\"\n",
      "]\n"
     ]
    }
   ],
   "source": [
    "from tensorflow.python.client import device_lib\n",
    "print(device_lib.list_local_devices())"
   ]
  },
  {
   "cell_type": "code",
   "execution_count": 5,
   "metadata": {},
   "outputs": [],
   "source": [
    "try:\n",
    "    reload(midiMethods)\n",
    "    from modules.midiMethods import *\n",
    "except:\n",
    "    print('reload failed')\n",
    "    import modules.midiMethods as midiMethods\n",
    "    from modules.midiMethods import *\n",
    "try:\n",
    "    reload(dataMethods)\n",
    "    from modules.dataMethods import *\n",
    "except:\n",
    "    print('reload failed')\n",
    "    import modules.dataMethods as dataMethods\n",
    "    from modules.dataMethods import *\n",
    "import modules.mlClasses as mlClasses\n"
   ]
  },
  {
   "cell_type": "code",
   "execution_count": 6,
   "metadata": {},
   "outputs": [
    {
     "data": {
      "text/plain": [
       "<module 'modules.mlClasses' from '/home/ubuntu/music-ml/380-music-representation/modules/mlClasses.py'>"
      ]
     },
     "execution_count": 6,
     "metadata": {},
     "output_type": "execute_result"
    }
   ],
   "source": [
    "import modules.models as models\n",
    "reload(models)\n",
    "import modules.mlClasses as mlClasses\n",
    "reload(mlClasses)"
   ]
  },
  {
   "cell_type": "code",
   "execution_count": 75,
   "metadata": {},
   "outputs": [],
   "source": [
    "# if needed, read in filenames...\n",
    "maestro = pd.read_csv('training_data/maestro-v2.0.0withPeriod.csv', index_col=0)\n",
    "filenames = list(maestro['midi_filename'])"
   ]
  },
  {
   "cell_type": "code",
   "execution_count": null,
   "metadata": {},
   "outputs": [],
   "source": [
    "# or process data set\n",
    "data_path = 'C:/Users\\Andrew/Documents/mlprojects/Datasets/MaestroV2.00/maestro-v2.0.0/'\n",
    "examples = files2note_bin_examples(data_path, skip=1, speed=0.9)\n",
    "print(len(examples))"
   ]
  },
  {
   "cell_type": "code",
   "execution_count": 322,
   "metadata": {},
   "outputs": [],
   "source": [
    "# store examples in json format\n",
    "with open('training_data/training_data_note_bin_complete.json', 'w') as f:\n",
    "    json.dump(examples, f)"
   ]
  },
  {
   "cell_type": "code",
   "execution_count": 7,
   "metadata": {},
   "outputs": [],
   "source": [
    "# or read them in\n",
    "with open('training_data/training_data_note_bin_complete.json', 'r') as f:\n",
    "    examples = json.load(f)"
   ]
  },
  {
   "cell_type": "code",
   "execution_count": 8,
   "metadata": {},
   "outputs": [
    {
     "name": "stdout",
     "output_type": "stream",
     "text": [
      "Model: \"2layerLSTM\"\n",
      "__________________________________________________________________________________________________\n",
      "Layer (type)                    Output Shape         Param #     Connected to                     \n",
      "==================================================================================================\n",
      "input_1 (InputLayer)            [(None, 128, 6)]     0                                            \n",
      "__________________________________________________________________________________________________\n",
      "lambda (Lambda)                 (None, 128, 88)      0           input_1[0][0]                    \n",
      "__________________________________________________________________________________________________\n",
      "lambda_1 (Lambda)               (None, 128, 10)      0           input_1[0][0]                    \n",
      "__________________________________________________________________________________________________\n",
      "lambda_2 (Lambda)               (None, 128, 60)      0           input_1[0][0]                    \n",
      "__________________________________________________________________________________________________\n",
      "lambda_3 (Lambda)               (None, 128, 18)      0           input_1[0][0]                    \n",
      "__________________________________________________________________________________________________\n",
      "lambda_4 (Lambda)               (None, 128, 30)      0           input_1[0][0]                    \n",
      "__________________________________________________________________________________________________\n",
      "lambda_5 (Lambda)               (None, 128, 32)      0           input_1[0][0]                    \n",
      "__________________________________________________________________________________________________\n",
      "concatenate (Concatenate)       (None, 128, 238)     0           lambda[0][0]                     \n",
      "                                                                 lambda_1[0][0]                   \n",
      "                                                                 lambda_2[0][0]                   \n",
      "                                                                 lambda_3[0][0]                   \n",
      "                                                                 lambda_4[0][0]                   \n",
      "                                                                 lambda_5[0][0]                   \n",
      "__________________________________________________________________________________________________\n",
      "lstm (LSTM)                     (None, 128, 256)     506880      concatenate[0][0]                \n",
      "__________________________________________________________________________________________________\n",
      "lstm_1 (LSTM)                   (None, 128, 256)     525312      lstm[0][0]                       \n",
      "__________________________________________________________________________________________________\n",
      "dense (Dense)                   (None, 128, 88)      22616       lstm_1[0][0]                     \n",
      "__________________________________________________________________________________________________\n",
      "dense_1 (Dense)                 (None, 128, 10)      2570        lstm_1[0][0]                     \n",
      "__________________________________________________________________________________________________\n",
      "dense_2 (Dense)                 (None, 128, 60)      15420       lstm_1[0][0]                     \n",
      "__________________________________________________________________________________________________\n",
      "dense_3 (Dense)                 (None, 128, 18)      4626        lstm_1[0][0]                     \n",
      "__________________________________________________________________________________________________\n",
      "dense_4 (Dense)                 (None, 128, 30)      7710        lstm_1[0][0]                     \n",
      "__________________________________________________________________________________________________\n",
      "dense_5 (Dense)                 (None, 128, 32)      8224        lstm_1[0][0]                     \n",
      "==================================================================================================\n",
      "Total params: 1,093,358\n",
      "Trainable params: 1,093,358\n",
      "Non-trainable params: 0\n",
      "__________________________________________________________________________________________________\n"
     ]
    }
   ],
   "source": [
    "# build simple model\n",
    "# excellent example of recurrent model here https://www.tensorflow.org/tutorials/text/text_generation\n",
    "hidden_state = 256\n",
    "lstm_layers = 2\n",
    "model2 = models.create_model1(hidden_state_size=hidden_state, lstm_layers=lstm_layers)\n",
    "training_generator = mlClasses.DataGenerator(examples)"
   ]
  },
  {
   "cell_type": "code",
   "execution_count": 54,
   "metadata": {
    "scrolled": true
   },
   "outputs": [
    {
     "name": "stdout",
     "output_type": "stream",
     "text": [
      "Epoch 1/10\n",
      " 48/803 [>.............................] - ETA: 2:48 - loss: 9.9842 - dense_loss: 2.6868 - dense_1_loss: 0.0442 - dense_2_loss: 2.2681 - dense_3_loss: 0.3712 - dense_4_loss: 2.2444 - dense_5_loss: 2.3696 - dense_accuracy: 0.2767 - dense_1_accuracy: 0.9873 - dense_2_accuracy: 0.2811 - dense_3_accuracy: 0.8807 - dense_4_accuracy: 0.3067 - dense_5_accuracy: 0.1825"
     ]
    },
    {
     "ename": "KeyboardInterrupt",
     "evalue": "",
     "output_type": "error",
     "traceback": [
      "\u001b[0;31m---------------------------------------------------------------------------\u001b[0m",
      "\u001b[0;31mKeyboardInterrupt\u001b[0m                         Traceback (most recent call last)",
      "\u001b[0;32m<ipython-input-54-3f1ef1746ff8>\u001b[0m in \u001b[0;36m<module>\u001b[0;34m\u001b[0m\n\u001b[1;32m      1\u001b[0m \u001b[0mmodel2\u001b[0m\u001b[0;34m.\u001b[0m\u001b[0mcompile\u001b[0m\u001b[0;34m(\u001b[0m\u001b[0moptimizer\u001b[0m\u001b[0;34m=\u001b[0m\u001b[0;34m'Adam'\u001b[0m\u001b[0;34m,\u001b[0m \u001b[0mloss\u001b[0m\u001b[0;34m=\u001b[0m\u001b[0;34m'sparse_categorical_crossentropy'\u001b[0m\u001b[0;34m,\u001b[0m \u001b[0mmetrics\u001b[0m\u001b[0;34m=\u001b[0m\u001b[0;34m[\u001b[0m\u001b[0;34m'accuracy'\u001b[0m\u001b[0;34m]\u001b[0m\u001b[0;34m)\u001b[0m\u001b[0;34m\u001b[0m\u001b[0;34m\u001b[0m\u001b[0m\n\u001b[1;32m      2\u001b[0m \u001b[0;31m# checkpoint = tf.keras.callbacks.ModelCheckpoint(\"weights/model1/{epoch:02d}-{train_loss:.2f}.hdf5\", monitor='train_loss', verbose=2, save_best_only=True, save_weights_only=True)\u001b[0m\u001b[0;34m\u001b[0m\u001b[0;34m\u001b[0m\u001b[0;34m\u001b[0m\u001b[0m\n\u001b[0;32m----> 3\u001b[0;31m \u001b[0mhistory\u001b[0m \u001b[0;34m=\u001b[0m \u001b[0mmodel2\u001b[0m\u001b[0;34m.\u001b[0m\u001b[0mfit_generator\u001b[0m\u001b[0;34m(\u001b[0m\u001b[0mtraining_generator\u001b[0m\u001b[0;34m,\u001b[0m \u001b[0mepochs\u001b[0m\u001b[0;34m=\u001b[0m\u001b[0;36m10\u001b[0m\u001b[0;34m)\u001b[0m\u001b[0;34m\u001b[0m\u001b[0;34m\u001b[0m\u001b[0m\n\u001b[0m\u001b[1;32m      4\u001b[0m \u001b[0mmodel2\u001b[0m\u001b[0;34m.\u001b[0m\u001b[0msave_weights\u001b[0m\u001b[0;34m(\u001b[0m\u001b[0;34m'weights/note_bin/model2_10epochs256state2layer.h5'\u001b[0m\u001b[0;34m)\u001b[0m\u001b[0;34m\u001b[0m\u001b[0;34m\u001b[0m\u001b[0m\n",
      "\u001b[0;32m~/anaconda3/envs/music/lib/python3.7/site-packages/tensorflow_core/python/keras/engine/training.py\u001b[0m in \u001b[0;36mfit_generator\u001b[0;34m(self, generator, steps_per_epoch, epochs, verbose, callbacks, validation_data, validation_steps, validation_freq, class_weight, max_queue_size, workers, use_multiprocessing, shuffle, initial_epoch)\u001b[0m\n\u001b[1;32m   1295\u001b[0m         \u001b[0mshuffle\u001b[0m\u001b[0;34m=\u001b[0m\u001b[0mshuffle\u001b[0m\u001b[0;34m,\u001b[0m\u001b[0;34m\u001b[0m\u001b[0;34m\u001b[0m\u001b[0m\n\u001b[1;32m   1296\u001b[0m         \u001b[0minitial_epoch\u001b[0m\u001b[0;34m=\u001b[0m\u001b[0minitial_epoch\u001b[0m\u001b[0;34m,\u001b[0m\u001b[0;34m\u001b[0m\u001b[0;34m\u001b[0m\u001b[0m\n\u001b[0;32m-> 1297\u001b[0;31m         steps_name='steps_per_epoch')\n\u001b[0m\u001b[1;32m   1298\u001b[0m \u001b[0;34m\u001b[0m\u001b[0m\n\u001b[1;32m   1299\u001b[0m   def evaluate_generator(self,\n",
      "\u001b[0;32m~/anaconda3/envs/music/lib/python3.7/site-packages/tensorflow_core/python/keras/engine/training_generator.py\u001b[0m in \u001b[0;36mmodel_iteration\u001b[0;34m(model, data, steps_per_epoch, epochs, verbose, callbacks, validation_data, validation_steps, validation_freq, class_weight, max_queue_size, workers, use_multiprocessing, shuffle, initial_epoch, mode, batch_size, steps_name, **kwargs)\u001b[0m\n\u001b[1;32m    263\u001b[0m \u001b[0;34m\u001b[0m\u001b[0m\n\u001b[1;32m    264\u001b[0m       \u001b[0mis_deferred\u001b[0m \u001b[0;34m=\u001b[0m \u001b[0;32mnot\u001b[0m \u001b[0mmodel\u001b[0m\u001b[0;34m.\u001b[0m\u001b[0m_is_compiled\u001b[0m\u001b[0;34m\u001b[0m\u001b[0;34m\u001b[0m\u001b[0m\n\u001b[0;32m--> 265\u001b[0;31m       \u001b[0mbatch_outs\u001b[0m \u001b[0;34m=\u001b[0m \u001b[0mbatch_function\u001b[0m\u001b[0;34m(\u001b[0m\u001b[0;34m*\u001b[0m\u001b[0mbatch_data\u001b[0m\u001b[0;34m)\u001b[0m\u001b[0;34m\u001b[0m\u001b[0;34m\u001b[0m\u001b[0m\n\u001b[0m\u001b[1;32m    266\u001b[0m       \u001b[0;32mif\u001b[0m \u001b[0;32mnot\u001b[0m \u001b[0misinstance\u001b[0m\u001b[0;34m(\u001b[0m\u001b[0mbatch_outs\u001b[0m\u001b[0;34m,\u001b[0m \u001b[0mlist\u001b[0m\u001b[0;34m)\u001b[0m\u001b[0;34m:\u001b[0m\u001b[0;34m\u001b[0m\u001b[0;34m\u001b[0m\u001b[0m\n\u001b[1;32m    267\u001b[0m         \u001b[0mbatch_outs\u001b[0m \u001b[0;34m=\u001b[0m \u001b[0;34m[\u001b[0m\u001b[0mbatch_outs\u001b[0m\u001b[0;34m]\u001b[0m\u001b[0;34m\u001b[0m\u001b[0;34m\u001b[0m\u001b[0m\n",
      "\u001b[0;32m~/anaconda3/envs/music/lib/python3.7/site-packages/tensorflow_core/python/keras/engine/training.py\u001b[0m in \u001b[0;36mtrain_on_batch\u001b[0;34m(self, x, y, sample_weight, class_weight, reset_metrics)\u001b[0m\n\u001b[1;32m    971\u001b[0m       outputs = training_v2_utils.train_on_batch(\n\u001b[1;32m    972\u001b[0m           \u001b[0mself\u001b[0m\u001b[0;34m,\u001b[0m \u001b[0mx\u001b[0m\u001b[0;34m,\u001b[0m \u001b[0my\u001b[0m\u001b[0;34m=\u001b[0m\u001b[0my\u001b[0m\u001b[0;34m,\u001b[0m \u001b[0msample_weight\u001b[0m\u001b[0;34m=\u001b[0m\u001b[0msample_weight\u001b[0m\u001b[0;34m,\u001b[0m\u001b[0;34m\u001b[0m\u001b[0;34m\u001b[0m\u001b[0m\n\u001b[0;32m--> 973\u001b[0;31m           class_weight=class_weight, reset_metrics=reset_metrics)\n\u001b[0m\u001b[1;32m    974\u001b[0m       outputs = (outputs['total_loss'] + outputs['output_losses'] +\n\u001b[1;32m    975\u001b[0m                  outputs['metrics'])\n",
      "\u001b[0;32m~/anaconda3/envs/music/lib/python3.7/site-packages/tensorflow_core/python/keras/engine/training_v2_utils.py\u001b[0m in \u001b[0;36mtrain_on_batch\u001b[0;34m(model, x, y, sample_weight, class_weight, reset_metrics)\u001b[0m\n\u001b[1;32m    262\u001b[0m       \u001b[0my\u001b[0m\u001b[0;34m,\u001b[0m\u001b[0;34m\u001b[0m\u001b[0;34m\u001b[0m\u001b[0m\n\u001b[1;32m    263\u001b[0m       \u001b[0msample_weights\u001b[0m\u001b[0;34m=\u001b[0m\u001b[0msample_weights\u001b[0m\u001b[0;34m,\u001b[0m\u001b[0;34m\u001b[0m\u001b[0;34m\u001b[0m\u001b[0m\n\u001b[0;32m--> 264\u001b[0;31m       output_loss_metrics=model._output_loss_metrics)\n\u001b[0m\u001b[1;32m    265\u001b[0m \u001b[0;34m\u001b[0m\u001b[0m\n\u001b[1;32m    266\u001b[0m   \u001b[0;32mif\u001b[0m \u001b[0mreset_metrics\u001b[0m\u001b[0;34m:\u001b[0m\u001b[0;34m\u001b[0m\u001b[0;34m\u001b[0m\u001b[0m\n",
      "\u001b[0;32m~/anaconda3/envs/music/lib/python3.7/site-packages/tensorflow_core/python/keras/engine/training_eager.py\u001b[0m in \u001b[0;36mtrain_on_batch\u001b[0;34m(model, inputs, targets, sample_weights, output_loss_metrics)\u001b[0m\n\u001b[1;32m    313\u001b[0m     \u001b[0mouts\u001b[0m \u001b[0;34m=\u001b[0m \u001b[0;34m[\u001b[0m\u001b[0mouts\u001b[0m\u001b[0;34m]\u001b[0m\u001b[0;34m\u001b[0m\u001b[0;34m\u001b[0m\u001b[0m\n\u001b[1;32m    314\u001b[0m   metrics_results = _eager_metrics_fn(\n\u001b[0;32m--> 315\u001b[0;31m       model, outs, targets, sample_weights=sample_weights, masks=masks)\n\u001b[0m\u001b[1;32m    316\u001b[0m   \u001b[0mtotal_loss\u001b[0m \u001b[0;34m=\u001b[0m \u001b[0mnest\u001b[0m\u001b[0;34m.\u001b[0m\u001b[0mflatten\u001b[0m\u001b[0;34m(\u001b[0m\u001b[0mtotal_loss\u001b[0m\u001b[0;34m)\u001b[0m\u001b[0;34m\u001b[0m\u001b[0;34m\u001b[0m\u001b[0m\n\u001b[1;32m    317\u001b[0m   return {'total_loss': total_loss,\n",
      "\u001b[0;32m~/anaconda3/envs/music/lib/python3.7/site-packages/tensorflow_core/python/keras/engine/training_eager.py\u001b[0m in \u001b[0;36m_eager_metrics_fn\u001b[0;34m(model, outputs, targets, sample_weights, masks)\u001b[0m\n\u001b[1;32m     72\u001b[0m         \u001b[0mmasks\u001b[0m\u001b[0;34m=\u001b[0m\u001b[0mmasks\u001b[0m\u001b[0;34m,\u001b[0m\u001b[0;34m\u001b[0m\u001b[0;34m\u001b[0m\u001b[0m\n\u001b[1;32m     73\u001b[0m         \u001b[0mreturn_weighted_and_unweighted_metrics\u001b[0m\u001b[0;34m=\u001b[0m\u001b[0;32mTrue\u001b[0m\u001b[0;34m,\u001b[0m\u001b[0;34m\u001b[0m\u001b[0;34m\u001b[0m\u001b[0m\n\u001b[0;32m---> 74\u001b[0;31m         skip_target_masks=model._prepare_skip_target_masks())\n\u001b[0m\u001b[1;32m     75\u001b[0m \u001b[0;34m\u001b[0m\u001b[0m\n\u001b[1;32m     76\u001b[0m   \u001b[0;31m# Add metric results from the `add_metric` metrics.\u001b[0m\u001b[0;34m\u001b[0m\u001b[0;34m\u001b[0m\u001b[0;34m\u001b[0m\u001b[0m\n",
      "\u001b[0;32m~/anaconda3/envs/music/lib/python3.7/site-packages/tensorflow_core/python/keras/engine/training.py\u001b[0m in \u001b[0;36m_handle_metrics\u001b[0;34m(self, outputs, targets, skip_target_masks, sample_weights, masks, return_weighted_metrics, return_weighted_and_unweighted_metrics)\u001b[0m\n\u001b[1;32m   2061\u001b[0m           metric_results.extend(\n\u001b[1;32m   2062\u001b[0m               self._handle_per_output_metrics(self._per_output_metrics[i],\n\u001b[0;32m-> 2063\u001b[0;31m                                               target, output, output_mask))\n\u001b[0m\u001b[1;32m   2064\u001b[0m         \u001b[0;32mif\u001b[0m \u001b[0mreturn_weighted_and_unweighted_metrics\u001b[0m \u001b[0;32mor\u001b[0m \u001b[0mreturn_weighted_metrics\u001b[0m\u001b[0;34m:\u001b[0m\u001b[0;34m\u001b[0m\u001b[0;34m\u001b[0m\u001b[0m\n\u001b[1;32m   2065\u001b[0m           metric_results.extend(\n",
      "\u001b[0;32m~/anaconda3/envs/music/lib/python3.7/site-packages/tensorflow_core/python/keras/engine/training.py\u001b[0m in \u001b[0;36m_handle_per_output_metrics\u001b[0;34m(self, metrics_dict, y_true, y_pred, mask, weights)\u001b[0m\n\u001b[1;32m   2012\u001b[0m       \u001b[0;32mwith\u001b[0m \u001b[0mK\u001b[0m\u001b[0;34m.\u001b[0m\u001b[0mname_scope\u001b[0m\u001b[0;34m(\u001b[0m\u001b[0mmetric_name\u001b[0m\u001b[0;34m)\u001b[0m\u001b[0;34m:\u001b[0m\u001b[0;34m\u001b[0m\u001b[0;34m\u001b[0m\u001b[0m\n\u001b[1;32m   2013\u001b[0m         metric_result = training_utils.call_metric_function(\n\u001b[0;32m-> 2014\u001b[0;31m             metric_fn, y_true, y_pred, weights=weights, mask=mask)\n\u001b[0m\u001b[1;32m   2015\u001b[0m         \u001b[0mmetric_results\u001b[0m\u001b[0;34m.\u001b[0m\u001b[0mappend\u001b[0m\u001b[0;34m(\u001b[0m\u001b[0mmetric_result\u001b[0m\u001b[0;34m)\u001b[0m\u001b[0;34m\u001b[0m\u001b[0;34m\u001b[0m\u001b[0m\n\u001b[1;32m   2016\u001b[0m     \u001b[0;32mreturn\u001b[0m \u001b[0mmetric_results\u001b[0m\u001b[0;34m\u001b[0m\u001b[0;34m\u001b[0m\u001b[0m\n",
      "\u001b[0;32m~/anaconda3/envs/music/lib/python3.7/site-packages/tensorflow_core/python/keras/engine/training_utils.py\u001b[0m in \u001b[0;36mcall_metric_function\u001b[0;34m(metric_fn, y_true, y_pred, weights, mask)\u001b[0m\n\u001b[1;32m   1065\u001b[0m \u001b[0;34m\u001b[0m\u001b[0m\n\u001b[1;32m   1066\u001b[0m   \u001b[0;32mif\u001b[0m \u001b[0my_pred\u001b[0m \u001b[0;32mis\u001b[0m \u001b[0;32mnot\u001b[0m \u001b[0;32mNone\u001b[0m\u001b[0;34m:\u001b[0m\u001b[0;34m\u001b[0m\u001b[0;34m\u001b[0m\u001b[0m\n\u001b[0;32m-> 1067\u001b[0;31m     \u001b[0;32mreturn\u001b[0m \u001b[0mmetric_fn\u001b[0m\u001b[0;34m(\u001b[0m\u001b[0my_true\u001b[0m\u001b[0;34m,\u001b[0m \u001b[0my_pred\u001b[0m\u001b[0;34m,\u001b[0m \u001b[0msample_weight\u001b[0m\u001b[0;34m=\u001b[0m\u001b[0mweights\u001b[0m\u001b[0;34m)\u001b[0m\u001b[0;34m\u001b[0m\u001b[0;34m\u001b[0m\u001b[0m\n\u001b[0m\u001b[1;32m   1068\u001b[0m   \u001b[0;31m# `Mean` metric only takes a single value.\u001b[0m\u001b[0;34m\u001b[0m\u001b[0;34m\u001b[0m\u001b[0;34m\u001b[0m\u001b[0m\n\u001b[1;32m   1069\u001b[0m   \u001b[0;32mreturn\u001b[0m \u001b[0mmetric_fn\u001b[0m\u001b[0;34m(\u001b[0m\u001b[0my_true\u001b[0m\u001b[0;34m,\u001b[0m \u001b[0msample_weight\u001b[0m\u001b[0;34m=\u001b[0m\u001b[0mweights\u001b[0m\u001b[0;34m)\u001b[0m\u001b[0;34m\u001b[0m\u001b[0;34m\u001b[0m\u001b[0m\n",
      "\u001b[0;32m~/anaconda3/envs/music/lib/python3.7/site-packages/tensorflow_core/python/keras/metrics.py\u001b[0m in \u001b[0;36m__call__\u001b[0;34m(self, *args, **kwargs)\u001b[0m\n\u001b[1;32m    191\u001b[0m     \u001b[0;32mfrom\u001b[0m \u001b[0mtensorflow\u001b[0m\u001b[0;34m.\u001b[0m\u001b[0mpython\u001b[0m\u001b[0;34m.\u001b[0m\u001b[0mkeras\u001b[0m\u001b[0;34m.\u001b[0m\u001b[0mdistribute\u001b[0m \u001b[0;32mimport\u001b[0m \u001b[0mdistributed_training_utils\u001b[0m  \u001b[0;31m# pylint:disable=g-import-not-at-top\u001b[0m\u001b[0;34m\u001b[0m\u001b[0;34m\u001b[0m\u001b[0m\n\u001b[1;32m    192\u001b[0m     return distributed_training_utils.call_replica_local_fn(\n\u001b[0;32m--> 193\u001b[0;31m         replica_local_fn, *args, **kwargs)\n\u001b[0m\u001b[1;32m    194\u001b[0m \u001b[0;34m\u001b[0m\u001b[0m\n\u001b[1;32m    195\u001b[0m   \u001b[0;34m@\u001b[0m\u001b[0mproperty\u001b[0m\u001b[0;34m\u001b[0m\u001b[0;34m\u001b[0m\u001b[0m\n",
      "\u001b[0;32m~/anaconda3/envs/music/lib/python3.7/site-packages/tensorflow_core/python/keras/distribute/distributed_training_utils.py\u001b[0m in \u001b[0;36mcall_replica_local_fn\u001b[0;34m(fn, *args, **kwargs)\u001b[0m\n\u001b[1;32m   1133\u001b[0m     \u001b[0;32mwith\u001b[0m \u001b[0mstrategy\u001b[0m\u001b[0;34m.\u001b[0m\u001b[0mscope\u001b[0m\u001b[0;34m(\u001b[0m\u001b[0;34m)\u001b[0m\u001b[0;34m:\u001b[0m\u001b[0;34m\u001b[0m\u001b[0;34m\u001b[0m\u001b[0m\n\u001b[1;32m   1134\u001b[0m       \u001b[0;32mreturn\u001b[0m \u001b[0mstrategy\u001b[0m\u001b[0;34m.\u001b[0m\u001b[0mextended\u001b[0m\u001b[0;34m.\u001b[0m\u001b[0mcall_for_each_replica\u001b[0m\u001b[0;34m(\u001b[0m\u001b[0mfn\u001b[0m\u001b[0;34m,\u001b[0m \u001b[0margs\u001b[0m\u001b[0;34m,\u001b[0m \u001b[0mkwargs\u001b[0m\u001b[0;34m)\u001b[0m\u001b[0;34m\u001b[0m\u001b[0;34m\u001b[0m\u001b[0m\n\u001b[0;32m-> 1135\u001b[0;31m   \u001b[0;32mreturn\u001b[0m \u001b[0mfn\u001b[0m\u001b[0;34m(\u001b[0m\u001b[0;34m*\u001b[0m\u001b[0margs\u001b[0m\u001b[0;34m,\u001b[0m \u001b[0;34m**\u001b[0m\u001b[0mkwargs\u001b[0m\u001b[0;34m)\u001b[0m\u001b[0;34m\u001b[0m\u001b[0;34m\u001b[0m\u001b[0m\n\u001b[0m\u001b[1;32m   1136\u001b[0m \u001b[0;34m\u001b[0m\u001b[0m\n\u001b[1;32m   1137\u001b[0m \u001b[0;34m\u001b[0m\u001b[0m\n",
      "\u001b[0;32m~/anaconda3/envs/music/lib/python3.7/site-packages/tensorflow_core/python/keras/metrics.py\u001b[0m in \u001b[0;36mreplica_local_fn\u001b[0;34m(*args, **kwargs)\u001b[0m\n\u001b[1;32m    174\u001b[0m     \u001b[0;32mdef\u001b[0m \u001b[0mreplica_local_fn\u001b[0m\u001b[0;34m(\u001b[0m\u001b[0;34m*\u001b[0m\u001b[0margs\u001b[0m\u001b[0;34m,\u001b[0m \u001b[0;34m**\u001b[0m\u001b[0mkwargs\u001b[0m\u001b[0;34m)\u001b[0m\u001b[0;34m:\u001b[0m\u001b[0;34m\u001b[0m\u001b[0;34m\u001b[0m\u001b[0m\n\u001b[1;32m    175\u001b[0m       \u001b[0;34m\"\"\"Updates the state of the metric in a replica-local context.\"\"\"\u001b[0m\u001b[0;34m\u001b[0m\u001b[0;34m\u001b[0m\u001b[0m\n\u001b[0;32m--> 176\u001b[0;31m       \u001b[0mupdate_op\u001b[0m \u001b[0;34m=\u001b[0m \u001b[0mself\u001b[0m\u001b[0;34m.\u001b[0m\u001b[0mupdate_state\u001b[0m\u001b[0;34m(\u001b[0m\u001b[0;34m*\u001b[0m\u001b[0margs\u001b[0m\u001b[0;34m,\u001b[0m \u001b[0;34m**\u001b[0m\u001b[0mkwargs\u001b[0m\u001b[0;34m)\u001b[0m  \u001b[0;31m# pylint: disable=not-callable\u001b[0m\u001b[0;34m\u001b[0m\u001b[0;34m\u001b[0m\u001b[0m\n\u001b[0m\u001b[1;32m    177\u001b[0m       \u001b[0;32mwith\u001b[0m \u001b[0mops\u001b[0m\u001b[0;34m.\u001b[0m\u001b[0mcontrol_dependencies\u001b[0m\u001b[0;34m(\u001b[0m\u001b[0;34m[\u001b[0m\u001b[0mupdate_op\u001b[0m\u001b[0;34m]\u001b[0m\u001b[0;34m)\u001b[0m\u001b[0;34m:\u001b[0m\u001b[0;34m\u001b[0m\u001b[0;34m\u001b[0m\u001b[0m\n\u001b[1;32m    178\u001b[0m         \u001b[0mresult_t\u001b[0m \u001b[0;34m=\u001b[0m \u001b[0mself\u001b[0m\u001b[0;34m.\u001b[0m\u001b[0mresult\u001b[0m\u001b[0;34m(\u001b[0m\u001b[0;34m)\u001b[0m  \u001b[0;31m# pylint: disable=not-callable\u001b[0m\u001b[0;34m\u001b[0m\u001b[0;34m\u001b[0m\u001b[0m\n",
      "\u001b[0;32m~/anaconda3/envs/music/lib/python3.7/site-packages/tensorflow_core/python/keras/utils/metrics_utils.py\u001b[0m in \u001b[0;36mdecorated\u001b[0;34m(metric_obj, *args, **kwargs)\u001b[0m\n\u001b[1;32m     73\u001b[0m \u001b[0;34m\u001b[0m\u001b[0m\n\u001b[1;32m     74\u001b[0m     \u001b[0;32mwith\u001b[0m \u001b[0mtf_utils\u001b[0m\u001b[0;34m.\u001b[0m\u001b[0mgraph_context_for_symbolic_tensors\u001b[0m\u001b[0;34m(\u001b[0m\u001b[0;34m*\u001b[0m\u001b[0margs\u001b[0m\u001b[0;34m,\u001b[0m \u001b[0;34m**\u001b[0m\u001b[0mkwargs\u001b[0m\u001b[0;34m)\u001b[0m\u001b[0;34m:\u001b[0m\u001b[0;34m\u001b[0m\u001b[0;34m\u001b[0m\u001b[0m\n\u001b[0;32m---> 75\u001b[0;31m       \u001b[0mupdate_op\u001b[0m \u001b[0;34m=\u001b[0m \u001b[0mupdate_state_fn\u001b[0m\u001b[0;34m(\u001b[0m\u001b[0;34m*\u001b[0m\u001b[0margs\u001b[0m\u001b[0;34m,\u001b[0m \u001b[0;34m**\u001b[0m\u001b[0mkwargs\u001b[0m\u001b[0;34m)\u001b[0m\u001b[0;34m\u001b[0m\u001b[0;34m\u001b[0m\u001b[0m\n\u001b[0m\u001b[1;32m     76\u001b[0m     \u001b[0;32mif\u001b[0m \u001b[0mupdate_op\u001b[0m \u001b[0;32mis\u001b[0m \u001b[0;32mnot\u001b[0m \u001b[0;32mNone\u001b[0m\u001b[0;34m:\u001b[0m  \u001b[0;31m# update_op will be None in eager execution.\u001b[0m\u001b[0;34m\u001b[0m\u001b[0;34m\u001b[0m\u001b[0m\n\u001b[1;32m     77\u001b[0m       \u001b[0mmetric_obj\u001b[0m\u001b[0;34m.\u001b[0m\u001b[0madd_update\u001b[0m\u001b[0;34m(\u001b[0m\u001b[0mupdate_op\u001b[0m\u001b[0;34m)\u001b[0m\u001b[0;34m\u001b[0m\u001b[0;34m\u001b[0m\u001b[0m\n",
      "\u001b[0;32m~/anaconda3/envs/music/lib/python3.7/site-packages/tensorflow_core/python/keras/metrics.py\u001b[0m in \u001b[0;36mupdate_state\u001b[0;34m(self, y_true, y_pred, sample_weight)\u001b[0m\n\u001b[1;32m    571\u001b[0m       \u001b[0mUpdate\u001b[0m \u001b[0mop\u001b[0m\u001b[0;34m.\u001b[0m\u001b[0;34m\u001b[0m\u001b[0;34m\u001b[0m\u001b[0m\n\u001b[1;32m    572\u001b[0m     \"\"\"\n\u001b[0;32m--> 573\u001b[0;31m     \u001b[0my_true\u001b[0m \u001b[0;34m=\u001b[0m \u001b[0mmath_ops\u001b[0m\u001b[0;34m.\u001b[0m\u001b[0mcast\u001b[0m\u001b[0;34m(\u001b[0m\u001b[0my_true\u001b[0m\u001b[0;34m,\u001b[0m \u001b[0mself\u001b[0m\u001b[0;34m.\u001b[0m\u001b[0m_dtype\u001b[0m\u001b[0;34m)\u001b[0m\u001b[0;34m\u001b[0m\u001b[0;34m\u001b[0m\u001b[0m\n\u001b[0m\u001b[1;32m    574\u001b[0m     \u001b[0my_pred\u001b[0m \u001b[0;34m=\u001b[0m \u001b[0mmath_ops\u001b[0m\u001b[0;34m.\u001b[0m\u001b[0mcast\u001b[0m\u001b[0;34m(\u001b[0m\u001b[0my_pred\u001b[0m\u001b[0;34m,\u001b[0m \u001b[0mself\u001b[0m\u001b[0;34m.\u001b[0m\u001b[0m_dtype\u001b[0m\u001b[0;34m)\u001b[0m\u001b[0;34m\u001b[0m\u001b[0;34m\u001b[0m\u001b[0m\n\u001b[1;32m    575\u001b[0m     \u001b[0;34m[\u001b[0m\u001b[0my_true\u001b[0m\u001b[0;34m,\u001b[0m \u001b[0my_pred\u001b[0m\u001b[0;34m]\u001b[0m\u001b[0;34m,\u001b[0m \u001b[0msample_weight\u001b[0m \u001b[0;34m=\u001b[0m\u001b[0;31m \u001b[0m\u001b[0;31m\\\u001b[0m\u001b[0;34m\u001b[0m\u001b[0;34m\u001b[0m\u001b[0m\n",
      "\u001b[0;32m~/anaconda3/envs/music/lib/python3.7/site-packages/tensorflow_core/python/util/dispatch.py\u001b[0m in \u001b[0;36mwrapper\u001b[0;34m(*args, **kwargs)\u001b[0m\n\u001b[1;32m    178\u001b[0m     \u001b[0;34m\"\"\"Call target, and fall back on dispatchers if there is a TypeError.\"\"\"\u001b[0m\u001b[0;34m\u001b[0m\u001b[0;34m\u001b[0m\u001b[0m\n\u001b[1;32m    179\u001b[0m     \u001b[0;32mtry\u001b[0m\u001b[0;34m:\u001b[0m\u001b[0;34m\u001b[0m\u001b[0;34m\u001b[0m\u001b[0m\n\u001b[0;32m--> 180\u001b[0;31m       \u001b[0;32mreturn\u001b[0m \u001b[0mtarget\u001b[0m\u001b[0;34m(\u001b[0m\u001b[0;34m*\u001b[0m\u001b[0margs\u001b[0m\u001b[0;34m,\u001b[0m \u001b[0;34m**\u001b[0m\u001b[0mkwargs\u001b[0m\u001b[0;34m)\u001b[0m\u001b[0;34m\u001b[0m\u001b[0;34m\u001b[0m\u001b[0m\n\u001b[0m\u001b[1;32m    181\u001b[0m     \u001b[0;32mexcept\u001b[0m \u001b[0;34m(\u001b[0m\u001b[0mTypeError\u001b[0m\u001b[0;34m,\u001b[0m \u001b[0mValueError\u001b[0m\u001b[0;34m)\u001b[0m\u001b[0;34m:\u001b[0m\u001b[0;34m\u001b[0m\u001b[0;34m\u001b[0m\u001b[0m\n\u001b[1;32m    182\u001b[0m       \u001b[0;31m# Note: convert_to_eager_tensor currently raises a ValueError, not a\u001b[0m\u001b[0;34m\u001b[0m\u001b[0;34m\u001b[0m\u001b[0;34m\u001b[0m\u001b[0m\n",
      "\u001b[0;32m~/anaconda3/envs/music/lib/python3.7/site-packages/tensorflow_core/python/ops/math_ops.py\u001b[0m in \u001b[0;36mcast\u001b[0;34m(x, dtype, name)\u001b[0m\n\u001b[1;32m    702\u001b[0m       \u001b[0mx\u001b[0m \u001b[0;34m=\u001b[0m \u001b[0mops\u001b[0m\u001b[0;34m.\u001b[0m\u001b[0mconvert_to_tensor\u001b[0m\u001b[0;34m(\u001b[0m\u001b[0mx\u001b[0m\u001b[0;34m,\u001b[0m \u001b[0mname\u001b[0m\u001b[0;34m=\u001b[0m\u001b[0;34m\"x\"\u001b[0m\u001b[0;34m)\u001b[0m\u001b[0;34m\u001b[0m\u001b[0;34m\u001b[0m\u001b[0m\n\u001b[1;32m    703\u001b[0m       \u001b[0;32mif\u001b[0m \u001b[0mx\u001b[0m\u001b[0;34m.\u001b[0m\u001b[0mdtype\u001b[0m\u001b[0;34m.\u001b[0m\u001b[0mbase_dtype\u001b[0m \u001b[0;34m!=\u001b[0m \u001b[0mbase_type\u001b[0m\u001b[0;34m:\u001b[0m\u001b[0;34m\u001b[0m\u001b[0;34m\u001b[0m\u001b[0m\n\u001b[0;32m--> 704\u001b[0;31m         \u001b[0mx\u001b[0m \u001b[0;34m=\u001b[0m \u001b[0mgen_math_ops\u001b[0m\u001b[0;34m.\u001b[0m\u001b[0mcast\u001b[0m\u001b[0;34m(\u001b[0m\u001b[0mx\u001b[0m\u001b[0;34m,\u001b[0m \u001b[0mbase_type\u001b[0m\u001b[0;34m,\u001b[0m \u001b[0mname\u001b[0m\u001b[0;34m=\u001b[0m\u001b[0mname\u001b[0m\u001b[0;34m)\u001b[0m\u001b[0;34m\u001b[0m\u001b[0;34m\u001b[0m\u001b[0m\n\u001b[0m\u001b[1;32m    705\u001b[0m     \u001b[0;32mif\u001b[0m \u001b[0mx\u001b[0m\u001b[0;34m.\u001b[0m\u001b[0mdtype\u001b[0m\u001b[0;34m.\u001b[0m\u001b[0mis_complex\u001b[0m \u001b[0;32mand\u001b[0m \u001b[0mbase_type\u001b[0m\u001b[0;34m.\u001b[0m\u001b[0mis_floating\u001b[0m\u001b[0;34m:\u001b[0m\u001b[0;34m\u001b[0m\u001b[0;34m\u001b[0m\u001b[0m\n\u001b[1;32m    706\u001b[0m       \u001b[0mlogging\u001b[0m\u001b[0;34m.\u001b[0m\u001b[0mwarn\u001b[0m\u001b[0;34m(\u001b[0m\u001b[0;34m\"Casting complex to real discards imaginary part.\"\u001b[0m\u001b[0;34m)\u001b[0m\u001b[0;34m\u001b[0m\u001b[0;34m\u001b[0m\u001b[0m\n",
      "\u001b[0;32m~/anaconda3/envs/music/lib/python3.7/site-packages/tensorflow_core/python/ops/gen_math_ops.py\u001b[0m in \u001b[0;36mcast\u001b[0;34m(x, DstT, Truncate, name)\u001b[0m\n\u001b[1;32m   2197\u001b[0m         \u001b[0m_ctx\u001b[0m\u001b[0;34m.\u001b[0m\u001b[0m_context_handle\u001b[0m\u001b[0;34m,\u001b[0m \u001b[0m_ctx\u001b[0m\u001b[0;34m.\u001b[0m\u001b[0m_thread_local_data\u001b[0m\u001b[0;34m.\u001b[0m\u001b[0mdevice_name\u001b[0m\u001b[0;34m,\u001b[0m \u001b[0;34m\"Cast\"\u001b[0m\u001b[0;34m,\u001b[0m\u001b[0;34m\u001b[0m\u001b[0;34m\u001b[0m\u001b[0m\n\u001b[1;32m   2198\u001b[0m         \u001b[0mname\u001b[0m\u001b[0;34m,\u001b[0m \u001b[0m_ctx\u001b[0m\u001b[0;34m.\u001b[0m\u001b[0m_post_execution_callbacks\u001b[0m\u001b[0;34m,\u001b[0m \u001b[0mx\u001b[0m\u001b[0;34m,\u001b[0m \u001b[0;34m\"DstT\"\u001b[0m\u001b[0;34m,\u001b[0m \u001b[0mDstT\u001b[0m\u001b[0;34m,\u001b[0m \u001b[0;34m\"Truncate\"\u001b[0m\u001b[0;34m,\u001b[0m\u001b[0;34m\u001b[0m\u001b[0;34m\u001b[0m\u001b[0m\n\u001b[0;32m-> 2199\u001b[0;31m         Truncate)\n\u001b[0m\u001b[1;32m   2200\u001b[0m       \u001b[0;32mreturn\u001b[0m \u001b[0m_result\u001b[0m\u001b[0;34m\u001b[0m\u001b[0;34m\u001b[0m\u001b[0m\n\u001b[1;32m   2201\u001b[0m     \u001b[0;32mexcept\u001b[0m \u001b[0m_core\u001b[0m\u001b[0;34m.\u001b[0m\u001b[0m_FallbackException\u001b[0m\u001b[0;34m:\u001b[0m\u001b[0;34m\u001b[0m\u001b[0;34m\u001b[0m\u001b[0m\n",
      "\u001b[0;31mKeyboardInterrupt\u001b[0m: "
     ]
    }
   ],
   "source": [
    "model2.compile(optimizer='Adam', loss='sparse_categorical_crossentropy', metrics=['accuracy'])\n",
    "# checkpoint = tf.keras.callbacks.ModelCheckpoint(\"weights/model1/{epoch:02d}-{train_loss:.2f}.hdf5\", monitor='train_loss', verbose=2, save_best_only=True, save_weights_only=True)\n",
    "history = model2.fit_generator(training_generator, epochs=10)\n",
    "model2.save_weights('weights/note_bin/model2_10epochs256state2layer.h5')"
   ]
  },
  {
   "cell_type": "code",
   "execution_count": 45,
   "metadata": {},
   "outputs": [
    {
     "data": {
      "text/plain": [
       "<module 'modules.models' from '/home/ubuntu/music-ml/380-music-representation/modules/models.py'>"
      ]
     },
     "execution_count": 45,
     "metadata": {},
     "output_type": "execute_result"
    }
   ],
   "source": [
    "# This works just like this:\n",
    "import modules.models as models\n",
    "reload(models)    "
   ]
  },
  {
   "cell_type": "code",
   "execution_count": 14,
   "metadata": {},
   "outputs": [
    {
     "name": "stdout",
     "output_type": "stream",
     "text": [
      "Model: \"2layerLSTM\"\n",
      "__________________________________________________________________________________________________\n",
      "Layer (type)                    Output Shape         Param #     Connected to                     \n",
      "==================================================================================================\n",
      "input_4 (InputLayer)            [(1, 128, 6)]        0                                            \n",
      "__________________________________________________________________________________________________\n",
      "lambda_18 (Lambda)              (1, 128, 88)         0           input_4[0][0]                    \n",
      "__________________________________________________________________________________________________\n",
      "lambda_19 (Lambda)              (1, 128, 10)         0           input_4[0][0]                    \n",
      "__________________________________________________________________________________________________\n",
      "lambda_20 (Lambda)              (1, 128, 60)         0           input_4[0][0]                    \n",
      "__________________________________________________________________________________________________\n",
      "lambda_21 (Lambda)              (1, 128, 18)         0           input_4[0][0]                    \n",
      "__________________________________________________________________________________________________\n",
      "lambda_22 (Lambda)              (1, 128, 30)         0           input_4[0][0]                    \n",
      "__________________________________________________________________________________________________\n",
      "lambda_23 (Lambda)              (1, 128, 32)         0           input_4[0][0]                    \n",
      "__________________________________________________________________________________________________\n",
      "concatenate_3 (Concatenate)     (1, 128, 238)        0           lambda_18[0][0]                  \n",
      "                                                                 lambda_19[0][0]                  \n",
      "                                                                 lambda_20[0][0]                  \n",
      "                                                                 lambda_21[0][0]                  \n",
      "                                                                 lambda_22[0][0]                  \n",
      "                                                                 lambda_23[0][0]                  \n",
      "__________________________________________________________________________________________________\n",
      "lstm_5 (LSTM)                   (1, 128, 256)        506880      concatenate_3[0][0]              \n",
      "__________________________________________________________________________________________________\n",
      "lstm_6 (LSTM)                   (1, 128, 256)        525312      lstm_5[0][0]                     \n",
      "__________________________________________________________________________________________________\n",
      "dense_18 (Dense)                (1, 128, 88)         22616       lstm_6[0][0]                     \n",
      "__________________________________________________________________________________________________\n",
      "dense_19 (Dense)                (1, 128, 10)         2570        lstm_6[0][0]                     \n",
      "__________________________________________________________________________________________________\n",
      "dense_20 (Dense)                (1, 128, 60)         15420       lstm_6[0][0]                     \n",
      "__________________________________________________________________________________________________\n",
      "dense_21 (Dense)                (1, 128, 18)         4626        lstm_6[0][0]                     \n",
      "__________________________________________________________________________________________________\n",
      "dense_22 (Dense)                (1, 128, 30)         7710        lstm_6[0][0]                     \n",
      "__________________________________________________________________________________________________\n",
      "dense_23 (Dense)                (1, 128, 32)         8224        lstm_6[0][0]                     \n",
      "==================================================================================================\n",
      "Total params: 1,093,358\n",
      "Trainable params: 1,093,358\n",
      "Non-trainable params: 0\n",
      "__________________________________________________________________________________________________\n"
     ]
    }
   ],
   "source": [
    "# tf.train.latest_checkpoint('weights\\first_attempt')\n",
    "prediction_model = models.create_model1(batch_size=1, stateful=True, hidden_state_size=hidden_state, lstm_layers=lstm_layers)"
   ]
  },
  {
   "cell_type": "code",
   "execution_count": 49,
   "metadata": {},
   "outputs": [
    {
     "name": "stdout",
     "output_type": "stream",
     "text": [
      "[44, 0, 0, 4, 3, 20]\n",
      "[48, 0, 0, 4, 3, 20]\n",
      "[51, 0, 0, 3, 3, 20]\n",
      "[[44, 0, 0, 4, 3, 20], [48, 0, 0, 4, 3, 20], [51, 0, 0, 3, 3, 20], [58, 0, 41, 3, 20, 23], [49, 0, 56, 3, 0, 25], [60, 0, 47, 3, 26, 11], [69, 0, 26, 3, 25, 4], [87, 0, 46, 3, 18, 30], [19, 0, 3, 3, 1, 21], [44, 0, 23, 2, 28, 23], [64, 0, 44, 2, 25, 21], [55, 0, 9, 2, 25, 20], [23, 0, 32, 2, 13, 18], [36, 0, 51, 2, 2, 5], [9, 0, 7, 1, 1, 7], [26, 0, 37, 1, 7, 6], [24, 0, 49, 1, 28, 9], [33, 0, 53, 3, 29, 11], [82, 0, 27, 1, 3, 19], [81, 0, 31, 1, 2, 11], [48, 0, 23, 0, 14, 21], [16, 0, 6, 0, 28, 11], [17, 0, 11, 0, 13, 21], [85, 0, 49, 2, 16, 16], [45, 0, 8, 2, 14, 9], [45, 0, 1, 2, 4, 8], [53, 0, 35, 2, 23, 14], [16, 0, 13, 2, 2, 23], [37, 0, 35, 1, 20, 13], [29, 0, 22, 1, 14, 29], [51, 0, 52, 0, 25, 27], [76, 0, 36, 0, 11, 9], [13, 0, 8, 3, 20, 6], [38, 0, 45, 3, 13, 26], [32, 0, 30, 3, 14, 19], [80, 0, 26, 2, 28, 31], [41, 0, 19, 2, 28, 2], [81, 0, 24, 2, 4, 28], [36, 0, 37, 1, 18, 28], [5, 0, 24, 1, 18, 2], [25, 0, 10, 1, 5, 18], [17, 0, 37, 8, 8, 15], [36, 0, 31, 7, 9, 28], [46, 0, 50, 6, 22, 15], [62, 0, 45, 6, 24, 24], [26, 0, 0, 6, 22, 30], [64, 0, 48, 6, 0, 10], [85, 0, 58, 5, 26, 26], [66, 0, 31, 5, 21, 2], [77, 0, 5, 4, 2, 3], [70, 0, 4, 4, 8, 6], [74, 0, 58, 4, 10, 1], [68, 0, 9, 4, 8, 0], [50, 0, 6, 4, 26, 14], [76, 0, 53, 4, 3, 4], [71, 0, 16, 3, 0, 16], [29, 0, 21, 2, 26, 12], [19, 0, 12, 2, 6, 30], [85, 0, 10, 1, 24, 28], [63, 0, 38, 1, 19, 15], [39, 0, 9, 1, 22, 25], [31, 0, 20, 1, 11, 8], [35, 0, 41, 1, 14, 29], [60, 0, 1, 0, 0, 13], [36, 0, 18, 0, 2, 27], [21, 0, 44, 0, 0, 25], [22, 0, 0, 0, 0, 22], [14, 0, 38, 0, 21, 9], [80, 0, 16, 0, 21, 12], [38, 0, 10, 0, 8, 0], [32, 0, 2, 0, 25, 21], [53, 0, 44, 0, 20, 13], [21, 0, 11, 0, 15, 12], [51, 0, 17, 0, 14, 31], [5, 0, 15, 0, 14, 16], [4, 0, 53, 0, 18, 19], [52, 0, 52, 0, 21, 10], [21, 0, 2, 0, 12, 8], [30, 0, 7, 0, 5, 7], [62, 0, 13, 0, 3, 9], [23, 0, 51, 0, 2, 1], [36, 0, 2, 0, 2, 0], [32, 0, 1, 0, 2, 17], [3, 0, 41, 0, 2, 17], [87, 0, 7, 0, 2, 31], [43, 0, 17, 0, 2, 23], [4, 0, 25, 0, 21, 14], [72, 0, 0, 0, 20, 3], [11, 0, 3, 0, 19, 26], [7, 0, 1, 0, 6, 16], [30, 0, 54, 0, 3, 4], [15, 0, 7, 0, 3, 6], [84, 0, 38, 0, 3, 10], [12, 0, 31, 0, 10, 25], [54, 0, 41, 0, 10, 17], [52, 0, 15, 0, 6, 16], [35, 0, 38, 0, 3, 4], [42, 0, 44, 0, 2, 8], [13, 0, 12, 0, 2, 23], [37, 0, 57, 0, 2, 27], [74, 0, 52, 0, 2, 0], [50, 0, 2, 0, 2, 3], [74, 0, 1, 0, 2, 29], [63, 0, 31, 0, 2, 2], [54, 0, 23, 0, 2, 7], [75, 0, 3, 0, 2, 4], [6, 0, 50, 0, 2, 31], [62, 0, 48, 0, 1, 19], [87, 0, 28, 0, 24, 19], [45, 0, 31, 0, 9, 3], [76, 0, 4, 0, 9, 24], [72, 0, 0, 0, 10, 31], [78, 0, 11, 0, 21, 14], [40, 0, 43, 0, 7, 17], [79, 0, 26, 0, 8, 17], [85, 0, 0, 0, 0, 24], [63, 0, 47, 0, 20, 27], [30, 0, 0, 0, 20, 30], [12, 0, 0, 0, 20, 30], [43, 0, 36, 0, 20, 22], [51, 0, 0, 0, 19, 21], [69, 0, 41, 0, 19, 20], [41, 0, 1, 0, 18, 13], [45, 0, 57, 0, 20, 9], [74, 0, 1, 0, 19, 9], [1, 0, 21, 0, 19, 20], [76, 0, 57, 0, 7, 19], [28, 0, 56, 0, 24, 9], [50, 0, 2, 0, 16, 13], [13, 0, 52, 0, 23, 1], [9, 0, 0, 0, 10, 2]]\n"
     ]
    }
   ],
   "source": [
    "prediction_model.load_weights('weights/note_bin/model2_10epochs256state2layer.h5')\n",
    "# temperatures = [0.1] * 6\n",
    "temperatures = [5, 0.12, 0.12, 0.1, 0.1, 5]\n",
    "input_notes = [[44,0,0,4,3,20], [48,0,0,4,3,20], [51,0,0,3,3,20],[56,0,5,3,3,20]]\n",
    "new_seq = models.generate_music(prediction_model, temperatures, input_notes)\n",
    "ns = [[int(a) for a in note] for note in new_seq]\n",
    "print(ns)\n",
    "pm = note_bin2pm(ns)\n",
    "pm.write(f'midi/model2/{temperatures}b.mid')"
   ]
  },
  {
   "cell_type": "code",
   "execution_count": 29,
   "metadata": {},
   "outputs": [
    {
     "data": {
      "image/png": "[encoded data removed]",
      "text/plain": [
       "<Figure size 432x288 with 1 Axes>"
      ]
     },
     "metadata": {
      "needs_background": "light"
     },
     "output_type": "display_data"
    }
   ],
   "source": [
    "models.plt_metric(history)\n"
   ]
  },
  {
   "cell_type": "code",
   "execution_count": 53,
   "metadata": {},
   "outputs": [
    {
     "data": {
      "text/plain": [
       "[[33, 0, 0, 7, 13, 12],\n",
       " [40, 0, 4, 7, 11, 12],\n",
       " [37, 0, 1, 7, 10, 12],\n",
       " [21, 0, 53, 5, 4, 13],\n",
       " [31, 0, 52, 5, 18, 12],\n",
       " [19, 0, 4, 5, 16, 5],\n",
       " [31, 0, 40, 4, 26, 13],\n",
       " [19, 0, 2, 4, 25, 12],\n",
       " [45, 1, 40, 3, 0, 17],\n",
       " [33, 0, 1, 3, 5, 13],\n",
       " [19, 0, 50, 2, 10, 12],\n",
       " [31, 0, 0, 2, 10, 12],\n",
       " [45, 0, 30, 1, 20, 18],\n",
       " [38, 0, 2, 1, 18, 13],\n",
       " [33, 0, 2, 1, 23, 13],\n",
       " [35, 0, 0, 1, 23, 10],\n",
       " [33, 0, 26, 1, 10, 12],\n",
       " [21, 0, 0, 4, 5, 17],\n",
       " [29, 0, 28, 0, 17, 18],\n",
       " [17, 0, 0, 0, 17, 16],\n",
       " [29, 0, 35, 3, 4, 15],\n",
       " [17, 0, 0, 2, 18, 15],\n",
       " [50, 0, 4, 3, 2, 21],\n",
       " [38, 0, 1, 3, 1, 16],\n",
       " [47, 0, 0, 3, 1, 17],\n",
       " [45, 0, 1, 2, 27, 14],\n",
       " [38, 1, 26, 1, 18, 15],\n",
       " [35, 0, 1, 1, 17, 17],\n",
       " [45, 0, 23, 1, 2, 20],\n",
       " [33, 0, 2, 1, 3, 16],\n",
       " [17, 0, 38, 0, 18, 12],\n",
       " [29, 0, 1, 0, 15, 14],\n",
       " [45, 0, 11, 0, 6, 15],\n",
       " [33, 0, 0, 0, 7, 16],\n",
       " [43, 0, 6, 0, 5, 2],\n",
       " [45, 0, 6, 5, 28, 20],\n",
       " [33, 0, 2, 5, 25, 19],\n",
       " [37, 0, 0, 5, 27, 15],\n",
       " [43, 0, 2, 5, 26, 1],\n",
       " [33, 0, 26, 5, 10, 14],\n",
       " [21, 0, 1, 5, 6, 15],\n",
       " [16, 0, 37, 4, 23, 16],\n",
       " [28, 0, 1, 4, 23, 16],\n",
       " [28, 0, 52, 3, 27, 16],\n",
       " [16, 0, 1, 3, 26, 15],\n",
       " [44, 1, 29, 2, 12, 19],\n",
       " [32, 0, 1, 2, 11, 15],\n",
       " [16, 1, 31, 0, 25, 15],\n",
       " [28, 0, 0, 0, 25, 13],\n",
       " [45, 0, 7, 0, 21, 21],\n",
       " [33, 0, 1, 0, 19, 18],\n",
       " [21, 0, 32, 4, 20, 18],\n",
       " [46, 0, 5, 4, 17, 23],\n",
       " [34, 0, 2, 4, 16, 19],\n",
       " [33, 0, 0, 4, 16, 7],\n",
       " [38, 0, 1, 4, 16, 18],\n",
       " [41, 0, 2, 4, 15, 15],\n",
       " [45, 0, 0, 4, 15, 15],\n",
       " [29, 0, 36, 3, 27, 10],\n",
       " [17, 0, 0, 3, 27, 17],\n",
       " [14, 0, 19, 3, 17, 20],\n",
       " [14, 0, 7, 3, 13, 19],\n",
       " [57, 0, 24, 3, 1, 23],\n",
       " [45, 0, 1, 3, 1, 19],\n",
       " [50, 0, 1, 3, 0, 19],\n",
       " [53, 0, 0, 3, 0, 19],\n",
       " [34, 0, 2, 3, 0, 17],\n",
       " [41, 0, 0, 2, 29, 15],\n",
       " [46, 0, 2, 2, 28, 16],\n",
       " [33, 1, 19, 1, 19, 19],\n",
       " [33, 0, 12, 1, 13, 18],\n",
       " [56, 0, 2, 1, 12, 24],\n",
       " [44, 0, 0, 1, 12, 20],\n",
       " [53, 0, 0, 1, 11, 19],\n",
       " [50, 0, 1, 1, 11, 18],\n",
       " [38, 0, 5, 1, 8, 13],\n",
       " [41, 0, 2, 1, 7, 17],\n",
       " [53, 0, 23, 0, 26, 22],\n",
       " [41, 0, 1, 0, 26, 18],\n",
       " [50, 0, 14, 0, 19, 23],\n",
       " [38, 0, 1, 0, 18, 21],\n",
       " [21, 0, 12, 0, 12, 18],\n",
       " [45, 0, 3, 0, 11, 22],\n",
       " [33, 0, 1, 0, 11, 22],\n",
       " [34, 0, 11, 0, 5, 21],\n",
       " [46, 0, 0, 0, 5, 22],\n",
       " [42, 0, 4, 0, 3, 12],\n",
       " [47, 0, 7, 3, 23, 22],\n",
       " [21, 0, 0, 3, 20, 17],\n",
       " [42, 0, 0, 3, 23, 17],\n",
       " [33, 0, 2, 3, 21, 14],\n",
       " [38, 0, 0, 3, 22, 17],\n",
       " [39, 0, 0, 3, 22, 16],\n",
       " [37, 0, 1, 3, 21, 13],\n",
       " [48, 0, 3, 3, 18, 10],\n",
       " [45, 0, 1, 3, 19, 13],\n",
       " [36, 0, 1, 3, 18, 10],\n",
       " [37, 0, 0, 3, 19, 6],\n",
       " [29, 0, 12, 3, 13, 19],\n",
       " [17, 0, 0, 3, 13, 18],\n",
       " [26, 0, 14, 3, 6, 20],\n",
       " [14, 0, 0, 3, 6, 18],\n",
       " [26, 0, 9, 3, 1, 20],\n",
       " [14, 0, 2, 3, 0, 10],\n",
       " [57, 0, 19, 2, 21, 24],\n",
       " [50, 0, 2, 2, 19, 21],\n",
       " [35, 0, 1, 2, 19, 18],\n",
       " [53, 0, 1, 2, 19, 20],\n",
       " [41, 0, 0, 2, 19, 14],\n",
       " [47, 0, 1, 2, 18, 18],\n",
       " [37, 0, 5, 2, 16, 7],\n",
       " [48, 0, 51, 1, 19, 19],\n",
       " [36, 0, 0, 1, 19, 20],\n",
       " [21, 0, 22, 1, 6, 19],\n",
       " [33, 0, 1, 1, 7, 15],\n",
       " [21, 0, 10, 1, 1, 20],\n",
       " [45, 0, 2, 1, 3, 19],\n",
       " [38, 0, 0, 1, 3, 18],\n",
       " [33, 0, 2, 1, 1, 8],\n",
       " [41, 0, 0, 1, 2, 14],\n",
       " [15, 0, 18, 0, 23, 11],\n",
       " [17, 0, 1, 0, 22, 9],\n",
       " [48, 0, 3, 0, 19, 23],\n",
       " [36, 0, 1, 0, 19, 20],\n",
       " [14, 0, 12, 0, 14, 16],\n",
       " [21, 0, 22, 2, 17, 15],\n",
       " [48, 0, 3, 2, 21, 23],\n",
       " [33, 0, 1, 2, 15, 12],\n",
       " [40, 0, 0, 2, 20, 14]]"
      ]
     },
     "execution_count": 53,
     "metadata": {},
     "output_type": "execute_result"
    }
   ],
   "source": [
    "examples[330]"
   ]
  }
 ],
 "metadata": {
  "kernelspec": {
   "display_name": "Python 3",
   "language": "python",
   "name": "python3"
  },
  "language_info": {
   "codemirror_mode": {
    "name": "ipython",
    "version": 3
   },
   "file_extension": ".py",
   "mimetype": "text/x-python",
   "name": "python",
   "nbconvert_exporter": "python",
   "pygments_lexer": "ipython3",
   "version": "3.7.6"
  }
 },
 "nbformat": 4,
 "nbformat_minor": 4
}
