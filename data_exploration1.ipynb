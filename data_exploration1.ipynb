{
 "cells": [
  {
   "cell_type": "code",
   "execution_count": 1,
   "metadata": {},
   "outputs": [],
   "source": [
    "from importlib import reload\n",
    "import json\n",
    "import pretty_midi\n",
    "import numpy as np\n",
    "import pandas as pd\n",
    "import tensorflow as tf\n",
    "from tensorflow.keras import layers"
   ]
  },
  {
   "cell_type": "code",
   "execution_count": 2,
   "metadata": {},
   "outputs": [
    {
     "name": "stdout",
     "output_type": "stream",
     "text": [
      "[name: \"/device:CPU:0\"\n",
      "device_type: \"CPU\"\n",
      "memory_limit: 268435456\n",
      "locality {\n",
      "}\n",
      "incarnation: 422091078071127324\n",
      ", name: \"/device:XLA_CPU:0\"\n",
      "device_type: \"XLA_CPU\"\n",
      "memory_limit: 17179869184\n",
      "locality {\n",
      "}\n",
      "incarnation: 13336856610618758248\n",
      "physical_device_desc: \"device: XLA_CPU device\"\n",
      ", name: \"/device:GPU:0\"\n",
      "device_type: \"GPU\"\n",
      "memory_limit: 5588779008\n",
      "locality {\n",
      "  bus_id: 1\n",
      "  links {\n",
      "  }\n",
      "}\n",
      "incarnation: 11742072890166847630\n",
      "physical_device_desc: \"device: 0, name: Tesla K20Xm, pci bus id: 0000:00:06.0, compute capability: 3.5\"\n",
      ", name: \"/device:XLA_GPU:0\"\n",
      "device_type: \"XLA_GPU\"\n",
      "memory_limit: 17179869184\n",
      "locality {\n",
      "}\n",
      "incarnation: 152799329061713978\n",
      "physical_device_desc: \"device: XLA_GPU device\"\n",
      "]\n"
     ]
    }
   ],
   "source": [
    "from tensorflow.python.client import device_lib\n",
    "print(device_lib.list_local_devices())"
   ]
  },
  {
   "cell_type": "code",
   "execution_count": 10,
   "metadata": {},
   "outputs": [],
   "source": [
    "try:\n",
    "    reload(midiMethods)\n",
    "    from modules.midiMethods import *\n",
    "except:\n",
    "    print('reload failed')\n",
    "    import modules.midiMethods as midiMethods\n",
    "    from modules.midiMethods import *\n",
    "try:\n",
    "    reload(dataMethods)\n",
    "    from modules.dataMethods import *\n",
    "except:\n",
    "    print('reload failed')\n",
    "    import modules.dataMethods as dataMethods\n",
    "    from modules.dataMethods import *\n",
    "import modules.mlClasses as mlClasses \n"
   ]
  },
  {
   "cell_type": "code",
   "execution_count": 27,
   "metadata": {},
   "outputs": [
    {
     "data": {
      "text/plain": [
       "<module 'modules.mlClasses' from '/home/ubuntu/music-ml/380-music-representation/modules/mlClasses.py'>"
      ]
     },
     "execution_count": 27,
     "metadata": {},
     "output_type": "execute_result"
    }
   ],
   "source": [
    "import modules.models as models\n",
    "reload(models)\n",
    "import modules.mlClasses as mlClasses\n",
    "reload(mlClasses)"
   ]
  },
  {
   "cell_type": "code",
   "execution_count": 175,
   "metadata": {},
   "outputs": [
    {
     "name": "stdout",
     "output_type": "stream",
     "text": [
      "[[27, 0, 0, 3, 19, 27], [0, 0, 0, 3, 20, 28], [5, 3, 35, 3, 14, 25], [32, 0, 0, 3, 16, 26], [2, 3, 27, 0, 21, 17], [34, 0, 0, 1, 13, 19], [3, 0, 42, 0, 20, 11], [5, 0, 38, 0, 21, 11], [32, 0, 3, 1, 20, 13], [2, 0, 42, 0, 28, 9], [7, 0, 59, 2, 16, 8], [31, 0, 2, 2, 15, 5]]\n"
     ]
    }
   ],
   "source": [
    "# test out my function for going to note_bin representation\n",
    "pm = pretty_midi.PrettyMIDI('midi/basic_test.mid')\n",
    "noteB2 = pm2note_bin(pm)\n",
    "print(noteB2)"
   ]
  },
  {
   "cell_type": "code",
   "execution_count": 75,
   "metadata": {},
   "outputs": [],
   "source": [
    "# if needed, read in filenames...\n",
    "maestro = pd.read_csv('training_data/maestro-v2.0.0withPeriod.csv', index_col=0)\n",
    "filenames = list(maestro['midi_filename'])\n"
   ]
  },
  {
   "cell_type": "code",
   "execution_count": null,
   "metadata": {},
   "outputs": [],
   "source": [
    "# or process data set\n",
    "data_path = 'C:/Users\\Andrew/Documents/mlprojects/Datasets/MaestroV2.00/maestro-v2.0.0/'\n",
    "examples = files2note_bin_examples(data_path, skip=1)\n",
    "print(len(examples))"
   ]
  },
  {
   "cell_type": "code",
   "execution_count": 322,
   "metadata": {},
   "outputs": [],
   "source": [
    "# store examples in json format\n",
    "with open('training_data/training_data_note_bin_complete.json', 'w') as f:\n",
    "    json.dump(examples, f)"
   ]
  },
  {
   "cell_type": "code",
   "execution_count": 20,
   "metadata": {},
   "outputs": [],
   "source": [
    "# or read them in\n",
    "with open('training_data/training_data_note_bin_complete.json', 'r') as f:\n",
    "    examples = json.load(f)"
   ]
  },
  {
   "cell_type": "code",
   "execution_count": 28,
   "metadata": {},
   "outputs": [
    {
     "name": "stdout",
     "output_type": "stream",
     "text": [
      "Model: \"1layerLSTM\"\n",
      "__________________________________________________________________________________________________\n",
      "Layer (type)                    Output Shape         Param #     Connected to                     \n",
      "==================================================================================================\n",
      "input_4 (InputLayer)            [(None, 128, 6)]     0                                            \n",
      "__________________________________________________________________________________________________\n",
      "lambda_18 (Lambda)              (None, 128, 88)      0           input_4[0][0]                    \n",
      "__________________________________________________________________________________________________\n",
      "lambda_19 (Lambda)              (None, 128, 10)      0           input_4[0][0]                    \n",
      "__________________________________________________________________________________________________\n",
      "lambda_20 (Lambda)              (None, 128, 60)      0           input_4[0][0]                    \n",
      "__________________________________________________________________________________________________\n",
      "lambda_21 (Lambda)              (None, 128, 18)      0           input_4[0][0]                    \n",
      "__________________________________________________________________________________________________\n",
      "lambda_22 (Lambda)              (None, 128, 30)      0           input_4[0][0]                    \n",
      "__________________________________________________________________________________________________\n",
      "lambda_23 (Lambda)              (None, 128, 32)      0           input_4[0][0]                    \n",
      "__________________________________________________________________________________________________\n",
      "concatenate_3 (Concatenate)     (None, 128, 238)     0           lambda_18[0][0]                  \n",
      "                                                                 lambda_19[0][0]                  \n",
      "                                                                 lambda_20[0][0]                  \n",
      "                                                                 lambda_21[0][0]                  \n",
      "                                                                 lambda_22[0][0]                  \n",
      "                                                                 lambda_23[0][0]                  \n",
      "__________________________________________________________________________________________________\n",
      "lstm_3 (LSTM)                   (None, 128, 256)     506880      concatenate_3[0][0]              \n",
      "__________________________________________________________________________________________________\n",
      "dense_18 (Dense)                (None, 128, 88)      22616       lstm_3[0][0]                     \n",
      "__________________________________________________________________________________________________\n",
      "dense_19 (Dense)                (None, 128, 10)      2570        lstm_3[0][0]                     \n",
      "__________________________________________________________________________________________________\n",
      "dense_20 (Dense)                (None, 128, 60)      15420       lstm_3[0][0]                     \n",
      "__________________________________________________________________________________________________\n",
      "dense_21 (Dense)                (None, 128, 18)      4626        lstm_3[0][0]                     \n",
      "__________________________________________________________________________________________________\n",
      "dense_22 (Dense)                (None, 128, 30)      7710        lstm_3[0][0]                     \n",
      "__________________________________________________________________________________________________\n",
      "dense_23 (Dense)                (None, 128, 32)      8224        lstm_3[0][0]                     \n",
      "==================================================================================================\n",
      "Total params: 568,046\n",
      "Trainable params: 568,046\n",
      "Non-trainable params: 0\n",
      "__________________________________________________________________________________________________\n"
     ]
    }
   ],
   "source": [
    "# build simple model\n",
    "# excellent example of recurrent model here https://www.tensorflow.org/tutorials/text/text_generation\n",
    "hidden_state = 256\n",
    "model2 = models.create_model1(hidden_state_size=hidden_state)\n",
    "training_generator = mlClasses.DataGenerator(examples)"
   ]
  },
  {
   "cell_type": "code",
   "execution_count": 29,
   "metadata": {
    "scrolled": true
   },
   "outputs": [
    {
     "name": "stdout",
     "output_type": "stream",
     "text": [
      "Epoch 1/10\n"
     ]
    },
    {
     "ename": "InvalidArgumentError",
     "evalue": "2 root error(s) found.\n  (0) Invalid argument: Can not squeeze dim[1], expected a dimension of 1, got 128\n\t [[{{node metrics_4/dense_22_acc/Squeeze}}]]\n\t [[loss_2/Identity_2/_1237]]\n  (1) Invalid argument: Can not squeeze dim[1], expected a dimension of 1, got 128\n\t [[{{node metrics_4/dense_22_acc/Squeeze}}]]\n0 successful operations.\n0 derived errors ignored.",
     "output_type": "error",
     "traceback": [
      "\u001b[0;31m---------------------------------------------------------------------------\u001b[0m",
      "\u001b[0;31mInvalidArgumentError\u001b[0m                      Traceback (most recent call last)",
      "\u001b[0;32m<ipython-input-29-06c85925b710>\u001b[0m in \u001b[0;36m<module>\u001b[0;34m\u001b[0m\n\u001b[1;32m      1\u001b[0m \u001b[0mmodel2\u001b[0m\u001b[0;34m.\u001b[0m\u001b[0mcompile\u001b[0m\u001b[0;34m(\u001b[0m\u001b[0moptimizer\u001b[0m\u001b[0;34m=\u001b[0m\u001b[0;34m'Adam'\u001b[0m\u001b[0;34m,\u001b[0m \u001b[0mloss\u001b[0m\u001b[0;34m=\u001b[0m\u001b[0;34m'sparse_categorical_crossentropy'\u001b[0m\u001b[0;34m,\u001b[0m \u001b[0mmetrics\u001b[0m\u001b[0;34m=\u001b[0m\u001b[0;34m[\u001b[0m\u001b[0;34m'accuracy'\u001b[0m\u001b[0;34m]\u001b[0m\u001b[0;34m)\u001b[0m\u001b[0;34m\u001b[0m\u001b[0;34m\u001b[0m\u001b[0m\n\u001b[1;32m      2\u001b[0m \u001b[0;31m# checkpoint = tf.keras.callbacks.ModelCheckpoint(\"weights/model1/{epoch:02d}-{train_loss:.2f}.hdf5\", monitor='train_loss', verbose=2, save_best_only=True, save_weights_only=True)\u001b[0m\u001b[0;34m\u001b[0m\u001b[0;34m\u001b[0m\u001b[0;34m\u001b[0m\u001b[0m\n\u001b[0;32m----> 3\u001b[0;31m \u001b[0mmodel2\u001b[0m\u001b[0;34m.\u001b[0m\u001b[0mfit_generator\u001b[0m\u001b[0;34m(\u001b[0m\u001b[0mtraining_generator\u001b[0m\u001b[0;34m,\u001b[0m \u001b[0mepochs\u001b[0m\u001b[0;34m=\u001b[0m\u001b[0;36m10\u001b[0m\u001b[0;34m)\u001b[0m\u001b[0;34m\u001b[0m\u001b[0;34m\u001b[0m\u001b[0m\n\u001b[0m\u001b[1;32m      4\u001b[0m \u001b[0mmodel2\u001b[0m\u001b[0;34m.\u001b[0m\u001b[0msave_weights\u001b[0m\u001b[0;34m(\u001b[0m\u001b[0;34m'models/model2_10epochs256state.h5'\u001b[0m\u001b[0;34m)\u001b[0m\u001b[0;34m\u001b[0m\u001b[0;34m\u001b[0m\u001b[0m\n",
      "\u001b[0;32m~/anaconda3/lib/python3.7/site-packages/tensorflow/python/keras/engine/training.py\u001b[0m in \u001b[0;36mfit_generator\u001b[0;34m(self, generator, steps_per_epoch, epochs, verbose, callbacks, validation_data, validation_steps, validation_freq, class_weight, max_queue_size, workers, use_multiprocessing, shuffle, initial_epoch)\u001b[0m\n\u001b[1;32m   1431\u001b[0m         \u001b[0mshuffle\u001b[0m\u001b[0;34m=\u001b[0m\u001b[0mshuffle\u001b[0m\u001b[0;34m,\u001b[0m\u001b[0;34m\u001b[0m\u001b[0;34m\u001b[0m\u001b[0m\n\u001b[1;32m   1432\u001b[0m         \u001b[0minitial_epoch\u001b[0m\u001b[0;34m=\u001b[0m\u001b[0minitial_epoch\u001b[0m\u001b[0;34m,\u001b[0m\u001b[0;34m\u001b[0m\u001b[0;34m\u001b[0m\u001b[0m\n\u001b[0;32m-> 1433\u001b[0;31m         steps_name='steps_per_epoch')\n\u001b[0m\u001b[1;32m   1434\u001b[0m \u001b[0;34m\u001b[0m\u001b[0m\n\u001b[1;32m   1435\u001b[0m   def evaluate_generator(self,\n",
      "\u001b[0;32m~/anaconda3/lib/python3.7/site-packages/tensorflow/python/keras/engine/training_generator.py\u001b[0m in \u001b[0;36mmodel_iteration\u001b[0;34m(model, data, steps_per_epoch, epochs, verbose, callbacks, validation_data, validation_steps, validation_freq, class_weight, max_queue_size, workers, use_multiprocessing, shuffle, initial_epoch, mode, batch_size, steps_name, **kwargs)\u001b[0m\n\u001b[1;32m    262\u001b[0m \u001b[0;34m\u001b[0m\u001b[0m\n\u001b[1;32m    263\u001b[0m       \u001b[0mis_deferred\u001b[0m \u001b[0;34m=\u001b[0m \u001b[0;32mnot\u001b[0m \u001b[0mmodel\u001b[0m\u001b[0;34m.\u001b[0m\u001b[0m_is_compiled\u001b[0m\u001b[0;34m\u001b[0m\u001b[0;34m\u001b[0m\u001b[0m\n\u001b[0;32m--> 264\u001b[0;31m       \u001b[0mbatch_outs\u001b[0m \u001b[0;34m=\u001b[0m \u001b[0mbatch_function\u001b[0m\u001b[0;34m(\u001b[0m\u001b[0;34m*\u001b[0m\u001b[0mbatch_data\u001b[0m\u001b[0;34m)\u001b[0m\u001b[0;34m\u001b[0m\u001b[0;34m\u001b[0m\u001b[0m\n\u001b[0m\u001b[1;32m    265\u001b[0m       \u001b[0;32mif\u001b[0m \u001b[0;32mnot\u001b[0m \u001b[0misinstance\u001b[0m\u001b[0;34m(\u001b[0m\u001b[0mbatch_outs\u001b[0m\u001b[0;34m,\u001b[0m \u001b[0mlist\u001b[0m\u001b[0;34m)\u001b[0m\u001b[0;34m:\u001b[0m\u001b[0;34m\u001b[0m\u001b[0;34m\u001b[0m\u001b[0m\n\u001b[1;32m    266\u001b[0m         \u001b[0mbatch_outs\u001b[0m \u001b[0;34m=\u001b[0m \u001b[0;34m[\u001b[0m\u001b[0mbatch_outs\u001b[0m\u001b[0;34m]\u001b[0m\u001b[0;34m\u001b[0m\u001b[0;34m\u001b[0m\u001b[0m\n",
      "\u001b[0;32m~/anaconda3/lib/python3.7/site-packages/tensorflow/python/keras/engine/training.py\u001b[0m in \u001b[0;36mtrain_on_batch\u001b[0;34m(self, x, y, sample_weight, class_weight, reset_metrics)\u001b[0m\n\u001b[1;32m   1173\u001b[0m       \u001b[0mself\u001b[0m\u001b[0;34m.\u001b[0m\u001b[0m_update_sample_weight_modes\u001b[0m\u001b[0;34m(\u001b[0m\u001b[0msample_weights\u001b[0m\u001b[0;34m=\u001b[0m\u001b[0msample_weights\u001b[0m\u001b[0;34m)\u001b[0m\u001b[0;34m\u001b[0m\u001b[0;34m\u001b[0m\u001b[0m\n\u001b[1;32m   1174\u001b[0m       \u001b[0mself\u001b[0m\u001b[0;34m.\u001b[0m\u001b[0m_make_train_function\u001b[0m\u001b[0;34m(\u001b[0m\u001b[0;34m)\u001b[0m\u001b[0;34m\u001b[0m\u001b[0;34m\u001b[0m\u001b[0m\n\u001b[0;32m-> 1175\u001b[0;31m       \u001b[0moutputs\u001b[0m \u001b[0;34m=\u001b[0m \u001b[0mself\u001b[0m\u001b[0;34m.\u001b[0m\u001b[0mtrain_function\u001b[0m\u001b[0;34m(\u001b[0m\u001b[0mins\u001b[0m\u001b[0;34m)\u001b[0m  \u001b[0;31m# pylint: disable=not-callable\u001b[0m\u001b[0;34m\u001b[0m\u001b[0;34m\u001b[0m\u001b[0m\n\u001b[0m\u001b[1;32m   1176\u001b[0m \u001b[0;34m\u001b[0m\u001b[0m\n\u001b[1;32m   1177\u001b[0m     \u001b[0;32mif\u001b[0m \u001b[0mreset_metrics\u001b[0m\u001b[0;34m:\u001b[0m\u001b[0;34m\u001b[0m\u001b[0;34m\u001b[0m\u001b[0m\n",
      "\u001b[0;32m~/anaconda3/lib/python3.7/site-packages/tensorflow/python/keras/backend.py\u001b[0m in \u001b[0;36m__call__\u001b[0;34m(self, inputs)\u001b[0m\n\u001b[1;32m   3290\u001b[0m \u001b[0;34m\u001b[0m\u001b[0m\n\u001b[1;32m   3291\u001b[0m     fetched = self._callable_fn(*array_vals,\n\u001b[0;32m-> 3292\u001b[0;31m                                 run_metadata=self.run_metadata)\n\u001b[0m\u001b[1;32m   3293\u001b[0m     \u001b[0mself\u001b[0m\u001b[0;34m.\u001b[0m\u001b[0m_call_fetch_callbacks\u001b[0m\u001b[0;34m(\u001b[0m\u001b[0mfetched\u001b[0m\u001b[0;34m[\u001b[0m\u001b[0;34m-\u001b[0m\u001b[0mlen\u001b[0m\u001b[0;34m(\u001b[0m\u001b[0mself\u001b[0m\u001b[0;34m.\u001b[0m\u001b[0m_fetches\u001b[0m\u001b[0;34m)\u001b[0m\u001b[0;34m:\u001b[0m\u001b[0;34m]\u001b[0m\u001b[0;34m)\u001b[0m\u001b[0;34m\u001b[0m\u001b[0;34m\u001b[0m\u001b[0m\n\u001b[1;32m   3294\u001b[0m     output_structure = nest.pack_sequence_as(\n",
      "\u001b[0;32m~/anaconda3/lib/python3.7/site-packages/tensorflow/python/client/session.py\u001b[0m in \u001b[0;36m__call__\u001b[0;34m(self, *args, **kwargs)\u001b[0m\n\u001b[1;32m   1456\u001b[0m         ret = tf_session.TF_SessionRunCallable(self._session._session,\n\u001b[1;32m   1457\u001b[0m                                                \u001b[0mself\u001b[0m\u001b[0;34m.\u001b[0m\u001b[0m_handle\u001b[0m\u001b[0;34m,\u001b[0m \u001b[0margs\u001b[0m\u001b[0;34m,\u001b[0m\u001b[0;34m\u001b[0m\u001b[0;34m\u001b[0m\u001b[0m\n\u001b[0;32m-> 1458\u001b[0;31m                                                run_metadata_ptr)\n\u001b[0m\u001b[1;32m   1459\u001b[0m         \u001b[0;32mif\u001b[0m \u001b[0mrun_metadata\u001b[0m\u001b[0;34m:\u001b[0m\u001b[0;34m\u001b[0m\u001b[0;34m\u001b[0m\u001b[0m\n\u001b[1;32m   1460\u001b[0m           \u001b[0mproto_data\u001b[0m \u001b[0;34m=\u001b[0m \u001b[0mtf_session\u001b[0m\u001b[0;34m.\u001b[0m\u001b[0mTF_GetBuffer\u001b[0m\u001b[0;34m(\u001b[0m\u001b[0mrun_metadata_ptr\u001b[0m\u001b[0;34m)\u001b[0m\u001b[0;34m\u001b[0m\u001b[0;34m\u001b[0m\u001b[0m\n",
      "\u001b[0;31mInvalidArgumentError\u001b[0m: 2 root error(s) found.\n  (0) Invalid argument: Can not squeeze dim[1], expected a dimension of 1, got 128\n\t [[{{node metrics_4/dense_22_acc/Squeeze}}]]\n\t [[loss_2/Identity_2/_1237]]\n  (1) Invalid argument: Can not squeeze dim[1], expected a dimension of 1, got 128\n\t [[{{node metrics_4/dense_22_acc/Squeeze}}]]\n0 successful operations.\n0 derived errors ignored."
     ]
    }
   ],
   "source": [
    "model2.compile(optimizer='Adam', loss='sparse_categorical_crossentropy', metrics=['accuracy'])\n",
    "# checkpoint = tf.keras.callbacks.ModelCheckpoint(\"weights/model1/{epoch:02d}-{train_loss:.2f}.hdf5\", monitor='train_loss', verbose=2, save_best_only=True, save_weights_only=True)\n",
    "model2.fit_generator(training_generator, epochs=10)\n",
    "model2.save_weights('models/model2_10epochs256state.h5')"
   ]
  },
  {
   "cell_type": "code",
   "execution_count": 310,
   "metadata": {},
   "outputs": [
    {
     "data": {
      "text/plain": [
       "array([[28, 13, 13, ..., 13, 15, 14],\n",
       "       [14, 15, 22, ..., 11,  4, 25],\n",
       "       [17, 22, 18, ..., 18, 17, 10],\n",
       "       ...,\n",
       "       [11, 11, 29, ..., 13,  3,  2],\n",
       "       [ 0, 29, 28, ..., 17, 11,  9],\n",
       "       [ 9,  8,  3, ..., 29, 29, 29]])"
      ]
     },
     "execution_count": 310,
     "metadata": {},
     "output_type": "execute_result"
    }
   ],
   "source": [
    "[Y[:,:,i] for i in range(6)][4]"
   ]
  },
  {
   "cell_type": "code",
   "execution_count": 465,
   "metadata": {},
   "outputs": [],
   "source": [
    "# This works just like this:\n",
    "try:\n",
    "    reload(modules.models)\n",
    "except:\n",
    "    print('reload failed')\n",
    "    import modules.models as models"
   ]
  },
  {
   "cell_type": "code",
   "execution_count": 22,
   "metadata": {},
   "outputs": [
    {
     "name": "stdout",
     "output_type": "stream",
     "text": [
      "Model: \"1layerLSTM\"\n",
      "__________________________________________________________________________________________________\n",
      "Layer (type)                    Output Shape         Param #     Connected to                     \n",
      "==================================================================================================\n",
      "input_2 (InputLayer)            [(1, 128, 6)]        0                                            \n",
      "__________________________________________________________________________________________________\n",
      "lambda_6 (Lambda)               (1, 128, 88)         0           input_2[0][0]                    \n",
      "__________________________________________________________________________________________________\n",
      "lambda_7 (Lambda)               (1, 128, 10)         0           input_2[0][0]                    \n",
      "__________________________________________________________________________________________________\n",
      "lambda_8 (Lambda)               (1, 128, 60)         0           input_2[0][0]                    \n",
      "__________________________________________________________________________________________________\n",
      "lambda_9 (Lambda)               (1, 128, 18)         0           input_2[0][0]                    \n",
      "__________________________________________________________________________________________________\n",
      "lambda_10 (Lambda)              (1, 128, 30)         0           input_2[0][0]                    \n",
      "__________________________________________________________________________________________________\n",
      "lambda_11 (Lambda)              (1, 128, 32)         0           input_2[0][0]                    \n",
      "__________________________________________________________________________________________________\n",
      "concatenate_1 (Concatenate)     (1, 128, 238)        0           lambda_6[0][0]                   \n",
      "                                                                 lambda_7[0][0]                   \n",
      "                                                                 lambda_8[0][0]                   \n",
      "                                                                 lambda_9[0][0]                   \n",
      "                                                                 lambda_10[0][0]                  \n",
      "                                                                 lambda_11[0][0]                  \n",
      "__________________________________________________________________________________________________\n",
      "lstm_1 (LSTM)                   (1, 128, 128)        187904      concatenate_1[0][0]              \n",
      "__________________________________________________________________________________________________\n",
      "dense_6 (Dense)                 (1, 128, 88)         11352       lstm_1[0][0]                     \n",
      "__________________________________________________________________________________________________\n",
      "dense_7 (Dense)                 (1, 128, 10)         1290        lstm_1[0][0]                     \n",
      "__________________________________________________________________________________________________\n",
      "dense_8 (Dense)                 (1, 128, 60)         7740        lstm_1[0][0]                     \n",
      "__________________________________________________________________________________________________\n",
      "dense_9 (Dense)                 (1, 128, 18)         2322        lstm_1[0][0]                     \n",
      "__________________________________________________________________________________________________\n",
      "dense_10 (Dense)                (1, 128, 30)         3870        lstm_1[0][0]                     \n",
      "__________________________________________________________________________________________________\n",
      "dense_11 (Dense)                (1, 128, 32)         4128        lstm_1[0][0]                     \n",
      "==================================================================================================\n",
      "Total params: 218,606\n",
      "Trainable params: 218,606\n",
      "Non-trainable params: 0\n",
      "__________________________________________________________________________________________________\n"
     ]
    }
   ],
   "source": [
    "# tf.train.latest_checkpoint('weights\\first_attempt')\n",
    "\n",
    "prediction_model = models.create_model1(batch_size=1, stateful=True, hidden_state_size=hidden_state)"
   ]
  },
  {
   "cell_type": "code",
   "execution_count": 466,
   "metadata": {},
   "outputs": [
    {
     "name": "stdout",
     "output_type": "stream",
     "text": [
      "tf.Tensor([[[34  0  3  3  3 16]]], shape=(1, 1, 6), dtype=int32)\n",
      "[[87, 0, 1, 11, 27, 1], [68, 0, 42, 4, 20, 31], [27, 0, 55, 4, 7, 25], [71, 0, 1, 4, 7, 23], [39, 0, 9, 15, 3, 17], [39, 0, 43, 6, 19, 11], [30, 0, 46, 6, 19, 13], [64, 0, 14, 6, 3, 30], [0, 0, 11, 6, 1, 1], [42, 9, 2, 5, 25, 0], [54, 0, 41, 5, 22, 11], [42, 0, 6, 5, 19, 2], [56, 4, 5, 4, 18, 26], [61, 2, 23, 6, 14, 20], [54, 0, 56, 10, 2, 27], [18, 0, 50, 1, 27, 19], [31, 0, 5, 12, 14, 4], [7, 0, 47, 14, 17, 29], [51, 1, 18, 14, 9, 12], [85, 0, 0, 14, 2, 20], [48, 0, 32, 13, 16, 29], [52, 0, 27, 13, 27, 9], [55, 2, 36, 13, 1, 9], [76, 0, 41, 13, 11, 10], [13, 9, 24, 13, 2, 6], [73, 0, 51, 12, 21, 6], [5, 0, 39, 12, 9, 11], [76, 3, 10, 12, 3, 17], [85, 0, 18, 17, 17, 17], [43, 0, 54, 2, 14, 30], [16, 0, 18, 2, 22, 17], [33, 0, 42, 2, 13, 18], [65, 0, 46, 2, 10, 11], [77, 0, 19, 2, 25, 15], [83, 7, 31, 17, 17, 29], [3, 1, 5, 14, 21, 31], [64, 0, 57, 15, 2, 16], [73, 1, 20, 14, 29, 8], [49, 0, 16, 13, 3, 9], [81, 0, 21, 1, 6, 15], [56, 4, 12, 11, 14, 10], [28, 0, 47, 2, 6, 9], [80, 0, 1, 12, 3, 9], [69, 0, 55, 9, 3, 0], [22, 5, 25, 1, 27, 3], [78, 0, 23, 6, 1, 5], [41, 0, 48, 16, 16, 15], [58, 0, 9, 16, 5, 11], [55, 0, 19, 16, 0, 22], [62, 0, 55, 2, 29, 15], [3, 0, 18, 0, 17, 31], [53, 0, 50, 15, 4, 2], [55, 0, 15, 0, 27, 9], [70, 0, 3, 1, 23, 5], [72, 0, 52, 8, 23, 20], [45, 0, 9, 8, 27, 2], [75, 0, 43, 8, 25, 14], [27, 0, 23, 8, 25, 0], [63, 0, 13, 8, 2, 26], [78, 0, 10, 8, 16, 8], [49, 0, 48, 8, 15, 8], [15, 0, 59, 7, 13, 20], [42, 6, 9, 7, 7, 29], [58, 0, 34, 13, 24, 27], [53, 6, 9, 10, 6, 5], [50, 1, 48, 6, 7, 7], [22, 3, 15, 6, 7, 3], [2, 0, 39, 5, 2, 7], [81, 1, 9, 17, 21, 9], [64, 2, 36, 15, 14, 21], [16, 0, 40, 7, 3, 14], [76, 0, 39, 10, 21, 9], [53, 0, 13, 5, 9, 29], [55, 0, 49, 4, 19, 14], [76, 0, 54, 4, 15, 20], [78, 0, 37, 4, 13, 28], [12, 0, 32, 4, 5, 16], [39, 0, 5, 4, 24, 5], [58, 8, 53, 4, 16, 10], [1, 0, 55, 4, 6, 7], [37, 2, 56, 4, 3, 3], [79, 5, 1, 3, 15, 16], [69, 5, 54, 4, 23, 12], [19, 0, 19, 6, 21, 11], [64, 5, 11, 6, 11, 7], [65, 0, 11, 2, 9, 18], [52, 0, 43, 2, 6, 2], [18, 0, 51, 11, 16, 8], [62, 0, 44, 4, 22, 5], [71, 0, 2, 2, 22, 21], [57, 0, 46, 2, 21, 15], [47, 0, 45, 2, 2, 8], [31, 0, 7, 1, 1, 31], [10, 0, 27, 1, 0, 0], [39, 4, 46, 0, 8, 19], [16, 0, 16, 5, 17, 0], [30, 0, 39, 7, 26, 10], [35, 0, 51, 15, 11, 3], [85, 0, 35, 5, 7, 29], [86, 0, 28, 16, 20, 2], [30, 0, 5, 6, 22, 20], [83, 0, 55, 7, 6, 26], [41, 0, 2, 14, 25, 4], [23, 0, 19, 14, 15, 29], [51, 2, 59, 14, 29, 26], [69, 0, 9, 5, 11, 11], [15, 0, 30, 11, 11, 21], [28, 0, 56, 4, 13, 19], [12, 0, 45, 1, 26, 25], [2, 8, 3, 1, 0, 25], [55, 1, 37, 10, 21, 4], [82, 0, 43, 9, 21, 6], [44, 0, 59, 9, 10, 27], [33, 0, 2, 9, 21, 21], [36, 0, 58, 9, 24, 31], [61, 0, 5, 12, 19, 27], [61, 0, 33, 8, 2, 26], [40, 0, 36, 8, 2, 31], [24, 0, 47, 8, 26, 14], [40, 0, 48, 8, 16, 15], [29, 0, 41, 8, 5, 30], [23, 0, 36, 1, 2, 25], [17, 0, 22, 1, 17, 18], [78, 0, 6, 16, 10, 17], [66, 0, 44, 2, 8, 27], [35, 0, 3, 1, 8, 1], [0, 0, 8, 1, 3, 7], [84, 0, 41, 1, 22, 20]]\n"
     ]
    }
   ],
   "source": [
    "prediction_model.load_weights('weights/model1_2epochs.h5')\n",
    "new_seq = models.generate_music(prediction_model)\n",
    "ns = [[int(a) for a in note] for note in new_seq]\n",
    "print(ns)\n",
    "pm = note_bin2pm(ns)\n",
    "pm.write('midi/first_Tnotes1_0.2b.mid')"
   ]
  },
  {
   "cell_type": "code",
   "execution_count": 439,
   "metadata": {},
   "outputs": [
    {
     "name": "stdout",
     "output_type": "stream",
     "text": [
      "[[21, 0, 1, 3, 2, 17], [52, 0, 0, 3, 2, 16], [43, 0, 0, 3, 2, 15], [46, 0, 0, 3, 2, 15], [53, 0, 0, 3, 2, 16], [41, 0, 1, 3, 2, 16], [38, 0, 1, 3, 2, 15], [35, 0, 1, 3, 2, 16], [45, 0, 1, 3, 2, 16], [46, 0, 1, 3, 2, 16], [53, 0, 0, 3, 2, 17], [44, 0, 0, 3, 2, 17], [39, 0, 0, 3, 2, 18], [36, 0, 0, 3, 2, 18], [39, 0, 0, 3, 2, 17], [32, 0, 0, 3, 2, 15], [44, 0, 0, 3, 2, 16], [36, 0, 0, 3, 2, 17], [34, 0, 0, 0, 2, 17], [46, 0, 0, 0, 2, 18], [69, 0, 0, 0, 2, 16], [60, 0, 1, 0, 2, 16], [36, 0, 1, 0, 2, 14], [48, 0, 0, 0, 2, 14], [42, 0, 0, 0, 2, 15], [50, 0, 0, 0, 2, 16], [50, 0, 1, 0, 2, 17], [38, 0, 0, 0, 2, 17], [36, 0, 0, 0, 2, 16], [32, 0, 1, 0, 2, 17], [41, 0, 0, 0, 2, 16], [30, 0, 0, 0, 2, 16], [34, 0, 0, 0, 2, 16], [40, 0, 0, 0, 2, 17], [38, 0, 0, 0, 2, 17], [50, 0, 0, 0, 2, 16], [51, 0, 0, 0, 2, 17], [49, 0, 0, 0, 2, 17], [27, 0, 0, 0, 2, 16], [39, 0, 0, 0, 2, 17], [66, 0, 0, 0, 2, 18], [55, 0, 0, 0, 2, 17], [43, 0, 0, 0, 2, 16], [50, 0, 0, 0, 2, 16], [56, 0, 0, 0, 2, 15], [55, 0, 1, 0, 2, 16], [51, 0, 0, 0, 2, 17], [46, 0, 1, 0, 2, 17], [47, 0, 0, 0, 2, 18], [47, 0, 0, 0, 2, 16], [48, 0, 0, 0, 2, 16], [48, 0, 0, 0, 2, 17], [32, 0, 0, 0, 2, 17], [32, 0, 0, 0, 2, 16], [44, 0, 0, 0, 2, 18], [32, 0, 0, 0, 2, 16], [51, 0, 0, 0, 2, 17], [42, 0, 0, 0, 2, 16], [32, 0, 0, 0, 2, 17], [48, 0, 0, 0, 2, 16], [44, 0, 0, 0, 2, 14], [53, 0, 0, 0, 2, 17], [37, 0, 1, 0, 2, 17], [42, 0, 0, 0, 2, 19], [46, 0, 0, 0, 2, 19], [16, 0, 0, 0, 2, 19], [17, 0, 0, 0, 2, 18], [72, 0, 0, 0, 2, 18], [85, 0, 0, 0, 2, 18], [57, 0, 1, 0, 2, 17], [53, 0, 1, 0, 2, 16], [44, 0, 0, 0, 2, 16], [47, 0, 0, 0, 2, 16], [44, 0, 0, 0, 2, 15], [48, 0, 0, 0, 2, 15], [46, 0, 0, 0, 2, 16], [34, 0, 0, 0, 2, 16], [75, 0, 0, 0, 2, 16], [40, 0, 0, 0, 2, 17], [37, 0, 0, 0, 2, 17], [34, 0, 0, 0, 2, 16], [50, 0, 0, 0, 2, 15], [46, 0, 1, 0, 2, 13], [46, 0, 0, 0, 2, 14], [20, 0, 0, 0, 2, 14], [7, 0, 0, 0, 2, 15], [19, 0, 0, 0, 2, 16], [31, 0, 0, 0, 2, 17], [17, 0, 0, 0, 2, 17], [35, 0, 0, 0, 2, 16], [39, 0, 0, 0, 2, 17], [59, 0, 0, 0, 2, 16], [62, 0, 1, 0, 2, 16], [50, 0, 0, 0, 2, 16], [46, 0, 0, 0, 2, 16], [42, 0, 0, 0, 2, 17], [46, 0, 0, 0, 2, 17], [51, 0, 0, 0, 2, 18], [46, 0, 0, 0, 2, 16], [56, 0, 0, 0, 2, 15], [32, 0, 0, 0, 2, 16], [46, 0, 0, 0, 2, 16], [37, 0, 0, 0, 2, 17], [61, 0, 0, 0, 2, 16], [46, 0, 0, 0, 2, 17], [42, 0, 0, 0, 2, 17], [27, 0, 0, 0, 2, 16], [39, 0, 0, 0, 2, 18], [46, 0, 1, 0, 2, 18], [43, 0, 0, 0, 2, 16], [46, 0, 1, 0, 2, 15], [27, 0, 0, 0, 2, 14], [56, 0, 0, 0, 2, 16], [47, 0, 0, 0, 2, 15], [42, 0, 0, 0, 2, 16], [35, 0, 0, 0, 2, 15], [47, 0, 0, 0, 2, 16], [23, 0, 0, 0, 2, 16], [84, 0, 0, 0, 2, 15], [45, 0, 0, 0, 2, 14], [42, 0, 0, 0, 2, 14], [39, 0, 1, 0, 2, 14], [41, 0, 0, 0, 2, 15], [37, 0, 0, 0, 2, 16], [81, 0, 0, 0, 2, 16], [35, 0, 0, 0, 2, 15], [60, 0, 0, 0, 2, 17], [6, 0, 0, 0, 2, 18]]\n"
     ]
    }
   ],
   "source": []
  },
  {
   "cell_type": "code",
   "execution_count": 440,
   "metadata": {},
   "outputs": [],
   "source": [
    "\n"
   ]
  }
 ],
 "metadata": {
  "kernelspec": {
   "display_name": "Python 3",
   "language": "python",
   "name": "python3"
  },
  "language_info": {
   "codemirror_mode": {
    "name": "ipython",
    "version": 3
   },
   "file_extension": ".py",
   "mimetype": "text/x-python",
   "name": "python",
   "nbconvert_exporter": "python",
   "pygments_lexer": "ipython3",
   "version": "3.7.4"
  }
 },
 "nbformat": 4,
 "nbformat_minor": 2
}
