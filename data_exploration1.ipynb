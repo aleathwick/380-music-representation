{
 "cells": [
  {
   "cell_type": "code",
   "execution_count": 1,
   "metadata": {},
   "outputs": [],
   "source": [
    "from importlib import reload\n",
    "import pretty_midi\n",
    "import numpy as np\n",
    "import pandas as pd\n",
    "import tensorflow as tf\n",
    "from tensorflow.keras import layers"
   ]
  },
  {
   "cell_type": "code",
   "execution_count": 189,
   "metadata": {},
   "outputs": [],
   "source": [
    "try:\n",
    "    reload(midiMethods)\n",
    "    from modules.midiMethods import *\n",
    "except:\n",
    "    print('reload failed')\n",
    "    import modules.midiMethods as midiMethods\n",
    "    from modules.midiMethods import *\n",
    "try:\n",
    "    reload(dataMethods)\n",
    "    from modules.dataMethods import *\n",
    "except:\n",
    "    print('reload failed')\n",
    "    import modules.dataMethods as dataMethods\n",
    "    from modules.dataMethods import *"
   ]
  },
  {
   "cell_type": "code",
   "execution_count": 135,
   "metadata": {},
   "outputs": [],
   "source": [
    "reload(dataMethods)\n",
    "from modules.dataMethods import *"
   ]
  },
  {
   "cell_type": "code",
   "execution_count": 175,
   "metadata": {},
   "outputs": [
    {
     "name": "stdout",
     "output_type": "stream",
     "text": [
      "[[27, 0, 0, 3, 19, 27], [0, 0, 0, 3, 20, 28], [5, 3, 35, 3, 14, 25], [32, 0, 0, 3, 16, 26], [2, 3, 27, 0, 21, 17], [34, 0, 0, 1, 13, 19], [3, 0, 42, 0, 20, 11], [5, 0, 38, 0, 21, 11], [32, 0, 3, 1, 20, 13], [2, 0, 42, 0, 28, 9], [7, 0, 59, 2, 16, 8], [31, 0, 2, 2, 15, 5]]\n"
     ]
    }
   ],
   "source": [
    "# test out my function for going to note_bin representation\n",
    "pm = pretty_midi.PrettyMIDI('midi/basic_test.mid')\n",
    "noteB2 = pm2note_bin(pm)\n",
    "print(noteB2)\n",
    "# pm2 = note_bin2pm(noteB2)\n",
    "# pm2.write('midi/basic_test_tested.mid')"
   ]
  },
  {
   "cell_type": "code",
   "execution_count": 75,
   "metadata": {},
   "outputs": [],
   "source": [
    "maestro = pd.read_csv('training_data/maestro-v2.0.0withPeriod.csv', index_col=0)\n",
    "filenames = list(maestro['midi_filename'])\n"
   ]
  },
  {
   "cell_type": "code",
   "execution_count": 190,
   "metadata": {},
   "outputs": [
    {
     "name": "stdout",
     "output_type": "stream",
     "text": [
      "################# new example! Of length 4197\n",
      "duration_exceeded:  7\n",
      "shifts_exceeded:  0\n",
      "################# new example! Of length 6072\n",
      "duration_exceeded:  7\n",
      "shifts_exceeded:  0\n",
      "################# new example! Of length 2473\n",
      "duration_exceeded:  7\n",
      "shifts_exceeded:  0\n",
      "################# new example! Of length 3900\n",
      "duration_exceeded:  7\n",
      "shifts_exceeded:  0\n",
      "################# new example! Of length 11581\n",
      "exceeded: 11\n",
      "exceeded: 21\n",
      "exceeded: 36\n",
      "exceeded: 31\n",
      "exceeded: 28\n",
      "exceeded: 29\n",
      "exceeded: 24\n",
      "duration_exceeded:  14\n",
      "shifts_exceeded:  7\n"
     ]
    }
   ],
   "source": [
    "data_path = 'C:/Users\\Andrew/Documents/mlprojects/Datasets/MaestroV2.00/maestro-v2.0.0/'\n",
    "X, Y, X_test, Y_test, n_notes = get_processed_note_bin_data(data_path)"
   ]
  },
  {
   "cell_type": "code",
   "execution_count": 191,
   "metadata": {},
   "outputs": [
    {
     "name": "stdout",
     "output_type": "stream",
     "text": [
      "197\n"
     ]
    }
   ],
   "source": [
    "print(len(Y))\n",
    "note_bin2pm(Y[0]).write('midi/120.mid')\n",
    "note_bin2pm(Y[50]).write('midi/1250.mid')\n",
    "note_bin2pm(Y[100]).write('midi/12100.mid')\n",
    "note_bin2pm(Y[150]).write('midi/12150.mid')"
   ]
  },
  {
   "cell_type": "code",
   "execution_count": 194,
   "metadata": {
    "scrolled": false
   },
   "outputs": [],
   "source": [
    "pm = pretty_midi.PrettyMIDI('midi/BergOriginal.midi')\n",
    "desus(pm)\n",
    "note_bin2pm(pm2note_bin(pm)).write('midi/BergNoPedal.mid')"
   ]
  }
 ],
 "metadata": {
  "kernelspec": {
   "display_name": "Python 3",
   "language": "python",
   "name": "python3"
  },
  "language_info": {
   "codemirror_mode": {
    "name": "ipython",
    "version": 3
   },
   "file_extension": ".py",
   "mimetype": "text/x-python",
   "name": "python",
   "nbconvert_exporter": "python",
   "pygments_lexer": "ipython3",
   "version": "3.7.1"
  }
 },
 "nbformat": 4,
 "nbformat_minor": 2
}
