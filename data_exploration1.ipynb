{
 "cells": [
  {
   "cell_type": "code",
   "execution_count": 230,
   "metadata": {},
   "outputs": [],
   "source": [
    "from importlib import reload\n",
    "import json\n",
    "import pretty_midi\n",
    "import numpy as np\n",
    "import pandas as pd\n",
    "import tensorflow as tf\n",
    "from tensorflow.keras import layers"
   ]
  },
  {
   "cell_type": "code",
   "execution_count": 314,
   "metadata": {},
   "outputs": [],
   "source": [
    "try:\n",
    "    reload(midiMethods)\n",
    "    from modules.midiMethods import *\n",
    "except:\n",
    "    print('reload failed')\n",
    "    import modules.midiMethods as midiMethods\n",
    "    from modules.midiMethods import *\n",
    "try:\n",
    "    reload(dataMethods)\n",
    "    from modules.dataMethods import *\n",
    "except:\n",
    "    print('reload failed')\n",
    "    import modules.dataMethods as dataMethods\n",
    "    from modules.dataMethods import *\n"
   ]
  },
  {
   "cell_type": "code",
   "execution_count": 315,
   "metadata": {},
   "outputs": [],
   "source": [
    "# This works just like this:\n",
    "try:\n",
    "    reload(modules.models)\n",
    "except:\n",
    "    print('reload failed')\n",
    "    import modules.models as models"
   ]
  },
  {
   "cell_type": "code",
   "execution_count": 135,
   "metadata": {},
   "outputs": [],
   "source": [
    "reload(dataMethods)\n",
    "from modules.dataMethods import *"
   ]
  },
  {
   "cell_type": "code",
   "execution_count": 175,
   "metadata": {},
   "outputs": [
    {
     "name": "stdout",
     "output_type": "stream",
     "text": [
      "[[27, 0, 0, 3, 19, 27], [0, 0, 0, 3, 20, 28], [5, 3, 35, 3, 14, 25], [32, 0, 0, 3, 16, 26], [2, 3, 27, 0, 21, 17], [34, 0, 0, 1, 13, 19], [3, 0, 42, 0, 20, 11], [5, 0, 38, 0, 21, 11], [32, 0, 3, 1, 20, 13], [2, 0, 42, 0, 28, 9], [7, 0, 59, 2, 16, 8], [31, 0, 2, 2, 15, 5]]\n"
     ]
    }
   ],
   "source": [
    "# test out my function for going to note_bin representation\n",
    "pm = pretty_midi.PrettyMIDI('midi/basic_test.mid')\n",
    "noteB2 = pm2note_bin(pm)\n",
    "print(noteB2)\n",
    "# pm2 = note_bin2pm(noteB2)\n",
    "# pm2.write('midi/basic_test_tested.mid')"
   ]
  },
  {
   "cell_type": "code",
   "execution_count": 75,
   "metadata": {},
   "outputs": [],
   "source": [
    "maestro = pd.read_csv('training_data/maestro-v2.0.0withPeriod.csv', index_col=0)\n",
    "filenames = list(maestro['midi_filename'])\n"
   ]
  },
  {
   "cell_type": "code",
   "execution_count": 316,
   "metadata": {},
   "outputs": [
    {
     "name": "stdout",
     "output_type": "stream",
     "text": [
      "################# new example! Of length 4197\n",
      "exceeded: 28\n",
      "exceeded: 19\n",
      "exceeded: 43\n",
      "exceeded: 32\n",
      "exceeded: 18\n",
      "exceeded: 18\n",
      "exceeded: 23\n",
      "exceeded: 20\n",
      "exceeded: 52\n",
      "total_durations_exceeded:  9\n",
      "total_shifts_exceeded:  0\n",
      "################# new example! Of length 1223\n",
      "total_durations_exceeded:  9\n",
      "total_shifts_exceeded:  0\n",
      "################# new example! Of length 4498\n",
      "exceeded: 28\n",
      "exceeded: 21\n",
      "exceeded: 25\n",
      "total_durations_exceeded:  12\n",
      "total_shifts_exceeded:  0\n",
      "################# new example! Of length 6072\n",
      "total_durations_exceeded:  12\n",
      "total_shifts_exceeded:  0\n",
      "################# new example! Of length 2314\n",
      "exceeded: 23\n",
      "exceeded: 19\n",
      "exceeded: 19\n",
      "exceeded: 42\n",
      "exceeded: 31\n",
      "total_durations_exceeded:  17\n",
      "total_shifts_exceeded:  0\n",
      "################# new example! Of length 9734\n",
      "exceeded: 51\n",
      "exceeded: 41\n",
      "exceeded: 62\n",
      "exceeded: 59\n",
      "exceeded: 26\n",
      "exceeded: 53\n",
      "exceeded: 51\n",
      "exceeded: 32\n",
      "exceeded: 63\n",
      "exceeded: 49\n",
      "exceeded: 30\n",
      "exceeded: 13\n",
      "total_durations_exceeded:  28\n",
      "total_shifts_exceeded:  1\n",
      "################# new example! Of length 2473\n",
      "total_durations_exceeded:  28\n",
      "total_shifts_exceeded:  1\n",
      "################# new example! Of length 5542\n",
      "total_durations_exceeded:  28\n",
      "total_shifts_exceeded:  1\n",
      "################# new example! Of length 2239\n",
      "total_durations_exceeded:  28\n",
      "total_shifts_exceeded:  1\n",
      "################# new example! Of length 3900\n",
      "exceeded: 10\n",
      "total_durations_exceeded:  28\n",
      "total_shifts_exceeded:  2\n",
      "################# new example! Of length 6189\n",
      "exceeded: 19\n",
      "exceeded: 21\n",
      "exceeded: 19\n",
      "total_durations_exceeded:  31\n",
      "total_shifts_exceeded:  2\n",
      "################# new example! Of length 15923\n",
      "exceeded: 10\n",
      "exceeded: 29\n",
      "exceeded: 15\n",
      "exceeded: 12\n",
      "exceeded: 19\n",
      "exceeded: 21\n",
      "exceeded: 35\n",
      "exceeded: 79\n",
      "exceeded: 76\n",
      "exceeded: 67\n",
      "exceeded: 35\n",
      "exceeded: 26\n",
      "exceeded: 49\n",
      "exceeded: 48\n",
      "exceeded: 31\n",
      "exceeded: 27\n",
      "total_durations_exceeded:  43\n",
      "total_shifts_exceeded:  6\n",
      "################# new example! Of length 11581\n",
      "exceeded: 18\n",
      "exceeded: 29\n",
      "exceeded: 19\n",
      "exceeded: 11\n",
      "exceeded: 25\n",
      "exceeded: 21\n",
      "exceeded: 45\n",
      "exceeded: 19\n",
      "exceeded: 18\n",
      "exceeded: 57\n",
      "exceeded: 36\n",
      "exceeded: 31\n",
      "exceeded: 28\n",
      "exceeded: 29\n",
      "exceeded: 25\n",
      "exceeded: 24\n",
      "total_durations_exceeded:  52\n",
      "total_shifts_exceeded:  13\n",
      "523\n"
     ]
    }
   ],
   "source": [
    "data_path = 'C:/Users\\Andrew/Documents/mlprojects/Datasets/MaestroV2.00/maestro-v2.0.0/'\n",
    "examples = files2note_bin_examples(data_path, skip=100)\n",
    "print(len(examples))"
   ]
  },
  {
   "cell_type": "code",
   "execution_count": 317,
   "metadata": {},
   "outputs": [],
   "source": [
    "# store examples in json format\n",
    "with open('training_data/training_data_note_bin100.json', 'w') as f:\n",
    "    json.dump(examples, f)"
   ]
  },
  {
   "cell_type": "code",
   "execution_count": 194,
   "metadata": {
    "scrolled": false
   },
   "outputs": [],
   "source": [
    "# test out what happens when we use no pedal on Berg sonata, convert to note_bin, and back to midi\n",
    "pm = pretty_midi.PrettyMIDI('midi/BergOriginal.midi')\n",
    "desus(pm)\n",
    "note_bin2pm(pm2note_bin(pm)).write('midi/BergNoPedal.mid')"
   ]
  },
  {
   "cell_type": "code",
   "execution_count": 198,
   "metadata": {},
   "outputs": [],
   "source": [
    "# could convert it to a tf dataset?\n",
    "# use dataset.map() and dataset.filter() to apply transformations to each element\n",
    "dataset = tf.data.Dataset.from_tensor_slices((X, Y))\n",
    "dataset.element_spec"
   ]
  },
  {
   "cell_type": "code",
   "execution_count": 318,
   "metadata": {},
   "outputs": [
    {
     "name": "stdout",
     "output_type": "stream",
     "text": [
      "Model: \"1layerLSTM\"\n",
      "__________________________________________________________________________________________________\n",
      "Layer (type)                    Output Shape         Param #     Connected to                     \n",
      "==================================================================================================\n",
      "input_97 (InputLayer)           [(None, 128, 6)]     0                                            \n",
      "__________________________________________________________________________________________________\n",
      "lambda_106 (Lambda)             (None, 128, 88)      0           input_97[0][0]                   \n",
      "__________________________________________________________________________________________________\n",
      "lambda_107 (Lambda)             (None, 128, 10)      0           input_97[0][0]                   \n",
      "__________________________________________________________________________________________________\n",
      "lambda_108 (Lambda)             (None, 128, 60)      0           input_97[0][0]                   \n",
      "__________________________________________________________________________________________________\n",
      "lambda_109 (Lambda)             (None, 128, 18)      0           input_97[0][0]                   \n",
      "__________________________________________________________________________________________________\n",
      "lambda_110 (Lambda)             (None, 128, 30)      0           input_97[0][0]                   \n",
      "__________________________________________________________________________________________________\n",
      "lambda_111 (Lambda)             (None, 128, 32)      0           input_97[0][0]                   \n",
      "__________________________________________________________________________________________________\n",
      "concatenate_15 (Concatenate)    (None, 128, 238)     0           lambda_106[0][0]                 \n",
      "                                                                 lambda_107[0][0]                 \n",
      "                                                                 lambda_108[0][0]                 \n",
      "                                                                 lambda_109[0][0]                 \n",
      "                                                                 lambda_110[0][0]                 \n",
      "                                                                 lambda_111[0][0]                 \n",
      "__________________________________________________________________________________________________\n",
      "lstm_15 (LSTM)                  (None, 128, 128)     187904      concatenate_15[0][0]             \n",
      "__________________________________________________________________________________________________\n",
      "dense_60 (Dense)                (None, 128, 88)      11352       lstm_15[0][0]                    \n",
      "__________________________________________________________________________________________________\n",
      "dense_61 (Dense)                (None, 128, 10)      1290        lstm_15[0][0]                    \n",
      "__________________________________________________________________________________________________\n",
      "dense_62 (Dense)                (None, 128, 60)      7740        lstm_15[0][0]                    \n",
      "__________________________________________________________________________________________________\n",
      "dense_63 (Dense)                (None, 128, 18)      2322        lstm_15[0][0]                    \n",
      "__________________________________________________________________________________________________\n",
      "dense_64 (Dense)                (None, 128, 30)      3870        lstm_15[0][0]                    \n",
      "__________________________________________________________________________________________________\n",
      "dense_65 (Dense)                (None, 128, 32)      4128        lstm_15[0][0]                    \n",
      "==================================================================================================\n",
      "Total params: 218,606\n",
      "Trainable params: 218,606\n",
      "Non-trainable params: 0\n",
      "__________________________________________________________________________________________________\n"
     ]
    }
   ],
   "source": [
    "# build simple model\n",
    "# excellent example of recurrent model here https://www.tensorflow.org/tutorials/text/text_generation\n",
    "model1 = models.create_model1()\n"
   ]
  },
  {
   "cell_type": "code",
   "execution_count": 319,
   "metadata": {},
   "outputs": [
    {
     "name": "stdout",
     "output_type": "stream",
     "text": [
      "Train on 523 samples\n",
      "523/523 [==============================] - 8s 14ms/sample - loss: 17.8955 - dense_60_loss: 4.4062 - dense_61_loss: 0.9573 - dense_62_loss: 3.7441 - dense_63_loss: 2.0394 - dense_64_loss: 3.4052 - dense_65_loss: 3.2697 - dense_60_accuracy: 0.0081 - dense_61_accuracy: 0.9155 - dense_62_accuracy: 0.0727 - dense_63_accuracy: 0.5134 - dense_64_accuracy: 0.0792 - dense_65_accuracy: 0.0672\n"
     ]
    },
    {
     "data": {
      "text/plain": [
       "<tensorflow.python.keras.callbacks.History at 0x191409d39b0>"
      ]
     },
     "execution_count": 319,
     "metadata": {},
     "output_type": "execute_result"
    }
   ],
   "source": [
    "model1.compile(optimizer='Adam', loss='sparse_categorical_crossentropy', metrics=['accuracy'])\n",
    "X = np.array([example[:-1] for example in examples])\n",
    "Y = np.array([example[1:] for example in examples])\n",
    "# Y = np.reshape(Y, (len(examples), 6, 128))\n",
    "\n",
    "\n",
    "model1.fit(X, [Y[:,:,i] for i in range(6)])"
   ]
  },
  {
   "cell_type": "code",
   "execution_count": 310,
   "metadata": {},
   "outputs": [
    {
     "data": {
      "text/plain": [
       "array([[28, 13, 13, ..., 13, 15, 14],\n",
       "       [14, 15, 22, ..., 11,  4, 25],\n",
       "       [17, 22, 18, ..., 18, 17, 10],\n",
       "       ...,\n",
       "       [11, 11, 29, ..., 13,  3,  2],\n",
       "       [ 0, 29, 28, ..., 17, 11,  9],\n",
       "       [ 9,  8,  3, ..., 29, 29, 29]])"
      ]
     },
     "execution_count": 310,
     "metadata": {},
     "output_type": "execute_result"
    }
   ],
   "source": [
    "[Y[:,:,i] for i in range(6)][4]"
   ]
  }
 ],
 "metadata": {
  "kernelspec": {
   "display_name": "Python 3",
   "language": "python",
   "name": "python3"
  },
  "language_info": {
   "codemirror_mode": {
    "name": "ipython",
    "version": 3
   },
   "file_extension": ".py",
   "mimetype": "text/x-python",
   "name": "python",
   "nbconvert_exporter": "python",
   "pygments_lexer": "ipython3",
   "version": "3.7.1"
  }
 },
 "nbformat": 4,
 "nbformat_minor": 2
}
