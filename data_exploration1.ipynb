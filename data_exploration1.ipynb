{
 "cells": [
  {
   "cell_type": "code",
   "execution_count": 1,
   "metadata": {},
   "outputs": [],
   "source": [
    "from importlib import reload\n",
    "import json\n",
    "import pretty_midi\n",
    "import numpy as np\n",
    "import pandas as pd\n",
    "import matplotlib.pyplot as plt\n",
    "import tensorflow as tf\n",
    "from tensorflow.keras import layers"
   ]
  },
  {
   "cell_type": "code",
   "execution_count": 2,
   "metadata": {},
   "outputs": [
    {
     "name": "stdout",
     "output_type": "stream",
     "text": [
      "[name: \"/device:CPU:0\"\n",
      "device_type: \"CPU\"\n",
      "memory_limit: 268435456\n",
      "locality {\n",
      "}\n",
      "incarnation: 422091078071127324\n",
      ", name: \"/device:XLA_CPU:0\"\n",
      "device_type: \"XLA_CPU\"\n",
      "memory_limit: 17179869184\n",
      "locality {\n",
      "}\n",
      "incarnation: 13336856610618758248\n",
      "physical_device_desc: \"device: XLA_CPU device\"\n",
      ", name: \"/device:GPU:0\"\n",
      "device_type: \"GPU\"\n",
      "memory_limit: 5588779008\n",
      "locality {\n",
      "  bus_id: 1\n",
      "  links {\n",
      "  }\n",
      "}\n",
      "incarnation: 11742072890166847630\n",
      "physical_device_desc: \"device: 0, name: Tesla K20Xm, pci bus id: 0000:00:06.0, compute capability: 3.5\"\n",
      ", name: \"/device:XLA_GPU:0\"\n",
      "device_type: \"XLA_GPU\"\n",
      "memory_limit: 17179869184\n",
      "locality {\n",
      "}\n",
      "incarnation: 152799329061713978\n",
      "physical_device_desc: \"device: XLA_GPU device\"\n",
      "]\n"
     ]
    }
   ],
   "source": [
    "from tensorflow.python.client import device_lib\n",
    "print(device_lib.list_local_devices())"
   ]
  },
  {
   "cell_type": "code",
   "execution_count": 3,
   "metadata": {},
   "outputs": [],
   "source": [
    "import modules.midiMethods as midiMethods\n",
    "reload(midiMethods)\n",
    "from modules.midiMethods import *\n",
    "\n",
    "import modules.dataMethods as dataMethods\n",
    "reload(dataMethods)\n",
    "from modules.dataMethods import *\n"
   ]
  },
  {
   "cell_type": "code",
   "execution_count": 25,
   "metadata": {},
   "outputs": [
    {
     "data": {
      "text/plain": [
       "<module 'modules.mlClasses' from '/home/ubuntu/music-ml/380-music-representation/modules/mlClasses.py'>"
      ]
     },
     "execution_count": 25,
     "metadata": {},
     "output_type": "execute_result"
    }
   ],
   "source": [
    "import modules.models as models\n",
    "reload(models)\n",
    "import modules.mlClasses as mlClasses\n",
    "reload(mlClasses)"
   ]
  },
  {
   "cell_type": "code",
   "execution_count": 75,
   "metadata": {},
   "outputs": [],
   "source": [
    "# if needed, read in filenames...\n",
    "maestro = pd.read_csv('training_data/maestro-v2.0.0withPeriod.csv', index_col=0)\n",
    "filenames = list(maestro['midi_filename'])"
   ]
  },
  {
   "cell_type": "code",
   "execution_count": null,
   "metadata": {},
   "outputs": [],
   "source": [
    "# or process data set\n",
    "data_path = 'C:/Users\\Andrew/Documents/mlprojects/Datasets/MaestroV2.00/maestro-v2.0.0/'\n",
    "examples = files2note_bin_examples(data_path, skip=1, speed=0.9)\n",
    "print(len(examples))"
   ]
  },
  {
   "cell_type": "code",
   "execution_count": 322,
   "metadata": {},
   "outputs": [],
   "source": [
    "# store examples in json format\n",
    "with open('training_data/training_data_note_bin_complete.json', 'w') as f:\n",
    "    json.dump(examples, f)"
   ]
  },
  {
   "cell_type": "code",
   "execution_count": 8,
   "metadata": {},
   "outputs": [],
   "source": [
    "# or read them in\n",
    "with open('training_data/training_data_note_bin_complete.json', 'r') as f:\n",
    "    examples = json.load(f)"
   ]
  },
  {
   "cell_type": "code",
   "execution_count": null,
   "metadata": {},
   "outputs": [],
   "source": [
    "test = pretty_midi.PrettyMIDI('midi/)"
   ]
  },
  {
   "cell_type": "code",
   "execution_count": 27,
   "metadata": {},
   "outputs": [
    {
     "name": "stdout",
     "output_type": "stream",
     "text": [
      "Model: \"3layerLSTM\"\n",
      "__________________________________________________________________________________________________\n",
      "Layer (type)                    Output Shape         Param #     Connected to                     \n",
      "==================================================================================================\n",
      "input_5 (InputLayer)            [(None, 128, 6)]     0                                            \n",
      "__________________________________________________________________________________________________\n",
      "lambda_24 (Lambda)              (None, 128, 88)      0           input_5[0][0]                    \n",
      "__________________________________________________________________________________________________\n",
      "lambda_25 (Lambda)              (None, 128, 10)      0           input_5[0][0]                    \n",
      "__________________________________________________________________________________________________\n",
      "lambda_26 (Lambda)              (None, 128, 60)      0           input_5[0][0]                    \n",
      "__________________________________________________________________________________________________\n",
      "lambda_27 (Lambda)              (None, 128, 18)      0           input_5[0][0]                    \n",
      "__________________________________________________________________________________________________\n",
      "lambda_28 (Lambda)              (None, 128, 30)      0           input_5[0][0]                    \n",
      "__________________________________________________________________________________________________\n",
      "lambda_29 (Lambda)              (None, 128, 32)      0           input_5[0][0]                    \n",
      "__________________________________________________________________________________________________\n",
      "concatenate_4 (Concatenate)     (None, 128, 238)     0           lambda_24[0][0]                  \n",
      "                                                                 lambda_25[0][0]                  \n",
      "                                                                 lambda_26[0][0]                  \n",
      "                                                                 lambda_27[0][0]                  \n",
      "                                                                 lambda_28[0][0]                  \n",
      "                                                                 lambda_29[0][0]                  \n",
      "__________________________________________________________________________________________________\n",
      "lstm_12 (LSTM)                  (None, 128, 512)     1538048     concatenate_4[0][0]              \n",
      "__________________________________________________________________________________________________\n",
      "lstm_13 (LSTM)                  (None, 128, 512)     2099200     lstm_12[0][0]                    \n",
      "__________________________________________________________________________________________________\n",
      "lstm_14 (LSTM)                  (None, 128, 512)     2099200     lstm_13[0][0]                    \n",
      "__________________________________________________________________________________________________\n",
      "dense_24 (Dense)                (None, 128, 88)      45144       lstm_14[0][0]                    \n",
      "__________________________________________________________________________________________________\n",
      "dense_25 (Dense)                (None, 128, 10)      5130        lstm_14[0][0]                    \n",
      "__________________________________________________________________________________________________\n",
      "dense_26 (Dense)                (None, 128, 60)      30780       lstm_14[0][0]                    \n",
      "__________________________________________________________________________________________________\n",
      "dense_27 (Dense)                (None, 128, 18)      9234        lstm_14[0][0]                    \n",
      "__________________________________________________________________________________________________\n",
      "dense_28 (Dense)                (None, 128, 30)      15390       lstm_14[0][0]                    \n",
      "__________________________________________________________________________________________________\n",
      "dense_29 (Dense)                (None, 128, 32)      16416       lstm_14[0][0]                    \n",
      "==================================================================================================\n",
      "Total params: 5,858,542\n",
      "Trainable params: 5,858,542\n",
      "Non-trainable params: 0\n",
      "__________________________________________________________________________________________________\n"
     ]
    }
   ],
   "source": [
    "# build simple model\n",
    "# excellent example of recurrent model here https://www.tensorflow.org/tutorials/text/text_generation\n",
    "hidden_state = 512\n",
    "lstm_layers = 3\n",
    "model2 = models.create_model1(hidden_state_size=hidden_state, lstm_layers=lstm_layers)\n",
    "training_generator = mlClasses.DataGenerator(examples, augment=True)"
   ]
  },
  {
   "cell_type": "code",
   "execution_count": null,
   "metadata": {
    "scrolled": true
   },
   "outputs": [
    {
     "name": "stdout",
     "output_type": "stream",
     "text": [
      "Epoch 1/10\n",
      "803/803 [==============================] - 332s 413ms/step - loss: 12.5545 - dense_24_loss: 3.7621 - dense_25_loss: 0.0740 - dense_26_loss: 2.7345 - dense_27_loss: 0.6013 - dense_28_loss: 2.7999 - dense_29_loss: 2.5826 - dense_24_accuracy: 0.0561 - dense_25_accuracy: 0.9856 - dense_26_accuracy: 0.2246 - dense_27_accuracy: 0.8082 - dense_28_accuracy: 0.1669 - dense_29_accuracy: 0.1401\n",
      "Epoch 2/10\n",
      "803/803 [==============================] - 331s 412ms/step - loss: 11.0676 - dense_24_loss: 3.3103 - dense_25_loss: 0.0535 - dense_26_loss: 2.4357 - dense_27_loss: 0.4185 - dense_28_loss: 2.4075 - dense_29_loss: 2.4423 - dense_24_accuracy: 0.1067 - dense_25_accuracy: 0.9860 - dense_26_accuracy: 0.2577 - dense_27_accuracy: 0.8656 - dense_28_accuracy: 0.2671 - dense_29_accuracy: 0.1650\n",
      "Epoch 3/10\n",
      "803/803 [==============================] - 331s 412ms/step - loss: 10.5929 - dense_24_loss: 3.1074 - dense_25_loss: 0.0492 - dense_26_loss: 2.3371 - dense_27_loss: 0.3933 - dense_28_loss: 2.3065 - dense_29_loss: 2.3994 - dense_24_accuracy: 0.1480 - dense_25_accuracy: 0.9863 - dense_26_accuracy: 0.2705 - dense_27_accuracy: 0.8730 - dense_28_accuracy: 0.2925 - dense_29_accuracy: 0.1746\n",
      "Epoch 4/10\n",
      "803/803 [==============================] - 328s 408ms/step - loss: 10.2791 - dense_24_loss: 2.9415 - dense_25_loss: 0.0468 - dense_26_loss: 2.2815 - dense_27_loss: 0.3797 - dense_28_loss: 2.2566 - dense_29_loss: 2.3731 - dense_24_accuracy: 0.2033 - dense_25_accuracy: 0.9865 - dense_26_accuracy: 0.2784 - dense_27_accuracy: 0.8770 - dense_28_accuracy: 0.3038 - dense_29_accuracy: 0.1801\n",
      "Epoch 5/10\n",
      "596/803 [=====================>........] - ETA: 1:23 - loss: 10.0684 - dense_24_loss: 2.8294 - dense_25_loss: 0.0450 - dense_26_loss: 2.2443 - dense_27_loss: 0.3705 - dense_28_loss: 2.2241 - dense_29_loss: 2.3552 - dense_24_accuracy: 0.2362 - dense_25_accuracy: 0.9867 - dense_26_accuracy: 0.2839 - dense_27_accuracy: 0.8797 - dense_28_accuracy: 0.3113 - dense_29_accuracy: 0.1842"
     ]
    }
   ],
   "source": [
    "model2.compile(optimizer='Adam', loss='sparse_categorical_crossentropy', metrics=['accuracy'])\n",
    "# checkpoint = tf.keras.callbacks.ModelCheckpoint(\"weights/model1/{epoch:02d}-{train_loss:.2f}.hdf5\", monitor='train_loss', verbose=2, save_best_only=True, save_weights_only=True)\n",
    "history = model2.fit_generator(training_generator, epochs=10)\n",
    "model2.save_weights('weights/note_bin/model2_10epochs512state3layer.h5')"
   ]
  },
  {
   "cell_type": "code",
   "execution_count": 45,
   "metadata": {},
   "outputs": [
    {
     "data": {
      "text/plain": [
       "<module 'modules.models' from '/home/ubuntu/music-ml/380-music-representation/modules/models.py'>"
      ]
     },
     "execution_count": 45,
     "metadata": {},
     "output_type": "execute_result"
    }
   ],
   "source": [
    "# This works just like this:\n",
    "import modules.models as models\n",
    "reload(models)    "
   ]
  },
  {
   "cell_type": "code",
   "execution_count": 14,
   "metadata": {},
   "outputs": [
    {
     "name": "stdout",
     "output_type": "stream",
     "text": [
      "Model: \"2layerLSTM\"\n",
      "__________________________________________________________________________________________________\n",
      "Layer (type)                    Output Shape         Param #     Connected to                     \n",
      "==================================================================================================\n",
      "input_4 (InputLayer)            [(1, 128, 6)]        0                                            \n",
      "__________________________________________________________________________________________________\n",
      "lambda_18 (Lambda)              (1, 128, 88)         0           input_4[0][0]                    \n",
      "__________________________________________________________________________________________________\n",
      "lambda_19 (Lambda)              (1, 128, 10)         0           input_4[0][0]                    \n",
      "__________________________________________________________________________________________________\n",
      "lambda_20 (Lambda)              (1, 128, 60)         0           input_4[0][0]                    \n",
      "__________________________________________________________________________________________________\n",
      "lambda_21 (Lambda)              (1, 128, 18)         0           input_4[0][0]                    \n",
      "__________________________________________________________________________________________________\n",
      "lambda_22 (Lambda)              (1, 128, 30)         0           input_4[0][0]                    \n",
      "__________________________________________________________________________________________________\n",
      "lambda_23 (Lambda)              (1, 128, 32)         0           input_4[0][0]                    \n",
      "__________________________________________________________________________________________________\n",
      "concatenate_3 (Concatenate)     (1, 128, 238)        0           lambda_18[0][0]                  \n",
      "                                                                 lambda_19[0][0]                  \n",
      "                                                                 lambda_20[0][0]                  \n",
      "                                                                 lambda_21[0][0]                  \n",
      "                                                                 lambda_22[0][0]                  \n",
      "                                                                 lambda_23[0][0]                  \n",
      "__________________________________________________________________________________________________\n",
      "lstm_5 (LSTM)                   (1, 128, 256)        506880      concatenate_3[0][0]              \n",
      "__________________________________________________________________________________________________\n",
      "lstm_6 (LSTM)                   (1, 128, 256)        525312      lstm_5[0][0]                     \n",
      "__________________________________________________________________________________________________\n",
      "dense_18 (Dense)                (1, 128, 88)         22616       lstm_6[0][0]                     \n",
      "__________________________________________________________________________________________________\n",
      "dense_19 (Dense)                (1, 128, 10)         2570        lstm_6[0][0]                     \n",
      "__________________________________________________________________________________________________\n",
      "dense_20 (Dense)                (1, 128, 60)         15420       lstm_6[0][0]                     \n",
      "__________________________________________________________________________________________________\n",
      "dense_21 (Dense)                (1, 128, 18)         4626        lstm_6[0][0]                     \n",
      "__________________________________________________________________________________________________\n",
      "dense_22 (Dense)                (1, 128, 30)         7710        lstm_6[0][0]                     \n",
      "__________________________________________________________________________________________________\n",
      "dense_23 (Dense)                (1, 128, 32)         8224        lstm_6[0][0]                     \n",
      "==================================================================================================\n",
      "Total params: 1,093,358\n",
      "Trainable params: 1,093,358\n",
      "Non-trainable params: 0\n",
      "__________________________________________________________________________________________________\n"
     ]
    }
   ],
   "source": [
    "# tf.train.latest_checkpoint('weights\\first_attempt')\n",
    "prediction_model = models.create_model1(batch_size=1, stateful=True, hidden_state_size=hidden_state, lstm_layers=lstm_layers)"
   ]
  },
  {
   "cell_type": "code",
   "execution_count": 49,
   "metadata": {},
   "outputs": [
    {
     "name": "stdout",
     "output_type": "stream",
     "text": [
      "[44, 0, 0, 4, 3, 20]\n",
      "[48, 0, 0, 4, 3, 20]\n",
      "[51, 0, 0, 3, 3, 20]\n",
      "[[44, 0, 0, 4, 3, 20], [48, 0, 0, 4, 3, 20], [51, 0, 0, 3, 3, 20], [58, 0, 41, 3, 20, 23], [49, 0, 56, 3, 0, 25], [60, 0, 47, 3, 26, 11], [69, 0, 26, 3, 25, 4], [87, 0, 46, 3, 18, 30], [19, 0, 3, 3, 1, 21], [44, 0, 23, 2, 28, 23], [64, 0, 44, 2, 25, 21], [55, 0, 9, 2, 25, 20], [23, 0, 32, 2, 13, 18], [36, 0, 51, 2, 2, 5], [9, 0, 7, 1, 1, 7], [26, 0, 37, 1, 7, 6], [24, 0, 49, 1, 28, 9], [33, 0, 53, 3, 29, 11], [82, 0, 27, 1, 3, 19], [81, 0, 31, 1, 2, 11], [48, 0, 23, 0, 14, 21], [16, 0, 6, 0, 28, 11], [17, 0, 11, 0, 13, 21], [85, 0, 49, 2, 16, 16], [45, 0, 8, 2, 14, 9], [45, 0, 1, 2, 4, 8], [53, 0, 35, 2, 23, 14], [16, 0, 13, 2, 2, 23], [37, 0, 35, 1, 20, 13], [29, 0, 22, 1, 14, 29], [51, 0, 52, 0, 25, 27], [76, 0, 36, 0, 11, 9], [13, 0, 8, 3, 20, 6], [38, 0, 45, 3, 13, 26], [32, 0, 30, 3, 14, 19], [80, 0, 26, 2, 28, 31], [41, 0, 19, 2, 28, 2], [81, 0, 24, 2, 4, 28], [36, 0, 37, 1, 18, 28], [5, 0, 24, 1, 18, 2], [25, 0, 10, 1, 5, 18], [17, 0, 37, 8, 8, 15], [36, 0, 31, 7, 9, 28], [46, 0, 50, 6, 22, 15], [62, 0, 45, 6, 24, 24], [26, 0, 0, 6, 22, 30], [64, 0, 48, 6, 0, 10], [85, 0, 58, 5, 26, 26], [66, 0, 31, 5, 21, 2], [77, 0, 5, 4, 2, 3], [70, 0, 4, 4, 8, 6], [74, 0, 58, 4, 10, 1], [68, 0, 9, 4, 8, 0], [50, 0, 6, 4, 26, 14], [76, 0, 53, 4, 3, 4], [71, 0, 16, 3, 0, 16], [29, 0, 21, 2, 26, 12], [19, 0, 12, 2, 6, 30], [85, 0, 10, 1, 24, 28], [63, 0, 38, 1, 19, 15], [39, 0, 9, 1, 22, 25], [31, 0, 20, 1, 11, 8], [35, 0, 41, 1, 14, 29], [60, 0, 1, 0, 0, 13], [36, 0, 18, 0, 2, 27], [21, 0, 44, 0, 0, 25], [22, 0, 0, 0, 0, 22], [14, 0, 38, 0, 21, 9], [80, 0, 16, 0, 21, 12], [38, 0, 10, 0, 8, 0], [32, 0, 2, 0, 25, 21], [53, 0, 44, 0, 20, 13], [21, 0, 11, 0, 15, 12], [51, 0, 17, 0, 14, 31], [5, 0, 15, 0, 14, 16], [4, 0, 53, 0, 18, 19], [52, 0, 52, 0, 21, 10], [21, 0, 2, 0, 12, 8], [30, 0, 7, 0, 5, 7], [62, 0, 13, 0, 3, 9], [23, 0, 51, 0, 2, 1], [36, 0, 2, 0, 2, 0], [32, 0, 1, 0, 2, 17], [3, 0, 41, 0, 2, 17], [87, 0, 7, 0, 2, 31], [43, 0, 17, 0, 2, 23], [4, 0, 25, 0, 21, 14], [72, 0, 0, 0, 20, 3], [11, 0, 3, 0, 19, 26], [7, 0, 1, 0, 6, 16], [30, 0, 54, 0, 3, 4], [15, 0, 7, 0, 3, 6], [84, 0, 38, 0, 3, 10], [12, 0, 31, 0, 10, 25], [54, 0, 41, 0, 10, 17], [52, 0, 15, 0, 6, 16], [35, 0, 38, 0, 3, 4], [42, 0, 44, 0, 2, 8], [13, 0, 12, 0, 2, 23], [37, 0, 57, 0, 2, 27], [74, 0, 52, 0, 2, 0], [50, 0, 2, 0, 2, 3], [74, 0, 1, 0, 2, 29], [63, 0, 31, 0, 2, 2], [54, 0, 23, 0, 2, 7], [75, 0, 3, 0, 2, 4], [6, 0, 50, 0, 2, 31], [62, 0, 48, 0, 1, 19], [87, 0, 28, 0, 24, 19], [45, 0, 31, 0, 9, 3], [76, 0, 4, 0, 9, 24], [72, 0, 0, 0, 10, 31], [78, 0, 11, 0, 21, 14], [40, 0, 43, 0, 7, 17], [79, 0, 26, 0, 8, 17], [85, 0, 0, 0, 0, 24], [63, 0, 47, 0, 20, 27], [30, 0, 0, 0, 20, 30], [12, 0, 0, 0, 20, 30], [43, 0, 36, 0, 20, 22], [51, 0, 0, 0, 19, 21], [69, 0, 41, 0, 19, 20], [41, 0, 1, 0, 18, 13], [45, 0, 57, 0, 20, 9], [74, 0, 1, 0, 19, 9], [1, 0, 21, 0, 19, 20], [76, 0, 57, 0, 7, 19], [28, 0, 56, 0, 24, 9], [50, 0, 2, 0, 16, 13], [13, 0, 52, 0, 23, 1], [9, 0, 0, 0, 10, 2]]\n"
     ]
    }
   ],
   "source": [
    "prediction_model.load_weights('weights/note_bin/model2_10epochs256state2layer.h5')\n",
    "# temperatures = [0.1] * 6\n",
    "temperatures = [5, 0.12, 0.12, 0.1, 0.1, 5]\n",
    "input_notes = [[44,0,0,4,3,20], [48,0,0,4,3,20], [51,0,0,3,3,20],[56,0,5,3,3,20]]\n",
    "new_seq = models.generate_music(prediction_model, temperatures, input_notes)\n",
    "ns = [[int(a) for a in note] for note in new_seq]\n",
    "print(ns)\n",
    "pm = note_bin2pm(ns)\n",
    "pm.write(f'midi/model2/{temperatures}b.mid')"
   ]
  },
  {
   "cell_type": "code",
   "execution_count": 29,
   "metadata": {},
   "outputs": [
    {
     "data": {
      "image/png": "[encoded data removed]",
      "text/plain": [
       "<Figure size 432x288 with 1 Axes>"
      ]
     },
     "metadata": {
      "needs_background": "light"
     },
     "output_type": "display_data"
    }
   ],
   "source": [
    "models.plt_metric(history)\n"
   ]
  },
  {
   "cell_type": "code",
   "execution_count": 24,
   "metadata": {},
   "outputs": [
    {
     "name": "stdout",
     "output_type": "stream",
     "text": [
      "[[83  0  0  4  3 20]\n",
      " [ 0  0  0  4  3 20]]\n"
     ]
    }
   ],
   "source": [
    "a = np.array([[87, 0, 0, 4, 3, 20], [2, 0, 0, 4, 3, 20]])\n",
    "semitones = -4\n",
    "for j in range(2):\n",
    "    a[j,0] = min(max(a[j,0] + semitones, 0), 87)\n",
    "print(a)"
   ]
  }
 ],
 "metadata": {
  "kernelspec": {
   "display_name": "Python 3",
   "language": "python",
   "name": "python3"
  },
  "language_info": {
   "codemirror_mode": {
    "name": "ipython",
    "version": 3
   },
   "file_extension": ".py",
   "mimetype": "text/x-python",
   "name": "python",
   "nbconvert_exporter": "python",
   "pygments_lexer": "ipython3",
   "version": "3.7.6"
  }
 },
 "nbformat": 4,
 "nbformat_minor": 4
}
