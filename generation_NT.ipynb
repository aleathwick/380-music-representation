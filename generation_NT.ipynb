{
 "cells": [
  {
   "cell_type": "code",
   "execution_count": 1,
   "metadata": {},
   "outputs": [],
   "source": [
    "from importlib import reload\n",
    "import json\n",
    "import pretty_midi\n",
    "import numpy as np\n",
    "import pandas as pd\n",
    "import matplotlib.pyplot as plt\n",
    "import tensorflow as tf\n",
    "from tensorflow.keras import layers"
   ]
  },
  {
   "cell_type": "code",
   "execution_count": null,
   "metadata": {},
   "outputs": [],
   "source": [
    "# check to see that the gpu is available\n",
    "print(tf..device_lib.list_local_devices())"
   ]
  },
  {
   "cell_type": "code",
   "execution_count": 2,
   "metadata": {},
   "outputs": [
    {
     "data": {
      "text/plain": [
       "<module 'modules.mlClasses' from '/home/ubuntu/storage/380-music-representation/modules/mlClasses.py'>"
      ]
     },
     "execution_count": 2,
     "metadata": {},
     "output_type": "execute_result"
    }
   ],
   "source": [
    "# import modules, including a reload statement so that they can be reimported after a change to the methods \n",
    "import modules.midiMethods as midiMethods\n",
    "reload(midiMethods)\n",
    "from modules.midiMethods import *\n",
    "\n",
    "import modules.dataMethods as dataMethods\n",
    "reload(dataMethods)\n",
    "from modules.dataMethods import *\n",
    "\n",
    "import modules.models as models\n",
    "reload(models)\n",
    "\n",
    "import modules.mlClasses as mlClasses\n",
    "reload(mlClasses)\n"
   ]
  },
  {
   "cell_type": "markdown",
   "metadata": {},
   "source": [
    "## NoteTuple Sequence Generation\n",
    "This purpose of this notebook is to generate sequences using the NoteTuple/note bin representation.\n",
    "Weights are loaded into a new model with the same architecture as at training time, but with sequence length of 1, and hidden states retained across batches. The choice of temperature is vitally important on the quality of the new sequences. Low temperatures emphasize more likely events; higher temperatures 'even out' the softmax distribution.\n",
    "See here for a very good tutorial on text generation: https://www.tensorflow.org/tutorials/text/text_generation"
   ]
  },
  {
   "cell_type": "code",
   "execution_count": 5,
   "metadata": {},
   "outputs": [
    {
     "name": "stdout",
     "output_type": "stream",
     "text": [
      "Model: \"3layerLSTM\"\n",
      "__________________________________________________________________________________________________\n",
      "Layer (type)                    Output Shape         Param #     Connected to                     \n",
      "==================================================================================================\n",
      "input_2 (InputLayer)            [(1, 256, 6)]        0                                            \n",
      "__________________________________________________________________________________________________\n",
      "lambda_6 (Lambda)               (1, 256, 88)         0           input_2[0][0]                    \n",
      "__________________________________________________________________________________________________\n",
      "lambda_7 (Lambda)               (1, 256, 10)         0           input_2[0][0]                    \n",
      "__________________________________________________________________________________________________\n",
      "lambda_8 (Lambda)               (1, 256, 60)         0           input_2[0][0]                    \n",
      "__________________________________________________________________________________________________\n",
      "lambda_9 (Lambda)               (1, 256, 18)         0           input_2[0][0]                    \n",
      "__________________________________________________________________________________________________\n",
      "lambda_10 (Lambda)              (1, 256, 30)         0           input_2[0][0]                    \n",
      "__________________________________________________________________________________________________\n",
      "lambda_11 (Lambda)              (1, 256, 32)         0           input_2[0][0]                    \n",
      "__________________________________________________________________________________________________\n",
      "concatenate_1 (Concatenate)     (1, 256, 238)        0           lambda_6[0][0]                   \n",
      "                                                                 lambda_7[0][0]                   \n",
      "                                                                 lambda_8[0][0]                   \n",
      "                                                                 lambda_9[0][0]                   \n",
      "                                                                 lambda_10[0][0]                  \n",
      "                                                                 lambda_11[0][0]                  \n",
      "__________________________________________________________________________________________________\n",
      "lstm_3 (LSTM)                   (1, 256, 512)        1538048     concatenate_1[0][0]              \n",
      "__________________________________________________________________________________________________\n",
      "lstm_4 (LSTM)                   (1, 256, 512)        2099200     lstm_3[0][0]                     \n",
      "__________________________________________________________________________________________________\n",
      "lstm_5 (LSTM)                   (1, 256, 512)        2099200     lstm_4[0][0]                     \n",
      "__________________________________________________________________________________________________\n",
      "dense_6 (Dense)                 (1, 256, 88)         45144       lstm_5[0][0]                     \n",
      "__________________________________________________________________________________________________\n",
      "dense_7 (Dense)                 (1, 256, 10)         5130        lstm_5[0][0]                     \n",
      "__________________________________________________________________________________________________\n",
      "dense_8 (Dense)                 (1, 256, 60)         30780       lstm_5[0][0]                     \n",
      "__________________________________________________________________________________________________\n",
      "dense_9 (Dense)                 (1, 256, 18)         9234        lstm_5[0][0]                     \n",
      "__________________________________________________________________________________________________\n",
      "dense_10 (Dense)                (1, 256, 30)         15390       lstm_5[0][0]                     \n",
      "__________________________________________________________________________________________________\n",
      "dense_11 (Dense)                (1, 256, 32)         16416       lstm_5[0][0]                     \n",
      "==================================================================================================\n",
      "Total params: 5,858,542\n",
      "Trainable params: 5,858,542\n",
      "Non-trainable params: 0\n",
      "__________________________________________________________________________________________________\n"
     ]
    }
   ],
   "source": [
    "# if using an older version of nb, will need vocab1\n",
    "vocab1 = {\"pitch\":88, \"shift_M\":10, \"shift_m\":60, \"duration_M\":18, \"duration_m\":30, \"velocity\":32}\n",
    "vocab2 = {\"pitch\":88, \"shift_M\":10, \"shift_m\":24, \"duration_M\":13, \"duration_m\":16, \"velocity\":16}\n",
    "hidden_state = 512\n",
    "lstm_layers = 3\n",
    "prediction_model = models.create_nbmodel(batch_size=1, stateful=True, hidden_state_size=hidden_state, lstm_layers=lstm_layers, vocab=vocab1)"
   ]
  },
  {
   "cell_type": "code",
   "execution_count": null,
   "metadata": {},
   "outputs": [],
   "source": [
    "# load some weights\n",
    "prediction_model.load_weights('models/nb/nbmodel21/33-5.30.hdf5')\n",
    "# prediction_model.load_weights('weights/note_bin/model2_60epochs512state3layer.h5')\n",
    "# choose an input sequence to start things off with\n",
    "start = 'spa4'\n",
    "input_notes = pm2note_bin(pretty_midi.PrettyMIDI(f'midi/starts/{start}.mid'))"
   ]
  },
  {
   "cell_type": "code",
   "execution_count": null,
   "metadata": {},
   "outputs": [],
   "source": [
    "for temperature in np.linspace(0,1,11):\n",
    "    # we have the option of adjusting temperature for each of the six note attributes independently\n",
    "    temperatures = [temperature] * 6\n",
    "    new_seq_length = 400\n",
    "    new_seq = models.generate_nbmusic(prediction_model, new_seq_length, temperatures, input_notes)\n",
    "    new_seq_list = [[int(a) for a in note] for note in new_seq]\n",
    "    # convert to prettymidi object and write to file\n",
    "    pm = note_bin2pm(new_seq_list)\n",
    "    pm.write(f'models/nb/nbmodel21/midi/{start}-{new_seq_length}-{temperature:.3f}.mid')"
   ]
  }
 ],
 "metadata": {
  "kernelspec": {
   "display_name": "Python 3",
   "language": "python",
   "name": "python3"
  },
  "language_info": {
   "codemirror_mode": {
    "name": "ipython",
    "version": 3
   },
   "file_extension": ".py",
   "mimetype": "text/x-python",
   "name": "python",
   "nbconvert_exporter": "python",
   "pygments_lexer": "ipython3",
   "version": "3.7.6"
  }
 },
 "nbformat": 4,
 "nbformat_minor": 4
}
