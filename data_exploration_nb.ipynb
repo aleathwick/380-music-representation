{
 "cells": [
  {
   "cell_type": "code",
   "execution_count": 1,
   "metadata": {},
   "outputs": [],
   "source": [
    "from importlib import reload\n",
    "import json\n",
    "import pretty_midi\n",
    "import numpy as np\n",
    "import pandas as pd\n",
    "import matplotlib.pyplot as plt\n",
    "import tensorflow as tf\n",
    "from tensorflow.keras import layers"
   ]
  },
  {
   "cell_type": "code",
   "execution_count": null,
   "metadata": {},
   "outputs": [],
   "source": [
    "# check gpu\n",
    "print(tf..device_lib.list_local_devices())"
   ]
  },
  {
   "cell_type": "code",
   "execution_count": 17,
   "metadata": {},
   "outputs": [
    {
     "data": {
      "text/plain": [
       "<module 'modules.mlClasses' from '/home/ubuntu/storage/380-music-representation/modules/mlClasses.py'>"
      ]
     },
     "execution_count": 17,
     "metadata": {},
     "output_type": "execute_result"
    }
   ],
   "source": [
    "import modules.midiMethods as midiMethods\n",
    "reload(midiMethods)\n",
    "from modules.midiMethods import *\n",
    "\n",
    "import modules.dataMethods as dataMethods\n",
    "reload(dataMethods)\n",
    "from modules.dataMethods import *\n",
    "\n",
    "import modules.models as models\n",
    "reload(models)\n",
    "\n",
    "import modules.mlClasses as mlClasses\n",
    "reload(mlClasses)\n"
   ]
  },
  {
   "cell_type": "code",
   "execution_count": 123,
   "metadata": {},
   "outputs": [],
   "source": [
    "# if needed, read in filenames... specify if validation or test\n",
    "maestro = pd.read_csv('training_data/maestro-v2.0.0withPeriod.csv', index_col=0)\n",
    "filenames = list(maestro[maestro['split'] == 'train']['midi_filename'])"
   ]
  },
  {
   "cell_type": "code",
   "execution_count": 5,
   "metadata": {},
   "outputs": [],
   "source": [
    "# store examples in json format\n",
    "with open('training_data/note_bin_v1/nb_256_train0.95.json', 'w') as f:\n",
    "    json.dump(train_95, f)"
   ]
  },
  {
   "cell_type": "code",
   "execution_count": 4,
   "metadata": {},
   "outputs": [],
   "source": [
    "# or read them in\n",
    "with open('training_data/note_bin_v2/nb_220_train1.json', 'r') as f:\n",
    "    examples = json.load(f)\n",
    "# with open('training_data/note_bin_v2/nb_220_val.json', 'r') as f:\n",
    "#     val = json.load(f)\n",
    "with open('training_data/note_bin_v2/nb_220_train1_chromaweighted.json', 'r') as f:\n",
    "    chroma = json.load(f)"
   ]
  },
  {
   "cell_type": "code",
   "execution_count": 6,
   "metadata": {},
   "outputs": [],
   "source": [
    "with open('training_data/note_bin_v2/nb_220_train1_chromalowest.json', 'r') as f:\n",
    "    chroma = json.load(f)"
   ]
  },
  {
   "cell_type": "code",
   "execution_count": 7,
   "metadata": {},
   "outputs": [
    {
     "name": "stdout",
     "output_type": "stream",
     "text": [
      "48037\n",
      "48037\n"
     ]
    }
   ],
   "source": [
    "print(len(examples))\n",
    "print(len(chroma))"
   ]
  },
  {
   "cell_type": "code",
   "execution_count": 103,
   "metadata": {},
   "outputs": [],
   "source": [
    "with open('training_data/note_bin_v1/nb_256_train_chroma1.00.json', 'w') as f:\n",
    "    json.dump(ex_c.tolist(), f)"
   ]
  },
  {
   "cell_type": "code",
   "execution_count": null,
   "metadata": {},
   "outputs": [],
   "source": [
    "# for nb version 1:\n",
    "# vocab={\"pitch\":88, \"shift_M\":10, \"shift_m\":60, \"duration_M\":18, \"duration_m\":30, \"velocity\":32}\n",
    "# for nb version 2:\n",
    "vocab={\"pitch\":88, \"shift_M\":10, \"shift_m\":24, \"duration_M\":13, \"duration_m\":16, \"velocity\":16}"
   ]
  },
  {
   "cell_type": "code",
   "execution_count": null,
   "metadata": {},
   "outputs": [],
   "source": [
    "# build simple model\n",
    "# excellent example of recurrent model here https://www.tensorflow.org/tutorials/text/text_generation\n",
    "hidden_state = 512\n",
    "lstm_layers = 3\n",
    "seq_length = len(examples[0]) - 1\n",
    "model2 = models.create_model1(hidden_state_size=hidden_state, lstm_layers=lstm_layers,\n",
    "                              seq_length=seq_length)\n",
    "training_generator = mlClasses.DataGenerator(examples, augment=True)\n",
    "val_gen = mlClasses.DataGenerator(val, augment=False)"
   ]
  },
  {
   "cell_type": "code",
   "execution_count": 19,
   "metadata": {
    "scrolled": true
   },
   "outputs": [
    {
     "name": "stdout",
     "output_type": "stream",
     "text": [
      "Epoch 1/20\n",
      "322/322 [==============================] - 237s 736ms/step - loss: 13.1786 - dense_6_loss: 3.8935 - dense_7_loss: 0.0925 - dense_8_loss: 2.8613 - dense_9_loss: 0.6869 - dense_10_loss: 2.9975 - dense_11_loss: 2.6470 - dense_6_accuracy: 0.0449 - dense_7_accuracy: 0.9827 - dense_8_accuracy: 0.2096 - dense_9_accuracy: 0.7747 - dense_10_accuracy: 0.1366 - dense_11_accuracy: 0.1310 - val_loss: 12.2064 - val_dense_6_loss: 3.6095 - val_dense_7_loss: 0.0771 - val_dense_8_loss: 2.7222 - val_dense_9_loss: 0.5180 - val_dense_10_loss: 2.7510 - val_dense_11_loss: 2.5287 - val_dense_6_accuracy: 0.0763 - val_dense_7_accuracy: 0.9830 - val_dense_8_accuracy: 0.2281 - val_dense_9_accuracy: 0.8299 - val_dense_10_accuracy: 0.1698 - val_dense_11_accuracy: 0.1484\n",
      "Epoch 2/20\n",
      "322/322 [==============================] - 236s 733ms/step - loss: 11.6700 - dense_6_loss: 3.4521 - dense_7_loss: 0.0583 - dense_8_loss: 2.5982 - dense_9_loss: 0.4496 - dense_10_loss: 2.6230 - dense_11_loss: 2.4890 - dense_6_accuracy: 0.0938 - dense_7_accuracy: 0.9861 - dense_8_accuracy: 0.2347 - dense_9_accuracy: 0.8524 - dense_10_accuracy: 0.1990 - dense_11_accuracy: 0.1555 - val_loss: 11.6466 - val_dense_6_loss: 3.4443 - val_dense_7_loss: 0.0670 - val_dense_8_loss: 2.5973 - val_dense_9_loss: 0.4659 - val_dense_10_loss: 2.5832 - val_dense_11_loss: 2.4889 - val_dense_6_accuracy: 0.0864 - val_dense_7_accuracy: 0.9832 - val_dense_8_accuracy: 0.2406 - val_dense_9_accuracy: 0.8465 - val_dense_10_accuracy: 0.2269 - val_dense_11_accuracy: 0.1557\n",
      "Epoch 3/20\n",
      "322/322 [==============================] - 237s 736ms/step - loss: 11.1866 - dense_6_loss: 3.3122 - dense_7_loss: 0.0526 - dense_8_loss: 2.4777 - dense_9_loss: 0.4164 - dense_10_loss: 2.4758 - dense_11_loss: 2.4518 - dense_6_accuracy: 0.1024 - dense_7_accuracy: 0.9862 - dense_8_accuracy: 0.2500 - dense_9_accuracy: 0.8624 - dense_10_accuracy: 0.2481 - dense_11_accuracy: 0.1632 - val_loss: 11.2761 - val_dense_6_loss: 3.3339 - val_dense_7_loss: 0.0639 - val_dense_8_loss: 2.5014 - val_dense_9_loss: 0.4482 - val_dense_10_loss: 2.4699 - val_dense_11_loss: 2.4587 - val_dense_6_accuracy: 0.1002 - val_dense_7_accuracy: 0.9832 - val_dense_8_accuracy: 0.2515 - val_dense_9_accuracy: 0.8526 - val_dense_10_accuracy: 0.2601 - val_dense_11_accuracy: 0.1615\n",
      "Epoch 4/20\n",
      "322/322 [==============================] - 238s 738ms/step - loss: 10.8247 - dense_6_loss: 3.1825 - dense_7_loss: 0.0494 - dense_8_loss: 2.3899 - dense_9_loss: 0.3971 - dense_10_loss: 2.3858 - dense_11_loss: 2.4199 - dense_6_accuracy: 0.1237 - dense_7_accuracy: 0.9865 - dense_8_accuracy: 0.2617 - dense_9_accuracy: 0.8684 - dense_10_accuracy: 0.2724 - dense_11_accuracy: 0.1699 - val_loss: 11.0275 - val_dense_6_loss: 3.2278 - val_dense_7_loss: 0.0607 - val_dense_8_loss: 2.4460 - val_dense_9_loss: 0.4332 - val_dense_10_loss: 2.4220 - val_dense_11_loss: 2.4379 - val_dense_6_accuracy: 0.1255 - val_dense_7_accuracy: 0.9835 - val_dense_8_accuracy: 0.2588 - val_dense_9_accuracy: 0.8569 - val_dense_10_accuracy: 0.2717 - val_dense_11_accuracy: 0.1669\n",
      "Epoch 5/20\n",
      "322/322 [==============================] - 238s 739ms/step - loss: 10.5430 - dense_6_loss: 3.0486 - dense_7_loss: 0.0471 - dense_8_loss: 2.3317 - dense_9_loss: 0.3844 - dense_10_loss: 2.3364 - dense_11_loss: 2.3948 - dense_6_accuracy: 0.1613 - dense_7_accuracy: 0.9867 - dense_8_accuracy: 0.2693 - dense_9_accuracy: 0.8727 - dense_10_accuracy: 0.2837 - dense_11_accuracy: 0.1751 - val_loss: 10.8360 - val_dense_6_loss: 3.1258 - val_dense_7_loss: 0.0595 - val_dense_8_loss: 2.4117 - val_dense_9_loss: 0.4265 - val_dense_10_loss: 2.3921 - val_dense_11_loss: 2.4203 - val_dense_6_accuracy: 0.1615 - val_dense_7_accuracy: 0.9834 - val_dense_8_accuracy: 0.2624 - val_dense_9_accuracy: 0.8599 - val_dense_10_accuracy: 0.2789 - val_dense_11_accuracy: 0.1704\n",
      "Epoch 6/20\n",
      "322/322 [==============================] - 234s 726ms/step - loss: 10.3194 - dense_6_loss: 2.9281 - dense_7_loss: 0.0454 - dense_8_loss: 2.2909 - dense_9_loss: 0.3748 - dense_10_loss: 2.3042 - dense_11_loss: 2.3760 - dense_6_accuracy: 0.2011 - dense_7_accuracy: 0.9869 - dense_8_accuracy: 0.2749 - dense_9_accuracy: 0.8758 - dense_10_accuracy: 0.2908 - dense_11_accuracy: 0.1790 - val_loss: 10.6846 - val_dense_6_loss: 3.0357 - val_dense_7_loss: 0.0580 - val_dense_8_loss: 2.3878 - val_dense_9_loss: 0.4203 - val_dense_10_loss: 2.3720 - val_dense_11_loss: 2.4106 - val_dense_6_accuracy: 0.1912 - val_dense_7_accuracy: 0.9835 - val_dense_8_accuracy: 0.2660 - val_dense_9_accuracy: 0.8618 - val_dense_10_accuracy: 0.2833 - val_dense_11_accuracy: 0.1712\n",
      "Epoch 7/20\n",
      "322/322 [==============================] - 236s 732ms/step - loss: 10.1382 - dense_6_loss: 2.8303 - dense_7_loss: 0.0440 - dense_8_loss: 2.2581 - dense_9_loss: 0.3672 - dense_10_loss: 2.2782 - dense_11_loss: 2.3604 - dense_6_accuracy: 0.2302 - dense_7_accuracy: 0.9870 - dense_8_accuracy: 0.2794 - dense_9_accuracy: 0.8782 - dense_10_accuracy: 0.2970 - dense_11_accuracy: 0.1826 - val_loss: 10.5971 - val_dense_6_loss: 2.9824 - val_dense_7_loss: 0.0578 - val_dense_8_loss: 2.3736 - val_dense_9_loss: 0.4186 - val_dense_10_loss: 2.3624 - val_dense_11_loss: 2.4022 - val_dense_6_accuracy: 0.2073 - val_dense_7_accuracy: 0.9832 - val_dense_8_accuracy: 0.2685 - val_dense_9_accuracy: 0.8623 - val_dense_10_accuracy: 0.2864 - val_dense_11_accuracy: 0.1746\n",
      "Epoch 8/20\n",
      "322/322 [==============================] - 234s 727ms/step - loss: 9.9889 - dense_6_loss: 2.7502 - dense_7_loss: 0.0428 - dense_8_loss: 2.2315 - dense_9_loss: 0.3608 - dense_10_loss: 2.2567 - dense_11_loss: 2.3469 - dense_6_accuracy: 0.2516 - dense_7_accuracy: 0.9872 - dense_8_accuracy: 0.2833 - dense_9_accuracy: 0.8801 - dense_10_accuracy: 0.3015 - dense_11_accuracy: 0.1855 - val_loss: 10.5197 - val_dense_6_loss: 2.9369 - val_dense_7_loss: 0.0570 - val_dense_8_loss: 2.3642 - val_dense_9_loss: 0.4144 - val_dense_10_loss: 2.3517 - val_dense_11_loss: 2.3955 - val_dense_6_accuracy: 0.2188 - val_dense_7_accuracy: 0.9834 - val_dense_8_accuracy: 0.2695 - val_dense_9_accuracy: 0.8635 - val_dense_10_accuracy: 0.2874 - val_dense_11_accuracy: 0.1756\n",
      "Epoch 9/20\n",
      "322/322 [==============================] - 236s 732ms/step - loss: 9.8622 - dense_6_loss: 2.6830 - dense_7_loss: 0.0418 - dense_8_loss: 2.2087 - dense_9_loss: 0.3549 - dense_10_loss: 2.2383 - dense_11_loss: 2.3355 - dense_6_accuracy: 0.2690 - dense_7_accuracy: 0.9874 - dense_8_accuracy: 0.2864 - dense_9_accuracy: 0.8817 - dense_10_accuracy: 0.3055 - dense_11_accuracy: 0.1878 - val_loss: 10.4529 - val_dense_6_loss: 2.8993 - val_dense_7_loss: 0.0569 - val_dense_8_loss: 2.3539 - val_dense_9_loss: 0.4114 - val_dense_10_loss: 2.3393 - val_dense_11_loss: 2.3922 - val_dense_6_accuracy: 0.2290 - val_dense_7_accuracy: 0.9837 - val_dense_8_accuracy: 0.2709 - val_dense_9_accuracy: 0.8644 - val_dense_10_accuracy: 0.2908 - val_dense_11_accuracy: 0.1757\n",
      "Epoch 10/20\n",
      "322/322 [==============================] - 237s 735ms/step - loss: 9.7520 - dense_6_loss: 2.6240 - dense_7_loss: 0.0408 - dense_8_loss: 2.1892 - dense_9_loss: 0.3500 - dense_10_loss: 2.2227 - dense_11_loss: 2.3254 - dense_6_accuracy: 0.2840 - dense_7_accuracy: 0.9875 - dense_8_accuracy: 0.2892 - dense_9_accuracy: 0.8832 - dense_10_accuracy: 0.3087 - dense_11_accuracy: 0.1902 - val_loss: 10.4093 - val_dense_6_loss: 2.8702 - val_dense_7_loss: 0.0563 - val_dense_8_loss: 2.3477 - val_dense_9_loss: 0.4109 - val_dense_10_loss: 2.3380 - val_dense_11_loss: 2.3861 - val_dense_6_accuracy: 0.2354 - val_dense_7_accuracy: 0.9833 - val_dense_8_accuracy: 0.2720 - val_dense_9_accuracy: 0.8644 - val_dense_10_accuracy: 0.2909 - val_dense_11_accuracy: 0.1781\n",
      "Epoch 11/20\n",
      "322/322 [==============================] - 236s 732ms/step - loss: 9.6519 - dense_6_loss: 2.5717 - dense_7_loss: 0.0400 - dense_8_loss: 2.1711 - dense_9_loss: 0.3454 - dense_10_loss: 2.2078 - dense_11_loss: 2.3158 - dense_6_accuracy: 0.2967 - dense_7_accuracy: 0.9876 - dense_8_accuracy: 0.2919 - dense_9_accuracy: 0.8845 - dense_10_accuracy: 0.3117 - dense_11_accuracy: 0.1923 - val_loss: 10.3737 - val_dense_6_loss: 2.8456 - val_dense_7_loss: 0.0558 - val_dense_8_loss: 2.3431 - val_dense_9_loss: 0.4101 - val_dense_10_loss: 2.3349 - val_dense_11_loss: 2.3842 - val_dense_6_accuracy: 0.2421 - val_dense_7_accuracy: 0.9836 - val_dense_8_accuracy: 0.2723 - val_dense_9_accuracy: 0.8654 - val_dense_10_accuracy: 0.2916 - val_dense_11_accuracy: 0.1782\n",
      "Epoch 12/20\n",
      "322/322 [==============================] - 237s 736ms/step - loss: 9.5642 - dense_6_loss: 2.5264 - dense_7_loss: 0.0392 - dense_8_loss: 2.1549 - dense_9_loss: 0.3411 - dense_10_loss: 2.1950 - dense_11_loss: 2.3075 - dense_6_accuracy: 0.3078 - dense_7_accuracy: 0.9878 - dense_8_accuracy: 0.2941 - dense_9_accuracy: 0.8858 - dense_10_accuracy: 0.3144 - dense_11_accuracy: 0.1940 - val_loss: 10.3500 - val_dense_6_loss: 2.8295 - val_dense_7_loss: 0.0563 - val_dense_8_loss: 2.3407 - val_dense_9_loss: 0.4096 - val_dense_10_loss: 2.3318 - val_dense_11_loss: 2.3822 - val_dense_6_accuracy: 0.2455 - val_dense_7_accuracy: 0.9835 - val_dense_8_accuracy: 0.2722 - val_dense_9_accuracy: 0.8652 - val_dense_10_accuracy: 0.2914 - val_dense_11_accuracy: 0.1797\n",
      "Epoch 13/20\n",
      "322/322 [==============================] - 236s 732ms/step - loss: 9.4860 - dense_6_loss: 2.4862 - dense_7_loss: 0.0385 - dense_8_loss: 2.1410 - dense_9_loss: 0.3375 - dense_10_loss: 2.1827 - dense_11_loss: 2.3000 - dense_6_accuracy: 0.3176 - dense_7_accuracy: 0.9879 - dense_8_accuracy: 0.2960 - dense_9_accuracy: 0.8868 - dense_10_accuracy: 0.3172 - dense_11_accuracy: 0.1957 - val_loss: 10.3251 - val_dense_6_loss: 2.8137 - val_dense_7_loss: 0.0563 - val_dense_8_loss: 2.3391 - val_dense_9_loss: 0.4084 - val_dense_10_loss: 2.3273 - val_dense_11_loss: 2.3803 - val_dense_6_accuracy: 0.2504 - val_dense_7_accuracy: 0.9835 - val_dense_8_accuracy: 0.2735 - val_dense_9_accuracy: 0.8653 - val_dense_10_accuracy: 0.2928 - val_dense_11_accuracy: 0.1797\n",
      "Epoch 14/20\n",
      "322/322 [==============================] - 237s 737ms/step - loss: 9.4119 - dense_6_loss: 2.4487 - dense_7_loss: 0.0377 - dense_8_loss: 2.1272 - dense_9_loss: 0.3338 - dense_10_loss: 2.1715 - dense_11_loss: 2.2929 - dense_6_accuracy: 0.3267 - dense_7_accuracy: 0.9881 - dense_8_accuracy: 0.2980 - dense_9_accuracy: 0.8878 - dense_10_accuracy: 0.3195 - dense_11_accuracy: 0.1971 - val_loss: 10.3138 - val_dense_6_loss: 2.8050 - val_dense_7_loss: 0.0559 - val_dense_8_loss: 2.3378 - val_dense_9_loss: 0.4074 - val_dense_10_loss: 2.3262 - val_dense_11_loss: 2.3815 - val_dense_6_accuracy: 0.2540 - val_dense_7_accuracy: 0.9836 - val_dense_8_accuracy: 0.2736 - val_dense_9_accuracy: 0.8660 - val_dense_10_accuracy: 0.2933 - val_dense_11_accuracy: 0.1794\n",
      "Epoch 15/20\n",
      "322/322 [==============================] - 240s 746ms/step - loss: 9.3426 - dense_6_loss: 2.4134 - dense_7_loss: 0.0371 - dense_8_loss: 2.1145 - dense_9_loss: 0.3304 - dense_10_loss: 2.1608 - dense_11_loss: 2.2864 - dense_6_accuracy: 0.3351 - dense_7_accuracy: 0.9882 - dense_8_accuracy: 0.2997 - dense_9_accuracy: 0.8888 - dense_10_accuracy: 0.3217 - dense_11_accuracy: 0.1984 - val_loss: 10.3079 - val_dense_6_loss: 2.7948 - val_dense_7_loss: 0.0559 - val_dense_8_loss: 2.3397 - val_dense_9_loss: 0.4096 - val_dense_10_loss: 2.3264 - val_dense_11_loss: 2.3814 - val_dense_6_accuracy: 0.2557 - val_dense_7_accuracy: 0.9836 - val_dense_8_accuracy: 0.2734 - val_dense_9_accuracy: 0.8658 - val_dense_10_accuracy: 0.2936 - val_dense_11_accuracy: 0.1804\n",
      "Epoch 16/20\n",
      "322/322 [==============================] - 238s 738ms/step - loss: 9.2805 - dense_6_loss: 2.3822 - dense_7_loss: 0.0364 - dense_8_loss: 2.1032 - dense_9_loss: 0.3273 - dense_10_loss: 2.1511 - dense_11_loss: 2.2802 - dense_6_accuracy: 0.3425 - dense_7_accuracy: 0.9884 - dense_8_accuracy: 0.3014 - dense_9_accuracy: 0.8898 - dense_10_accuracy: 0.3237 - dense_11_accuracy: 0.1999 - val_loss: 10.2746 - val_dense_6_loss: 2.7808 - val_dense_7_loss: 0.0560 - val_dense_8_loss: 2.3329 - val_dense_9_loss: 0.4061 - val_dense_10_loss: 2.3211 - val_dense_11_loss: 2.3777 - val_dense_6_accuracy: 0.2595 - val_dense_7_accuracy: 0.9831 - val_dense_8_accuracy: 0.2738 - val_dense_9_accuracy: 0.8660 - val_dense_10_accuracy: 0.2948 - val_dense_11_accuracy: 0.1806\n",
      "Epoch 17/20\n",
      "322/322 [==============================] - 237s 737ms/step - loss: 9.2222 - dense_6_loss: 2.3536 - dense_7_loss: 0.0359 - dense_8_loss: 2.0924 - dense_9_loss: 0.3245 - dense_10_loss: 2.1416 - dense_11_loss: 2.2743 - dense_6_accuracy: 0.3491 - dense_7_accuracy: 0.9885 - dense_8_accuracy: 0.3029 - dense_9_accuracy: 0.8906 - dense_10_accuracy: 0.3257 - dense_11_accuracy: 0.2009 - val_loss: 10.2769 - val_dense_6_loss: 2.7801 - val_dense_7_loss: 0.0560 - val_dense_8_loss: 2.3361 - val_dense_9_loss: 0.4067 - val_dense_10_loss: 2.3207 - val_dense_11_loss: 2.3774 - val_dense_6_accuracy: 0.2616 - val_dense_7_accuracy: 0.9836 - val_dense_8_accuracy: 0.2746 - val_dense_9_accuracy: 0.8668 - val_dense_10_accuracy: 0.2957 - val_dense_11_accuracy: 0.1811\n",
      "Epoch 18/20\n",
      "322/322 [==============================] - 237s 737ms/step - loss: 9.1663 - dense_6_loss: 2.3256 - dense_7_loss: 0.0352 - dense_8_loss: 2.0823 - dense_9_loss: 0.3215 - dense_10_loss: 2.1329 - dense_11_loss: 2.2688 - dense_6_accuracy: 0.3560 - dense_7_accuracy: 0.9886 - dense_8_accuracy: 0.3044 - dense_9_accuracy: 0.8915 - dense_10_accuracy: 0.3276 - dense_11_accuracy: 0.2019 - val_loss: 10.2821 - val_dense_6_loss: 2.7766 - val_dense_7_loss: 0.0562 - val_dense_8_loss: 2.3396 - val_dense_9_loss: 0.4079 - val_dense_10_loss: 2.3229 - val_dense_11_loss: 2.3790 - val_dense_6_accuracy: 0.2618 - val_dense_7_accuracy: 0.9836 - val_dense_8_accuracy: 0.2742 - val_dense_9_accuracy: 0.8660 - val_dense_10_accuracy: 0.2954 - val_dense_11_accuracy: 0.1805\n",
      "Epoch 19/20\n",
      "322/322 [==============================] - 238s 738ms/step - loss: 9.1136 - dense_6_loss: 2.3000 - dense_7_loss: 0.0347 - dense_8_loss: 2.0723 - dense_9_loss: 0.3187 - dense_10_loss: 2.1243 - dense_11_loss: 2.2635 - dense_6_accuracy: 0.3619 - dense_7_accuracy: 0.9888 - dense_8_accuracy: 0.3059 - dense_9_accuracy: 0.8923 - dense_10_accuracy: 0.3291 - dense_11_accuracy: 0.2031 - val_loss: 10.2748 - val_dense_6_loss: 2.7709 - val_dense_7_loss: 0.0561 - val_dense_8_loss: 2.3387 - val_dense_9_loss: 0.4069 - val_dense_10_loss: 2.3233 - val_dense_11_loss: 2.3790 - val_dense_6_accuracy: 0.2630 - val_dense_7_accuracy: 0.9836 - val_dense_8_accuracy: 0.2741 - val_dense_9_accuracy: 0.8659 - val_dense_10_accuracy: 0.2953 - val_dense_11_accuracy: 0.1804\n",
      "Epoch 20/20\n",
      "322/322 [==============================] - 237s 736ms/step - loss: 9.0631 - dense_6_loss: 2.2745 - dense_7_loss: 0.0341 - dense_8_loss: 2.0632 - dense_9_loss: 0.3161 - dense_10_loss: 2.1163 - dense_11_loss: 2.2588 - dense_6_accuracy: 0.3678 - dense_7_accuracy: 0.9889 - dense_8_accuracy: 0.3070 - dense_9_accuracy: 0.8931 - dense_10_accuracy: 0.3309 - dense_11_accuracy: 0.2043 - val_loss: 10.2749 - val_dense_6_loss: 2.7649 - val_dense_7_loss: 0.0568 - val_dense_8_loss: 2.3402 - val_dense_9_loss: 0.4101 - val_dense_10_loss: 2.3224 - val_dense_11_loss: 2.3805 - val_dense_6_accuracy: 0.2643 - val_dense_7_accuracy: 0.9829 - val_dense_8_accuracy: 0.2732 - val_dense_9_accuracy: 0.8650 - val_dense_10_accuracy: 0.2959 - val_dense_11_accuracy: 0.1798\n"
     ]
    }
   ],
   "source": [
    "model2.compile(optimizer='Adam', loss='sparse_categorical_crossentropy', metrics=['accuracy'])\n",
    "checkpoint = tf.keras.callbacks.ModelCheckpoint(\"weights/model1/{epoch:02d}-{train_loss:.2f}.hdf5\", monitor='val_loss', verbose=2, save_best_only=True, save_weights_only=True)\n",
    "epochs=50\n",
    "history2 = model2.fit_generator(training_generator, validation_data=val_gen, epochs=epochs)\n",
    "model2.save_weights(f'models/nbmodel3/model{epochs}e{hidden_state}ss{lstm_layers}l.h5')\n",
    "with open(f'models/nbmodel3/history{epochs}ePd.json', 'w') as f:\n",
    "    json.dump(pd.DataFrame(history.history).to_json(), f)\n"
   ]
  },
  {
   "cell_type": "code",
   "execution_count": 10,
   "metadata": {},
   "outputs": [
    {
     "data": {
      "text/plain": [
       "<module 'modules.models' from '/home/ubuntu/music-ml/380-music-representation/modules/models.py'>"
      ]
     },
     "execution_count": 10,
     "metadata": {},
     "output_type": "execute_result"
    }
   ],
   "source": [
    "# This works just like this:\n",
    "import modules.models as models\n",
    "reload(models)"
   ]
  },
  {
   "cell_type": "code",
   "execution_count": null,
   "metadata": {},
   "outputs": [],
   "source": [
    "# tf.train.latest_checkpoint('weights\\first_attempt')\n",
    "hidden_state = 512\n",
    "lstm_layers = 3\n",
    "prediction_model = models.create_model1(batch_size=1, stateful=True, hidden_state_size=hidden_state, lstm_layers=lstm_layers)"
   ]
  },
  {
   "cell_type": "code",
   "execution_count": 23,
   "metadata": {},
   "outputs": [],
   "source": [
    "# prediction_model.load_weights('weights/note_bin/model2_60epochs512state3layer.h5')\n",
    "prediction_model.load_weights('models/nbmodel14/12-10.46.hdf5')\n",
    "for i in range(1):\n",
    "    temperatures = [0.025 + i * 0.003] * 6\n",
    "    # temperatures = [0.01, 0.01, 0.01, 0.01, 0.01, 0.01]\n",
    "    # input_notes = [[44,0,0,4,3,20], [48,0,0,4,3,20], [51,0,0,3,3,20],[56,0,5,3,3,20]]\n",
    "    input_notes = pm2note_bin(pretty_midi.PrettyMIDI('midi/starts/fug2.mid'))\n",
    "    new_seq_length = 400\n",
    "    new_seq = models.generate_music(prediction_model, new_seq_length, temperatures, input_notes)\n",
    "    ns = [[int(a) for a in note] for note in new_seq]\n",
    "    pm = note_bin2pm(ns)\n",
    "    pm.write(f'midi/nb/12e12fug2-{new_seq_length}{temperatures[0]}.mid')"
   ]
  },
  {
   "cell_type": "code",
   "execution_count": 9,
   "metadata": {},
   "outputs": [],
   "source": [
    "note_bin2pm(input_notes).write('midi/hellad.mid')"
   ]
  },
  {
   "cell_type": "code",
   "execution_count": 9,
   "metadata": {},
   "outputs": [
    {
     "data": {
      "image/png": "[encoded data removed]",
      "text/plain": [
       "<Figure size 432x288 with 1 Axes>"
      ]
     },
     "metadata": {
      "needs_background": "light"
     },
     "output_type": "display_data"
    }
   ],
   "source": [
    "import ast\n",
    "with open(f'models/nbcmodel3/history40e.json', 'r') as f:\n",
    "    hist = ast.literal_eval(json.load(f))\n",
    "with open(f'models/nbcmodel4/history40e.json', 'r') as f:\n",
    "    hist2 = ast.literal_eval(json.load(f))\n",
    "metric = 'loss'\n",
    "# print(hist)\n",
    "plt.plot(hist[metric])\n",
    "plt.plot(hist2[metric])\n",
    "plt.plot(hist['val_' + metric])\n",
    "plt.plot(hist2['val_' + metric])\n",
    "plt.title('model ' + metric)\n",
    "plt.ylabel(metric)\n",
    "plt.xlabel('epoch')\n",
    "plt.legend(['no chroma', 'chroma', 'no chroma val', 'chroma val'], loc='upper right')\n",
    "plt.savefig('?')\n",
    "plt.show()"
   ]
  },
  {
   "cell_type": "code",
   "execution_count": null,
   "metadata": {},
   "outputs": [],
   "source": [
    "with open(f'models/nbcmodel4/history120eStr.json', 'r') as f:\n",
    "    hist = ast.literal_eval(json.load(f))\n",
    "metric = 'loss'\n",
    "# print(hist)\n",
    "plt.plot(hist[metric])\n",
    "plt.plot(hist['val_' + metric])\n",
    "plt.title('model ' + metric)\n",
    "plt.ylabel(metric)\n",
    "plt.xlabel('epoch')\n",
    "plt.legend(['train', 'val'], loc='upper left')\n",
    "plt.show()"
   ]
  },
  {
   "cell_type": "code",
   "execution_count": 8,
   "metadata": {},
   "outputs": [
    {
     "data": {
      "image/png": "[encoded data removed]",
      "text/plain": [
       "<Figure size 432x288 with 1 Axes>"
      ]
     },
     "metadata": {
      "needs_background": "light"
     },
     "output_type": "display_data"
    }
   ],
   "source": [
    "pm = \n",
    "metric = 'loss'\n",
    "# print(hist)\n",
    "plt.plot(hist['val_dense_1_' + metric])\n",
    "plt.plot(hist['val_dense_2_' + metric])\n",
    "plt.plot(hist['val_dense_3_' + metric])\n",
    "plt.plot(hist['val_dense_4_' + metric])\n",
    "plt.plot(hist['val_dense_5_' + metric])\n",
    "plt.plot(hist['val_dense_' + metric])\n",
    "plt.plot(hist['val_' + metric])\n",
    "plt.title('model ' + metric)\n",
    "plt.ylabel(metric)\n",
    "plt.xlabel('epoch')\n",
    "plt.legend(['train', 'val'], loc='upper left')\n",
    "plt.show()"
   ]
  },
  {
   "cell_type": "code",
   "execution_count": 18,
   "metadata": {},
   "outputs": [],
   "source": [
    "pm = pretty_midi.PrettyMIDI(f'midi/BergNoPedal.mid')\n",
    "M_shift_ms = 600\n",
    "m_shift_ms = 30\n",
    "M_duration_ms = 600\n",
    "m_duration_ms = 60\n",
    "nb = pm2note_bin(pm, M_shift_ms = M_shift_ms, m_shift_ms = m_shift_ms,  M_duration_ms = M_duration_ms, m_duration_ms = m_duration_ms)\n",
    "pm2 = note_bin2pm(nb, M_shift_ms = M_shift_ms, m_shift_ms = m_shift_ms,  M_duration_ms = M_duration_ms, m_duration_ms = m_duration_ms)\n",
    "pm2.write('midi/BergQ25.mid')"
   ]
  },
  {
   "cell_type": "code",
   "execution_count": 27,
   "metadata": {},
   "outputs": [
    {
     "name": "stdout",
     "output_type": "stream",
     "text": [
      "[4.000000000001336, 7.999999999995566, 7.999999999995566, 8.000000000002672, 8.000000000002672, 12.00000000000001, 12.000000000000455, 12.000000000000455, 15.999999999998238, 19.99999999999602]\n"
     ]
    }
   ],
   "source": [
    "pm = pretty_midi.PrettyMIDI(f'midi/LisztNoPedal.mid')\n",
    "durations = sorted([(n.end - n.start) * 1000 for n in pm.instruments[0].notes])\n",
    "print(durations[:10])"
   ]
  },
  {
   "cell_type": "code",
   "execution_count": 18,
   "metadata": {},
   "outputs": [
    {
     "data": {
      "image/png": "[encoded data removed]",
      "text/plain": [
       "<Figure size 432x288 with 1 Axes>"
      ]
     },
     "metadata": {
      "needs_background": "light"
     },
     "output_type": "display_data"
    }
   ],
   "source": [
    "models.plt_metric(hist)\n",
    "plt.savefig('??')\n",
    "plt.show()\n",
    "\n"
   ]
  }
 ],
 "metadata": {
  "kernelspec": {
   "display_name": "Python 3",
   "language": "python",
   "name": "python3"
  },
  "language_info": {
   "codemirror_mode": {
    "name": "ipython",
    "version": 3
   },
   "file_extension": ".py",
   "mimetype": "text/x-python",
   "name": "python",
   "nbconvert_exporter": "python",
   "pygments_lexer": "ipython3",
   "version": "3.7.6"
  }
 },
 "nbformat": 4,
 "nbformat_minor": 4
}
