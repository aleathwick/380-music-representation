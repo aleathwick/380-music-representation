{
 "cells": [
  {
   "cell_type": "code",
   "execution_count": 1,
   "metadata": {},
   "outputs": [],
   "source": [
    "from importlib import reload\n",
    "import json\n",
    "import pretty_midi\n",
    "import numpy as np\n",
    "import pandas as pd\n",
    "import matplotlib.pyplot as plt\n",
    "import tensorflow as tf\n",
    "from tensorflow.keras import layers"
   ]
  },
  {
   "cell_type": "code",
   "execution_count": null,
   "metadata": {},
   "outputs": [],
   "source": [
    "# check gpu\n",
    "print(tf..device_lib.list_local_devices())"
   ]
  },
  {
   "cell_type": "code",
   "execution_count": 5,
   "metadata": {},
   "outputs": [
    {
     "data": {
      "text/plain": [
       "<module 'modules.mlClasses' from '/home/ubuntu/storage/380-music-representation/modules/mlClasses.py'>"
      ]
     },
     "execution_count": 5,
     "metadata": {},
     "output_type": "execute_result"
    }
   ],
   "source": [
    "import modules.midiMethods as midiMethods\n",
    "reload(midiMethods)\n",
    "from modules.midiMethods import *\n",
    "\n",
    "import modules.dataMethods as dataMethods\n",
    "reload(dataMethods)\n",
    "from modules.dataMethods import *\n",
    "\n",
    "import modules.models as models\n",
    "reload(models)\n",
    "\n",
    "import modules.mlClasses as mlClasses\n",
    "reload(mlClasses)\n"
   ]
  },
  {
   "cell_type": "code",
   "execution_count": 123,
   "metadata": {},
   "outputs": [],
   "source": [
    "# if needed, read in filenames... specify if validation or test\n",
    "maestro = pd.read_csv('training_data/maestro-v2.0.0withPeriod.csv', index_col=0)\n",
    "filenames = list(maestro[maestro['split'] == 'train']['midi_filename'])"
   ]
  },
  {
   "cell_type": "code",
   "execution_count": 4,
   "metadata": {},
   "outputs": [],
   "source": [
    "# load data\n",
    "with open('training_data/oore_v1/oore_train.json', 'r') as f:\n",
    "    X_train = json.load(f)\n",
    "    \n",
    "with open('training_data/oore_v1/oore_val.json', 'r') as f:\n",
    "    X_val = json.load(f)"
   ]
  },
  {
   "cell_type": "code",
   "execution_count": 5,
   "metadata": {},
   "outputs": [
    {
     "name": "stdout",
     "output_type": "stream",
     "text": [
      "Model: \"3layerLSTM\"\n",
      "_________________________________________________________________\n",
      "Layer (type)                 Output Shape              Param #   \n",
      "=================================================================\n",
      "input_1 (InputLayer)         [(None, 255, 1)]          0         \n",
      "_________________________________________________________________\n",
      "lambda (Lambda)              (None, 255, 333)          0         \n",
      "_________________________________________________________________\n",
      "lstm (LSTM)                  (None, 255, 512)          1732608   \n",
      "_________________________________________________________________\n",
      "lstm_1 (LSTM)                (None, 255, 512)          2099200   \n",
      "_________________________________________________________________\n",
      "lstm_2 (LSTM)                (None, 255, 512)          2099200   \n",
      "_________________________________________________________________\n",
      "dense (Dense)                (None, 255, 333)          170829    \n",
      "=================================================================\n",
      "Total params: 6,101,837\n",
      "Trainable params: 6,101,837\n",
      "Non-trainable params: 0\n",
      "_________________________________________________________________\n"
     ]
    }
   ],
   "source": [
    "# build simple model\n",
    "# excellent example of recurrent model here https://www.tensorflow.org/tutorials/text/text_generation\n",
    "hidden_state = 512\n",
    "lstm_layers = 3\n",
    "seq_length = len(X_train[0]) - 1\n",
    "model2 = models.create_ooremodel(hidden_state_size=hidden_state, lstm_layers=lstm_layers,\n",
    "                              seq_length=seq_length)\n",
    "training_generator = mlClasses.OoreDataGenerator(X_train, augment=False)\n",
    "val_gen = mlClasses.OoreDataGenerator(X_val, augment=False)"
   ]
  },
  {
   "cell_type": "code",
   "execution_count": 7,
   "metadata": {
    "scrolled": true
   },
   "outputs": [
    {
     "name": "stdout",
     "output_type": "stream",
     "text": [
      "Epoch 1/40\n",
      "1170/1171 [============================>.] - ETA: 0s - loss: 3.8895 - accuracy: 0.1074\n",
      "Epoch 00001: val_loss improved from inf to 3.37127, saving model to models/oore1/01-3.37.hdf5\n",
      "1171/1171 [==============================] - 649s 554ms/step - loss: 3.8891 - accuracy: 0.1074 - val_loss: 3.3713 - val_accuracy: 0.1400\n",
      "Epoch 2/40\n",
      "1170/1171 [============================>.] - ETA: 0s - loss: 3.2125 - accuracy: 0.1605\n",
      "Epoch 00002: val_loss improved from 3.37127 to 3.07304, saving model to models/oore1/02-3.07.hdf5\n",
      "1171/1171 [==============================] - 651s 556ms/step - loss: 3.2124 - accuracy: 0.1605 - val_loss: 3.0730 - val_accuracy: 0.1837\n",
      "Epoch 3/40\n",
      "1170/1171 [============================>.] - ETA: 0s - loss: 2.9523 - accuracy: 0.2082\n",
      "Epoch 00003: val_loss improved from 3.07304 to 2.86343, saving model to models/oore1/03-2.86.hdf5\n",
      "1171/1171 [==============================] - 653s 558ms/step - loss: 2.9523 - accuracy: 0.2082 - val_loss: 2.8634 - val_accuracy: 0.2254\n",
      "Epoch 4/40\n",
      "1170/1171 [============================>.] - ETA: 0s - loss: 2.7957 - accuracy: 0.2384\n",
      "Epoch 00004: val_loss improved from 2.86343 to 2.74740, saving model to models/oore1/04-2.75.hdf5\n",
      "1171/1171 [==============================] - 652s 557ms/step - loss: 2.7957 - accuracy: 0.2384 - val_loss: 2.7474 - val_accuracy: 0.2484\n",
      "Epoch 5/40\n",
      "1170/1171 [============================>.] - ETA: 0s - loss: 2.6943 - accuracy: 0.2590\n",
      "Epoch 00005: val_loss improved from 2.74740 to 2.66410, saving model to models/oore1/05-2.66.hdf5\n",
      "1171/1171 [==============================] - 649s 554ms/step - loss: 2.6942 - accuracy: 0.2590 - val_loss: 2.6641 - val_accuracy: 0.2660\n",
      "Epoch 6/40\n",
      "1170/1171 [============================>.] - ETA: 0s - loss: 2.6152 - accuracy: 0.2762\n",
      "Epoch 00006: val_loss improved from 2.66410 to 2.59520, saving model to models/oore1/06-2.60.hdf5\n",
      "1171/1171 [==============================] - 653s 557ms/step - loss: 2.6152 - accuracy: 0.2762 - val_loss: 2.5952 - val_accuracy: 0.2810\n",
      "Epoch 7/40\n",
      "1170/1171 [============================>.] - ETA: 0s - loss: 2.5516 - accuracy: 0.2902\n",
      "Epoch 00007: val_loss improved from 2.59520 to 2.53654, saving model to models/oore1/07-2.54.hdf5\n",
      "1171/1171 [==============================] - 651s 556ms/step - loss: 2.5516 - accuracy: 0.2902 - val_loss: 2.5365 - val_accuracy: 0.2945\n",
      "Epoch 8/40\n",
      "1170/1171 [============================>.] - ETA: 0s - loss: 2.5001 - accuracy: 0.3015\n",
      "Epoch 00008: val_loss improved from 2.53654 to 2.49751, saving model to models/oore1/08-2.50.hdf5\n",
      "1171/1171 [==============================] - 652s 557ms/step - loss: 2.5002 - accuracy: 0.3015 - val_loss: 2.4975 - val_accuracy: 0.3030\n",
      "Epoch 9/40\n",
      "1170/1171 [============================>.] - ETA: 0s - loss: 2.4577 - accuracy: 0.3107\n",
      "Epoch 00009: val_loss improved from 2.49751 to 2.46266, saving model to models/oore1/09-2.46.hdf5\n",
      "1171/1171 [==============================] - 650s 555ms/step - loss: 2.4577 - accuracy: 0.3107 - val_loss: 2.4627 - val_accuracy: 0.3098\n",
      "Epoch 10/40\n",
      "1170/1171 [============================>.] - ETA: 0s - loss: 2.4219 - accuracy: 0.3182\n",
      "Epoch 00010: val_loss improved from 2.46266 to 2.43496, saving model to models/oore1/10-2.43.hdf5\n",
      "1171/1171 [==============================] - 646s 552ms/step - loss: 2.4218 - accuracy: 0.3182 - val_loss: 2.4350 - val_accuracy: 0.3156\n",
      "Epoch 11/40\n",
      "1170/1171 [============================>.] - ETA: 0s - loss: 2.3909 - accuracy: 0.3248\n",
      "Epoch 00011: val_loss improved from 2.43496 to 2.41170, saving model to models/oore1/11-2.41.hdf5\n",
      "1171/1171 [==============================] - 654s 558ms/step - loss: 2.3909 - accuracy: 0.3248 - val_loss: 2.4117 - val_accuracy: 0.3209\n",
      "Epoch 12/40\n",
      "1170/1171 [============================>.] - ETA: 0s - loss: 2.3642 - accuracy: 0.3304\n",
      "Epoch 00012: val_loss improved from 2.41170 to 2.39036, saving model to models/oore1/12-2.39.hdf5\n",
      "1171/1171 [==============================] - 649s 554ms/step - loss: 2.3642 - accuracy: 0.3304 - val_loss: 2.3904 - val_accuracy: 0.3251\n",
      "Epoch 13/40\n",
      "1170/1171 [============================>.] - ETA: 0s - loss: 2.3402 - accuracy: 0.3355\n",
      "Epoch 00013: val_loss improved from 2.39036 to 2.37461, saving model to models/oore1/13-2.37.hdf5\n",
      "1171/1171 [==============================] - 650s 555ms/step - loss: 2.3402 - accuracy: 0.3355 - val_loss: 2.3746 - val_accuracy: 0.3284\n",
      "Epoch 14/40\n",
      "1170/1171 [============================>.] - ETA: 0s - loss: 2.3186 - accuracy: 0.3398\n",
      "Epoch 00014: val_loss improved from 2.37461 to 2.35901, saving model to models/oore1/14-2.36.hdf5\n",
      "1171/1171 [==============================] - 649s 554ms/step - loss: 2.3185 - accuracy: 0.3398 - val_loss: 2.3590 - val_accuracy: 0.3318\n",
      "Epoch 15/40\n",
      "1170/1171 [============================>.] - ETA: 0s - loss: 2.2989 - accuracy: 0.3440\n",
      "Epoch 00015: val_loss improved from 2.35901 to 2.34805, saving model to models/oore1/15-2.35.hdf5\n",
      "1171/1171 [==============================] - 651s 556ms/step - loss: 2.2989 - accuracy: 0.3440 - val_loss: 2.3480 - val_accuracy: 0.3342\n",
      "Epoch 16/40\n",
      "1170/1171 [============================>.] - ETA: 0s - loss: 2.2813 - accuracy: 0.3476\n",
      "Epoch 00016: val_loss improved from 2.34805 to 2.33828, saving model to models/oore1/16-2.34.hdf5\n",
      "1171/1171 [==============================] - 650s 555ms/step - loss: 2.2813 - accuracy: 0.3476 - val_loss: 2.3383 - val_accuracy: 0.3361\n",
      "Epoch 17/40\n",
      "1170/1171 [============================>.] - ETA: 0s - loss: 2.2636 - accuracy: 0.3514\n",
      "Epoch 00017: val_loss improved from 2.33828 to 2.32638, saving model to models/oore1/17-2.33.hdf5\n",
      "1171/1171 [==============================] - 648s 553ms/step - loss: 2.2636 - accuracy: 0.3514 - val_loss: 2.3264 - val_accuracy: 0.3386\n",
      "Epoch 18/40\n",
      "1170/1171 [============================>.] - ETA: 0s - loss: 2.2476 - accuracy: 0.3546\n",
      "Epoch 00018: val_loss improved from 2.32638 to 2.31695, saving model to models/oore1/18-2.32.hdf5\n",
      "1171/1171 [==============================] - 653s 557ms/step - loss: 2.2476 - accuracy: 0.3546 - val_loss: 2.3169 - val_accuracy: 0.3404\n",
      "Epoch 19/40\n",
      "1170/1171 [============================>.] - ETA: 0s - loss: 2.2328 - accuracy: 0.3577\n",
      "Epoch 00019: val_loss improved from 2.31695 to 2.31139, saving model to models/oore1/19-2.31.hdf5\n",
      "1171/1171 [==============================] - 650s 555ms/step - loss: 2.2328 - accuracy: 0.3578 - val_loss: 2.3114 - val_accuracy: 0.3420\n",
      "Epoch 20/40\n",
      "1170/1171 [============================>.] - ETA: 0s - loss: 2.2184 - accuracy: 0.3608\n",
      "Epoch 00020: val_loss improved from 2.31139 to 2.30622, saving model to models/oore1/20-2.31.hdf5\n",
      "1171/1171 [==============================] - 652s 557ms/step - loss: 2.2184 - accuracy: 0.3608 - val_loss: 2.3062 - val_accuracy: 0.3430\n",
      "Epoch 21/40\n",
      "1170/1171 [============================>.] - ETA: 0s - loss: 2.2054 - accuracy: 0.3637\n",
      "Epoch 00021: val_loss improved from 2.30622 to 2.30150, saving model to models/oore1/21-2.30.hdf5\n",
      "1171/1171 [==============================] - 650s 555ms/step - loss: 2.2053 - accuracy: 0.3637 - val_loss: 2.3015 - val_accuracy: 0.3442\n",
      "Epoch 22/40\n",
      "1170/1171 [============================>.] - ETA: 0s - loss: 2.1924 - accuracy: 0.3663\n",
      "Epoch 00022: val_loss improved from 2.30150 to 2.29593, saving model to models/oore1/22-2.30.hdf5\n",
      "1171/1171 [==============================] - 653s 557ms/step - loss: 2.1924 - accuracy: 0.3663 - val_loss: 2.2959 - val_accuracy: 0.3457\n",
      "Epoch 23/40\n",
      "1170/1171 [============================>.] - ETA: 0s - loss: 2.1805 - accuracy: 0.3689\n",
      "Epoch 00023: val_loss improved from 2.29593 to 2.29485, saving model to models/oore1/23-2.29.hdf5\n",
      "1171/1171 [==============================] - 651s 556ms/step - loss: 2.1805 - accuracy: 0.3689 - val_loss: 2.2948 - val_accuracy: 0.3463\n",
      "Epoch 24/40\n",
      "1170/1171 [============================>.] - ETA: 0s - loss: 2.1695 - accuracy: 0.3713\n",
      "Epoch 00024: val_loss improved from 2.29485 to 2.28938, saving model to models/oore1/24-2.29.hdf5\n",
      "1171/1171 [==============================] - 650s 555ms/step - loss: 2.1695 - accuracy: 0.3713 - val_loss: 2.2894 - val_accuracy: 0.3470\n",
      "Epoch 25/40\n",
      "1170/1171 [============================>.] - ETA: 0s - loss: 2.1579 - accuracy: 0.3738\n",
      "Epoch 00025: val_loss improved from 2.28938 to 2.28905, saving model to models/oore1/25-2.29.hdf5\n",
      "1171/1171 [==============================] - 651s 556ms/step - loss: 2.1579 - accuracy: 0.3738 - val_loss: 2.2890 - val_accuracy: 0.3474\n",
      "Epoch 26/40\n",
      "1170/1171 [============================>.] - ETA: 0s - loss: 2.1477 - accuracy: 0.3761\n",
      "Epoch 00026: val_loss improved from 2.28905 to 2.28671, saving model to models/oore1/26-2.29.hdf5\n",
      "1171/1171 [==============================] - 651s 556ms/step - loss: 2.1477 - accuracy: 0.3761 - val_loss: 2.2867 - val_accuracy: 0.3484\n",
      "Epoch 27/40\n",
      "1170/1171 [============================>.] - ETA: 0s - loss: 2.1374 - accuracy: 0.3782\n",
      "Epoch 00027: val_loss improved from 2.28671 to 2.28634, saving model to models/oore1/27-2.29.hdf5\n",
      "1171/1171 [==============================] - 654s 558ms/step - loss: 2.1375 - accuracy: 0.3782 - val_loss: 2.2863 - val_accuracy: 0.3478\n",
      "Epoch 28/40\n",
      "1170/1171 [============================>.] - ETA: 0s - loss: 2.1278 - accuracy: 0.3802\n",
      "Epoch 00028: val_loss improved from 2.28634 to 2.28402, saving model to models/oore1/28-2.28.hdf5\n",
      "1171/1171 [==============================] - 651s 556ms/step - loss: 2.1278 - accuracy: 0.3802 - val_loss: 2.2840 - val_accuracy: 0.3489\n",
      "Epoch 29/40\n",
      "1170/1171 [============================>.] - ETA: 0s - loss: 2.1185 - accuracy: 0.3824\n",
      "Epoch 00029: val_loss did not improve from 2.28402\n",
      "1171/1171 [==============================] - 650s 555ms/step - loss: 2.1185 - accuracy: 0.3824 - val_loss: 2.2851 - val_accuracy: 0.3483\n",
      "Epoch 30/40\n",
      "1170/1171 [============================>.] - ETA: 0s - loss: 2.1098 - accuracy: 0.3842\n",
      "Epoch 00030: val_loss did not improve from 2.28402\n",
      "1171/1171 [==============================] - 652s 556ms/step - loss: 2.1098 - accuracy: 0.3842 - val_loss: 2.2868 - val_accuracy: 0.3488\n",
      "Epoch 31/40\n",
      "1170/1171 [============================>.] - ETA: 0s - loss: 2.1012 - accuracy: 0.3861\n",
      "Epoch 00031: val_loss did not improve from 2.28402\n",
      "1171/1171 [==============================] - 654s 558ms/step - loss: 2.1012 - accuracy: 0.3861 - val_loss: 2.2870 - val_accuracy: 0.3486\n",
      "Epoch 32/40\n",
      "1170/1171 [============================>.] - ETA: 0s - loss: 2.0930 - accuracy: 0.3879\n",
      "Epoch 00032: val_loss did not improve from 2.28402\n",
      "1171/1171 [==============================] - 654s 558ms/step - loss: 2.0930 - accuracy: 0.3879 - val_loss: 2.2885 - val_accuracy: 0.3491\n",
      "Epoch 33/40\n",
      "1170/1171 [============================>.] - ETA: 0s - loss: 2.0851 - accuracy: 0.3896\n",
      "Epoch 00033: val_loss did not improve from 2.28402\n",
      "1171/1171 [==============================] - 651s 556ms/step - loss: 2.0851 - accuracy: 0.3896 - val_loss: 2.2899 - val_accuracy: 0.3488\n"
     ]
    },
    {
     "ename": "NameError",
     "evalue": "name 'history' is not defined",
     "output_type": "error",
     "traceback": [
      "\u001b[0;31m---------------------------------------------------------------------------\u001b[0m",
      "\u001b[0;31mNameError\u001b[0m                                 Traceback (most recent call last)",
      "\u001b[0;32m<ipython-input-7-21c440fe0a23>\u001b[0m in \u001b[0;36m<module>\u001b[0;34m\u001b[0m\n\u001b[1;32m      7\u001b[0m \u001b[0mmodel2\u001b[0m\u001b[0;34m.\u001b[0m\u001b[0msave_weights\u001b[0m\u001b[0;34m(\u001b[0m\u001b[0;34mf'models/oore2/model{epochs}e{hidden_state}ss{lstm_layers}l.h5'\u001b[0m\u001b[0;34m)\u001b[0m\u001b[0;34m\u001b[0m\u001b[0;34m\u001b[0m\u001b[0m\n\u001b[1;32m      8\u001b[0m \u001b[0;32mwith\u001b[0m \u001b[0mopen\u001b[0m\u001b[0;34m(\u001b[0m\u001b[0;34mf'models/oore2/history{epochs}e.json'\u001b[0m\u001b[0;34m,\u001b[0m \u001b[0;34m'w'\u001b[0m\u001b[0;34m)\u001b[0m \u001b[0;32mas\u001b[0m \u001b[0mf\u001b[0m\u001b[0;34m:\u001b[0m\u001b[0;34m\u001b[0m\u001b[0;34m\u001b[0m\u001b[0m\n\u001b[0;32m----> 9\u001b[0;31m     \u001b[0mjson\u001b[0m\u001b[0;34m.\u001b[0m\u001b[0mdump\u001b[0m\u001b[0;34m(\u001b[0m\u001b[0mstr\u001b[0m\u001b[0;34m(\u001b[0m\u001b[0mhistory\u001b[0m\u001b[0;34m.\u001b[0m\u001b[0mhistory\u001b[0m\u001b[0;34m)\u001b[0m\u001b[0;34m,\u001b[0m \u001b[0mf\u001b[0m\u001b[0;34m)\u001b[0m\u001b[0;34m\u001b[0m\u001b[0;34m\u001b[0m\u001b[0m\n\u001b[0m",
      "\u001b[0;31mNameError\u001b[0m: name 'history' is not defined"
     ]
    }
   ],
   "source": [
    "opt = tf.keras.optimizers.Adam(learning_rate=0.0005)\n",
    "model2.compile(optimizer=opt, loss='sparse_categorical_crossentropy', metrics=['accuracy'])\n",
    "checkpoint = tf.keras.callbacks.ModelCheckpoint(\"models/oore1/{epoch:02d}-{val_loss:.2f}.hdf5\", monitor='val_loss', verbose=2, save_best_only=True, save_weights_only=True)\n",
    "stop = tf.keras.callbacks.EarlyStopping(monitor='val_loss', min_delta=0, patience=5)\n",
    "epochs=40\n",
    "history2 = model2.fit_generator(training_generator, validation_data=val_gen, epochs=epochs, callbacks=[checkpoint, stop])\n",
    "# model2.save_weights(f'models/oore2/model{epochs}e{hidden_state}ss{lstm_layers}l.h5')\n",
    "with open(f'models/oore2/history{epochs}e.json', 'w') as f:\n",
    "    json.dump(str(history2.history), f)\n"
   ]
  },
  {
   "cell_type": "code",
   "execution_count": 69,
   "metadata": {},
   "outputs": [
    {
     "data": {
      "text/plain": [
       "<module 'modules.models' from '/home/ubuntu/storage/380-music-representation/modules/models.py'>"
      ]
     },
     "execution_count": 69,
     "metadata": {},
     "output_type": "execute_result"
    }
   ],
   "source": [
    "# This works just like this:\n",
    "import modules.models as models\n",
    "reload(models)"
   ]
  },
  {
   "cell_type": "code",
   "execution_count": 9,
   "metadata": {},
   "outputs": [
    {
     "name": "stdout",
     "output_type": "stream",
     "text": [
      "Model: \"3layerLSTM\"\n",
      "_________________________________________________________________\n",
      "Layer (type)                 Output Shape              Param #   \n",
      "=================================================================\n",
      "input_2 (InputLayer)         [(1, 256, 1)]             0         \n",
      "_________________________________________________________________\n",
      "lambda_1 (Lambda)            (1, 256, 333)             0         \n",
      "_________________________________________________________________\n",
      "lstm_3 (LSTM)                (1, 256, 512)             1732608   \n",
      "_________________________________________________________________\n",
      "lstm_4 (LSTM)                (1, 256, 512)             2099200   \n",
      "_________________________________________________________________\n",
      "lstm_5 (LSTM)                (1, 256, 512)             2099200   \n",
      "_________________________________________________________________\n",
      "dense_1 (Dense)              (1, 256, 333)             170829    \n",
      "=================================================================\n",
      "Total params: 6,101,837\n",
      "Trainable params: 6,101,837\n",
      "Non-trainable params: 0\n",
      "_________________________________________________________________\n"
     ]
    }
   ],
   "source": [
    "# tf.train.latest_checkpoint('weights\\first_attempt')\n",
    "hidden_state = 512\n",
    "lstm_layers = 3\n",
    "prediction_model = models.create_ooremodel(batch_size=1, stateful=True, hidden_state_size=hidden_state, lstm_layers=lstm_layers)"
   ]
  },
  {
   "cell_type": "code",
   "execution_count": 11,
   "metadata": {},
   "outputs": [],
   "source": [
    "# prediction_model.load_weights('weights/note_bin/model2_60epochs512state3layer.h5')\n",
    "prediction_model.load_weights('models/oore2/28-2.28.hdf5')\n",
    "for temperature in [0.0512, 0.0513]:\n",
    "    input_events = pm2oore(pretty_midi.PrettyMIDI('midi/starts/spa2.mid'))\n",
    "    new_seq_length = 600\n",
    "    new_seq = models.generate_ooremusic(prediction_model, new_seq_length, temperature=temperature, input_events=input_events)\n",
    "    ns = [int(event) for event in new_seq]\n",
    "    pm = oore2pm(ns)\n",
    "    pm.write(f'midi/oore/2_notes-{new_seq_length}{temperature}.mid')"
   ]
  },
  {
   "cell_type": "code",
   "execution_count": 9,
   "metadata": {},
   "outputs": [],
   "source": [
    "note_bin2pm(input_notes).write('midi/hellad.mid')"
   ]
  },
  {
   "cell_type": "code",
   "execution_count": 4,
   "metadata": {},
   "outputs": [
    {
     "data": {
      "image/png": "[encoded data removed]",
      "text/plain": [
       "<Figure size 432x288 with 1 Axes>"
      ]
     },
     "metadata": {
      "needs_background": "light"
     },
     "output_type": "display_data"
    }
   ],
   "source": [
    "import ast\n",
    "with open(f'models/nbmodel3/history120eStr.json', 'r') as f:\n",
    "    hist = ast.literal_eval(json.load(f))\n",
    "metric = 'loss'\n",
    "# print(hist)\n",
    "plt.plot(hist[metric])\n",
    "plt.plot(hist['val_' + metric])\n",
    "plt.title('model ' + metric)\n",
    "plt.ylabel(metric)\n",
    "plt.xlabel('epoch')\n",
    "plt.legend(['train', 'val'], loc='upper left')\n",
    "plt.show()"
   ]
  },
  {
   "cell_type": "code",
   "execution_count": 8,
   "metadata": {},
   "outputs": [
    {
     "data": {
      "image/png": "[encoded data removed]",
      "text/plain": [
       "<Figure size 432x288 with 1 Axes>"
      ]
     },
     "metadata": {
      "needs_background": "light"
     },
     "output_type": "display_data"
    }
   ],
   "source": [
    "pm = \n",
    "metric = 'loss'\n",
    "# print(hist)\n",
    "plt.plot(hist['val_dense_1_' + metric])\n",
    "plt.plot(hist['val_dense_2_' + metric])\n",
    "plt.plot(hist['val_dense_3_' + metric])\n",
    "plt.plot(hist['val_dense_4_' + metric])\n",
    "plt.plot(hist['val_dense_5_' + metric])\n",
    "plt.plot(hist['val_dense_' + metric])\n",
    "plt.plot(hist['val_' + metric])\n",
    "plt.title('model ' + metric)\n",
    "plt.ylabel(metric)\n",
    "plt.xlabel('epoch')\n",
    "plt.legend(['train', 'val'], loc='upper left')\n",
    "plt.show()"
   ]
  },
  {
   "cell_type": "code",
   "execution_count": 6,
   "metadata": {},
   "outputs": [
    {
     "name": "stdout",
     "output_type": "stream",
     "text": [
      "[218, 237, 39, 27, 180, 238, 15, 237, 3, 203]\n"
     ]
    }
   ],
   "source": [
    "\n",
    "pm = pretty_midi.PrettyMIDI(f'midi/LisztNoPedal.mid')\n",
    "oo = pm2oore2(pm)\n",
    "print(oo[:10])\n",
    "pm2 = oore2pm2(oo)\n",
    "pm2.write('midi/LisztOore2Test20.mid')\n",
    "              "
   ]
  },
  {
   "cell_type": "code",
   "execution_count": 8,
   "metadata": {},
   "outputs": [
    {
     "name": "stdout",
     "output_type": "stream",
     "text": [
      "0\n",
      "2\n",
      "4\n",
      "6\n"
     ]
    }
   ],
   "source": [
    "for i in range(0,7,2):\n",
    "    print(i)"
   ]
  }
 ],
 "metadata": {
  "kernelspec": {
   "display_name": "Python 3",
   "language": "python",
   "name": "python3"
  },
  "language_info": {
   "codemirror_mode": {
    "name": "ipython",
    "version": 3
   },
   "file_extension": ".py",
   "mimetype": "text/x-python",
   "name": "python",
   "nbconvert_exporter": "python",
   "pygments_lexer": "ipython3",
   "version": "3.7.6"
  }
 },
 "nbformat": 4,
 "nbformat_minor": 4
}
